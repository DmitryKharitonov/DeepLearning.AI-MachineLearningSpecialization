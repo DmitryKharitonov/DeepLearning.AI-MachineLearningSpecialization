{
 "cells": [
  {
   "cell_type": "markdown",
   "metadata": {},
   "source": [
    "# Given\n",
    "\n",
    "A sample of categorical data:\n",
    "\n",
    "|   Ear Shape | Face Shape | Whiskers |   Cat (1-yes, 0-no)  |\n",
    "|:---------:|:-----------:|:---------:|:------:|\n",
    "|   Pointy   |   Round     |  Present  |    1   |\n",
    "|   Floppy   |  Not Round  |  Present  |    1   |\n",
    "|   Floppy   |  Round      |  Absent   |    0   |\n",
    "|   Pointy   |  Not Round  |  Present  |    0   |\n",
    "\n",
    "\n",
    "# Find \n",
    "\n",
    "Implement a classification tree:\n",
    "- one hot encode the features\n",
    "- find the feature to split (entropy)\n",
    "    - define impurity\n",
    "    - calculate information gain\n",
    "- calculate root\n",
    "- split further in left and right\n",
    "- stop splitting\n",
    "    - when node is 100% purity\n",
    "    - maximum depth of tree exceeds the defined level\n",
    "    - improvements in information gain is too small\n",
    "    - number of examples in the node is lower than predefined threshold"
   ]
  },
  {
   "cell_type": "markdown",
   "metadata": {},
   "source": [
    "# Solution"
   ]
  },
  {
   "cell_type": "code",
   "execution_count": 1,
   "metadata": {},
   "outputs": [],
   "source": [
    "import numpy as np"
   ]
  },
  {
   "cell_type": "code",
   "execution_count": 2,
   "metadata": {},
   "outputs": [
    {
     "data": {
      "text/plain": [
       "((10, 3), (10,))"
      ]
     },
     "execution_count": 2,
     "metadata": {},
     "output_type": "execute_result"
    }
   ],
   "source": [
    "x = np.array([[1, 1, 1], [0, 0, 1], [0, 1, 0], [1, 0, 1], [1, 1, 1], [1, 1, 0], [0, 0, 0], [1, 1, 0], [0, 1, 0], [0, 1, 0]])\n",
    "y = np.array([1, 1, 0, 0, 1, 1, 0, 1, 0, 0])\n",
    "\n",
    "x.shape, y.shape"
   ]
  },
  {
   "cell_type": "markdown",
   "metadata": {},
   "source": [
    "Entropy \n",
    "\n",
    "* in general for multi-class problems:\n",
    "$$H(X) = -\\sum_{i=1}^{n} p(x_i) \\log_{2}(p(x_i))$$\n",
    "\n",
    "* in binary classification simplifies to:\n",
    "$$H(p_1) = -p_1 \\text{log}_2(p_1) - (1- p_1) \\text{log}_2(1- p_1)$$\n",
    "where $p_1$ is the quantity of dogs (1s) in the dataset, and $p_0 = 1-p_1$ is the probability of cats"
   ]
  },
  {
   "cell_type": "code",
   "execution_count": 3,
   "metadata": {},
   "outputs": [],
   "source": [
    "def calculate_entropy(branch):\n",
    "    # In - inner branch with values inside = [0, 1, 1, 0, 1]\n",
    "    # Out - \n",
    "    #   entropy = dirtiness of a dataset. 0 - ideal, 1 - bad\n",
    "    #   p - weight\n",
    "\n",
    "    p = np.sum(branch) / len(branch)\n",
    "    \n",
    "    if p==1 or p==0:\n",
    "        entropy = 0\n",
    "    else:\n",
    "        entropy = - p * np.log2(p) - (1-p) * np.log2(1-p)\n",
    "    \n",
    "    return entropy, p"
   ]
  },
  {
   "cell_type": "markdown",
   "metadata": {},
   "source": [
    "Information gain\n",
    "\n",
    "* in mgeneral for multi-class:\n",
    "\n",
    "    $$\\text{Information Gain}(S, A) = \\text{Entropy}(S) - \\sum_{v \\in \\text{Values}(A)} \\frac{|S_v|}{|S|} \\cdot \\text{Entropy}(S_v)$$\n",
    "\n",
    "    , where \n",
    "    * $S$ = dataset, \n",
    "    * $A$ = attribute, \n",
    "    * $|S|$ - total number of instances in the dataset $S$,\n",
    "    * $|S_v|$ - subset of instances where attribute $A$ has value $v$\n",
    "    * $\\text{Values}(A)$ - possible values of attribute A \n",
    "    \n",
    "<p>\n",
    "\n",
    "* in binary classiciation simplifies to:\n",
    "\n",
    "$$\\text{Information Gain} = H(p_{root})- \\left(w_{\\text{left}}\\cdot H\\left(p_1^\\text{left}\\right) + w_{\\text{right}}\\cdot H\\left(p_1^\\text{right}\\right)\\right),$$"
   ]
  },
  {
   "cell_type": "code",
   "execution_count": 139,
   "metadata": {},
   "outputs": [],
   "source": [
    "def calculate_ig(parent, children = []):\n",
    "    \"\"\"\n",
    "    Function to calculate information gain\n",
    "    Parameters:\n",
    "    ----------\n",
    "    parent : list\n",
    "        List containing the parent dataset/groups\n",
    "    children : list, optional\n",
    "        List containing the children datasets/groups.\n",
    "        Default is an empty list.\n",
    "        \n",
    "    Returns:\n",
    "    ----------\n",
    "    IG : float\n",
    "        Information Gain as a measure of difference of entropy from parent to children.\n",
    "        \n",
    "    Unit Tests:\n",
    "    ------\n",
    "    >> calculate_ig(y, [y[x[:,0]==0],y[x[:,0]==1]])\n",
    "    Expected result = 0.2780719051126377\n",
    "\n",
    "    >> calculate_ig([0,0,0,0],[np.array([0]), np.array([0, 0, 0])])\n",
    "    Expected result = 0 \n",
    "\n",
    "    Note: \n",
    "    -----\n",
    "    This function requires an external function 'calculate_entropy(child)' to work, where 'child'\n",
    "    is a member of children dataset.\n",
    "    \"\"\"\n",
    "\n",
    "    H_root, _ = calculate_entropy(parent)\n",
    "    sum = 0\n",
    "    for child in children:\n",
    "        H, w = calculate_entropy(child)\n",
    "        sum += H * w\n",
    "    IG = H_root - sum\n",
    "    return IG "
   ]
  },
  {
   "cell_type": "code",
   "execution_count": 140,
   "metadata": {},
   "outputs": [],
   "source": [
    "def choose_best_feature(x, y, processed_nodes = []):\n",
    "    \"\"\"\n",
    "    Function to determine the best feature to split the data on.\n",
    "\n",
    "    Parameters:\n",
    "    ----------\n",
    "    x : numpy array\n",
    "        2D array of input features.\n",
    "    y : numpy array\n",
    "        1D array of target variable values.\n",
    "    processed_nodes : list, optional\n",
    "        List of node indices that have already been processed. Default is an empty list.\n",
    "\n",
    "    Returns:\n",
    "    ----------\n",
    "    int\n",
    "        Index of the feature with the highest information gain.\n",
    "\n",
    "    Usage:\n",
    "    ------\n",
    "    x = np.array([[0,1,0],[0,0,0],[0,1,0],[0,1,0]])\n",
    "    y = np.array([0, 0, 0, 0])\n",
    "    indices_of_best_feature = choose_best_feature(x, y, [])\n",
    "    Expected Result: 0.2780719051126377\n",
    "\n",
    "    Note:\n",
    "    ------\n",
    "    This function leverages an external function named 'calculate_ig(parent, children)' to calculate the information gain of a split.\n",
    "    \"\"\"\n",
    "\n",
    "    ig = []\n",
    "\n",
    "    for feature_id in range(x.shape[1]):\n",
    "        if feature_id not in processed_nodes:\n",
    "            left_subset = y[x[:,feature_id]==0]\n",
    "            right_subset = y[x[:,feature_id]==1]\n",
    "            feature_ig = calculate_ig(y, [left_subset, right_subset])\n",
    "            ig.append(feature_ig)\n",
    "        else:\n",
    "            ig.append(0)\n",
    "\n",
    "    print(f\"ig = {ig}\")\n",
    "\n",
    "    return(np.argmax(ig))\n"
   ]
  },
  {
   "cell_type": "markdown",
   "metadata": {},
   "source": [
    "Tree and node classes"
   ]
  },
  {
   "cell_type": "code",
   "execution_count": 76,
   "metadata": {},
   "outputs": [],
   "source": [
    "class TreeNode():\n",
    "\n",
    "    left_feature_id = -1\n",
    "    right_feature_id = -1\n",
    "\n",
    "    #rows = []\n",
    "    path = []\n",
    "\n",
    "    left_feature = TreeNode()\n",
    "    right_feature = TreeNode()\n",
    "\n",
    "    def __repr__(self):\n",
    "        attrs = vars(self)\n",
    "        return ', '.join(f\"{key}={value}\" for key, value in attrs.items())\n",
    "\n",
    "\n",
    "class Tree():\n",
    "    root_feature = -1\n",
    "    node = TreeNode()"
   ]
  },
  {
   "cell_type": "markdown",
   "metadata": {},
   "source": [
    "Recursion"
   ]
  },
  {
   "cell_type": "code",
   "execution_count": 134,
   "metadata": {},
   "outputs": [],
   "source": [
    "def process(current = TreeNode(), x = [[]], y = [], path = []):\n",
    "\n",
    "    # figure parent\n",
    "    parent = path[-1]\n",
    "\n",
    "    # left and right subsets\n",
    "    x_left = x[x[:,parent]==0]\n",
    "    x_right = x[x[:,parent]==1]\n",
    "\n",
    "    y_left = y[x[:,parent]==0]\n",
    "    y_right = y[x[:,parent]==1]\n",
    "\n",
    "    current.path = path\n",
    "    current.left_branch = y_left\n",
    "    current.right_branch = y_right\n",
    "    \n",
    "    if len(y_left)<=1 or len(y_right)<=1:\n",
    "\n",
    "        current.left_feature_id = \"bottom\"\n",
    "        current.right_feature_id = \"bottom\"\n",
    "\n",
    "        print(current)\n",
    "\n",
    "        return 0\n",
    "\n",
    "    else:\n",
    "\n",
    "        best_split_left = choose_best_feature(x_left, y_left, processed_nodes=path)\n",
    "        best_split_right = choose_best_feature(x_right, y_right, processed_nodes=path)\n",
    "\n",
    "        current.left_feature_id = best_split_left\n",
    "        current.right_feature_id = best_split_right\n",
    "\n",
    "        print(current)\n",
    "\n",
    "    process(current.left_feature, x = x_left, y = y_left, path = path + [best_split_left])\n",
    "    process(current.left_feature, x_right, y_right, path + [best_split_right])\n"
   ]
  },
  {
   "cell_type": "markdown",
   "metadata": {},
   "source": [
    "# Answer"
   ]
  },
  {
   "cell_type": "code",
   "execution_count": 142,
   "metadata": {},
   "outputs": [
    {
     "name": "stdout",
     "output_type": "stream",
     "text": [
      "ig = [0.2780719051126377, 0.13091388234321688, 0.08544279530415388]\n",
      "root = 0\n",
      "ig = [0, 0.22192809488736231, 0.7219280948873623]\n",
      "ig = [0, 0.7219280948873623, 0.10973087218436928]\n",
      "left_feature_id=2, right_feature_id=1, path=[0], left_branch=[1 0 0 0 0], right_branch=[1 0 1 1 1]\n",
      "left_feature_id=bottom, right_feature_id=bottom, path=[0, 2], left_branch=[0 0 0 0], right_branch=[1]\n",
      "left_feature_id=bottom, right_feature_id=bottom, path=[0, 1], left_branch=[0], right_branch=[1 1 1 1]\n"
     ]
    }
   ],
   "source": [
    "tree = Tree()\n",
    "\n",
    "# Step 0\n",
    "tree.root_feature = choose_best_feature(x, y)\n",
    "\n",
    "print(f\"root = {tree.root_feature}\")\n",
    "\n",
    "# Recursion\n",
    "process(tree.node, x, y, path=[tree.root_feature,])"
   ]
  },
  {
   "cell_type": "code",
   "execution_count": null,
   "metadata": {},
   "outputs": [],
   "source": []
  }
 ],
 "metadata": {
  "kernelspec": {
   "display_name": ".venv",
   "language": "python",
   "name": "python3"
  },
  "language_info": {
   "codemirror_mode": {
    "name": "ipython",
    "version": 3
   },
   "file_extension": ".py",
   "mimetype": "text/x-python",
   "name": "python",
   "nbconvert_exporter": "python",
   "pygments_lexer": "ipython3",
   "version": "3.11.6"
  }
 },
 "nbformat": 4,
 "nbformat_minor": 2
}

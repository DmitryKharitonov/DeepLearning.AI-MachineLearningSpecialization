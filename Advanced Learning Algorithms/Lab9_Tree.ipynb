{
 "cells": [
  {
   "cell_type": "markdown",
   "metadata": {},
   "source": [
    "# Given\n",
    "\n",
    "A sample of categorical data:\n",
    "\n",
    "|   Ear Shape | Face Shape | Whiskers |   Cat (1-yes, 0-no)  |\n",
    "|:---------:|:-----------:|:---------:|:------:|\n",
    "|   Pointy   |   Round     |  Present  |    1   |\n",
    "|   Floppy   |  Not Round  |  Present  |    1   |\n",
    "|   Floppy   |  Round      |  Absent   |    0   |\n",
    "|   Pointy   |  Not Round  |  Present  |    0   |\n",
    "\n",
    "\n",
    "# Find \n",
    "\n",
    "one hot encode the features and build the decision tree:\n",
    "- find the feature to split (entropy)\n",
    "    - define impurity\n",
    "    - calculate information gain\n",
    "- split recursively\n",
    "- stop splitting\n",
    "    - when node is 100% purity\n",
    "    - maximum depth of tree exceeds the defined level\n",
    "    - improvements in information gain is too small\n",
    "    - number of examples in the node is lower than predefined threshold"
   ]
  },
  {
   "cell_type": "markdown",
   "metadata": {},
   "source": [
    "# Solution"
   ]
  },
  {
   "cell_type": "code",
   "execution_count": 54,
   "metadata": {},
   "outputs": [],
   "source": [
    "import numpy as np"
   ]
  },
  {
   "cell_type": "code",
   "execution_count": 55,
   "metadata": {},
   "outputs": [
    {
     "data": {
      "text/plain": [
       "((10, 3), (10,))"
      ]
     },
     "execution_count": 55,
     "metadata": {},
     "output_type": "execute_result"
    }
   ],
   "source": [
    "x = np.array([[1,1,1],[1,0,1],[1,0,0],[1,0,0],[1,1,1],[0,1,1],[0,0,0],[1,0,1],[0,1,0],[1,0,0]])\n",
    "y = np.array([1,1,0,0,1,0,0,1,1,0])\n",
    "\n",
    "x.shape, y.shape"
   ]
  },
  {
   "cell_type": "markdown",
   "metadata": {},
   "source": [
    "Entropy \n",
    "\n",
    "* in general for multi-class problems:\n",
    "$$H(X) = -\\sum_{i=1}^{n} p(x_i) \\log_{2}(p(x_i))$$\n",
    "\n",
    "* in binary classification simplifies to:\n",
    "$$H(p_1) = -p_1 \\text{log}_2(p_1) - (1- p_1) \\text{log}_2(1- p_1)$$\n",
    "where $p_1$ is the quantity of dogs (1s) in the dataset, and $p_0 = 1-p_1$ is the probability of cats"
   ]
  },
  {
   "cell_type": "code",
   "execution_count": 57,
   "metadata": {},
   "outputs": [],
   "source": [
    "def calculate_entropy(branch):\n",
    "    # In - inner branch with values inside = [0, 1, 1, 0, 1]\n",
    "    # Out - \n",
    "    #   entropy = dirtiness of a dataset. 0 - ideal, 1 - bad\n",
    "    #   p - weight\n",
    "\n",
    "    p = np.sum(branch) / len(branch)\n",
    "    \n",
    "    if p==1 or p==0:\n",
    "        entropy = 0\n",
    "    else:\n",
    "        entropy = - p * np.log2(p) - (1-p) * np.log2(1-p)\n",
    "    \n",
    "    return entropy, p"
   ]
  },
  {
   "cell_type": "markdown",
   "metadata": {},
   "source": [
    "Information gain\n",
    "\n",
    "* in mgeneral for multi-class:\n",
    "\n",
    "    $$\\text{Information Gain}(S, A) = \\text{Entropy}(S) - \\sum_{v \\in \\text{Values}(A)} \\frac{|S_v|}{|S|} \\cdot \\text{Entropy}(S_v)$$\n",
    "\n",
    "    , where \n",
    "    * $S$ = dataset, \n",
    "    * $A$ = attribute, \n",
    "    * $|S|$ - total number of instances in the dataset $S$,\n",
    "    * $|S_v|$ - subset of instances where attribute $A$ has value $v$\n",
    "    * $\\text{Values}(A)$ - possible values of attribute A \n",
    "    \n",
    "<p>\n",
    "\n",
    "* in binary classiciation simplifies to:\n",
    "\n",
    "$$\\text{Information Gain} = H(p_{root})- \\left(w_{\\text{left}}\\cdot H\\left(p_1^\\text{left}\\right) + w_{\\text{right}}\\cdot H\\left(p_1^\\text{right}\\right)\\right),$$"
   ]
  },
  {
   "cell_type": "code",
   "execution_count": 71,
   "metadata": {},
   "outputs": [],
   "source": [
    "def calculate_ig(root, left_branch, right_branch):\n",
    "\n",
    "    H_root, _ = calculate_entropy(root)\n",
    "\n",
    "    H_left, W_left = calculate_entropy(left_branch)\n",
    "    H_right, W_right = calculate_entropy(right_branch)\n",
    "\n",
    "    IG = H_root - (W_left * H_left + W_right * H_right)\n",
    "\n",
    "    return IG"
   ]
  },
  {
   "cell_type": "code",
   "execution_count": 144,
   "metadata": {},
   "outputs": [],
   "source": [
    "def split_feature(x, feature_to_split_on):\n",
    "    # input - x - dataset\n",
    "    #   feature = 2 (ex)\n",
    "    # output - x_left, x_right, y_left, y_right\n",
    "\n",
    "    y_left_idx = np.where(x[:,feature_to_split_on]==0)\n",
    "    y_right_idx = np.where(x[:,feature_to_split_on]==1)\n",
    "\n",
    "    x_left = x[y_left_idx]\n",
    "    y_left = y[y_left_idx]\n",
    "\n",
    "    x_right = x[y_right_idx]\n",
    "    y_right = y[y_right_idx]\n",
    "\n",
    "    return x_left, x_right, y_left, y_right"
   ]
  },
  {
   "cell_type": "code",
   "execution_count": 149,
   "metadata": {},
   "outputs": [],
   "source": [
    "def build_tree(x, y, tree = []):\n",
    "\n",
    "    # check exit criteria\n",
    "\n",
    "    if x.shape[1] == len(tree):\n",
    "        print(f\"reached bottom, tree = {tree}. branching up\")\n",
    "        return tree\n",
    "\n",
    "    # calculate IG for each feature\n",
    "\n",
    "    ig = []\n",
    "\n",
    "    for feature in range(x.shape[1]):\n",
    "        if feature not in tree:\n",
    "\n",
    "            left_branch = y[x[:,feature]==0]\n",
    "            right_branch = y[x[:,feature]==1]\n",
    "            ig.append(calculate_ig(y, left_branch, right_branch))\n",
    "        \n",
    "        else:\n",
    "            ig.append(0)\n",
    "\n",
    "    # pick the feature with max IG\n",
    "\n",
    "    max_ig_feature = np.argmax(ig)\n",
    "    print(f\"{ig} -> {max_ig_feature}\")\n",
    "\n",
    "    tree.append(max_ig_feature)\n",
    "\n",
    "    # split feature\n",
    "\n",
    "    x_left, x_right, y_left, y_right = split_feature(x, max_ig_feature)\n",
    "    print(f\"xy_left {np.c_[x_left, y_left]}, \\n xy_right {np.c_[x_right, y_right]}\")\n",
    "\n",
    "    # adjut the root and repeeat\n",
    "\n",
    "    print(f\"branching left\")\n",
    "    build_tree(x_left, y_left, tree)\n",
    "    print(f\"branching right\")\n",
    "    build_tree(x_right, y_right, tree)\n",
    "\n",
    "    return tree"
   ]
  },
  {
   "cell_type": "code",
   "execution_count": 150,
   "metadata": {},
   "outputs": [
    {
     "name": "stdout",
     "output_type": "stream",
     "text": [
      "[0.13091388234321688, 0.08544279530415388, 0.2780719051126377] -> 2\n",
      "xy_left [[1 0 0 0]\n",
      " [1 0 0 0]\n",
      " [0 0 0 0]\n",
      " [0 1 0 1]\n",
      " [1 0 0 0]], \n",
      " xy_right [[1 1 1 1]\n",
      " [1 0 1 1]\n",
      " [1 1 1 1]\n",
      " [0 1 1 0]\n",
      " [1 0 1 1]]\n",
      "branching left\n",
      "[0.22192809488736231, 0.7219280948873623, 0] -> 1\n",
      "xy_left [[1 0 0 1]\n",
      " [1 0 0 1]\n",
      " [0 0 0 0]\n",
      " [1 0 0 1]], \n",
      " xy_right [[0 1 0 0]]\n",
      "branching left\n",
      "[0.8112781244591328, 0, 0] -> 0\n",
      "xy_left [[0 0 0 0]], \n",
      " xy_right [[1 0 0 1]\n",
      " [1 0 0 1]\n",
      " [1 0 0 0]]\n",
      "branching left\n",
      "reached bottom, tree = [2, 1, 0]\n",
      "branching right\n",
      "reached bottom, tree = [2, 1, 0]\n",
      "branching right\n",
      "reached bottom, tree = [2, 1, 0]\n",
      "branching right\n",
      "reached bottom, tree = [2, 1, 0]\n"
     ]
    },
    {
     "data": {
      "text/plain": [
       "[2, 1, 0]"
      ]
     },
     "execution_count": 150,
     "metadata": {},
     "output_type": "execute_result"
    }
   ],
   "source": [
    "build_tree(x, y)"
   ]
  },
  {
   "cell_type": "code",
   "execution_count": 16,
   "metadata": {},
   "outputs": [
    {
     "data": {
      "text/plain": [
       "-0.0008210390373643042"
      ]
     },
     "execution_count": 16,
     "metadata": {},
     "output_type": "execute_result"
    }
   ],
   "source": [
    "0.0001*np.log(0.0001) - (1-0.0001)*np.log(1 - 0.0001)"
   ]
  },
  {
   "cell_type": "code",
   "execution_count": null,
   "metadata": {},
   "outputs": [],
   "source": []
  }
 ],
 "metadata": {
  "kernelspec": {
   "display_name": ".venv",
   "language": "python",
   "name": "python3"
  },
  "language_info": {
   "codemirror_mode": {
    "name": "ipython",
    "version": 3
   },
   "file_extension": ".py",
   "mimetype": "text/x-python",
   "name": "python",
   "nbconvert_exporter": "python",
   "pygments_lexer": "ipython3",
   "version": "3.11.6"
  }
 },
 "nbformat": 4,
 "nbformat_minor": 2
}

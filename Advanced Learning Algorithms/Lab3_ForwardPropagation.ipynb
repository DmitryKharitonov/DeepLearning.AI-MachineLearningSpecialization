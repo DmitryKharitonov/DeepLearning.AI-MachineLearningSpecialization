{
 "cells": [
  {
   "cell_type": "markdown",
   "metadata": {},
   "source": [
    "# Given\n",
    "\n",
    "A dataset of a good coffee roast attributes (temperature, duration)\n",
    "\n",
    "| x1 - Temperature (C)     | x2 - Duration (min) | y - Quality (1-good, 0-bad) |\n",
    "| ----------------| ------------------------ | ------------------------ |\n",
    "| 185.31    | 12.69 | 0 |\n",
    "| 259.92    | 11.86 | 1 |\n",
    "| ...    | ... | ... |\n",
    "\n",
    "# Find\n",
    "\n",
    "Imitate forward propagation using Numpy and compare weights with TensorFlow model in previous Lab\n",
    "\n",
    "TensorFlow model parameters:\n",
    "   - Activation = sigmoid\n",
    "   - Optimizator = Adam(learning_rate = 0.01)\n",
    "   - Loss = BinaryCrossentropy\n",
    "   - 2 sigmoid layers [x3->x1]\n",
    "   - Epochs = 10\n",
    "   - Forward and back propagation (theory is discussed later)\n",
    "\n",
    "Copy weights from previous Lab and make sure the prediction complies\n",
    "\n",
    "| x1 - Temperature     | x2 - Duration | y - Quality |\n",
    "| ----------------| ------------------------ | ------------------------ |\n",
    "| 200    | 13.9 | 1 |\n",
    "| 200    | 17 | 0 |"
   ]
  },
  {
   "cell_type": "code",
   "execution_count": null,
   "metadata": {},
   "outputs": [],
   "source": []
  }
 ],
 "metadata": {
  "language_info": {
   "name": "python"
  }
 },
 "nbformat": 4,
 "nbformat_minor": 2
}

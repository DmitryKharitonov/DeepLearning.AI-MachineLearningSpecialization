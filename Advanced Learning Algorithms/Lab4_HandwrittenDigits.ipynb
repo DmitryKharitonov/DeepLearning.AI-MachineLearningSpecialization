{
 "cells": [
  {
   "cell_type": "markdown",
   "metadata": {},
   "source": [
    "# Given\n",
    "\n",
    "MNIST - a prerpocessed dataset of handwritten digits from 0 to 1, decoded in a matrix 20x20 flattened into 400 attributes.\n",
    "\n",
    "Flattened preprocessed dataset:\n",
    "\n",
    "| x1   | x2    | ... | x400 | y - Written number |\n",
    "| ----------------| ------------------------ | ------------------------ | ------------------------ | ------------------------ |\n",
    "| 3 | 1 | ...   | 0 | 0 |\n",
    "| 1    | 0 | ...    | 1 | 1 |\n",
    "| ...    | ... | ...    | ... | ... |\n",
    "\n",
    "\n",
    "# Find\n",
    "\n",
    "Using TensorFlow model and calculate the weights. Use these weights to replicate forward propagation in numpy.\n",
    "Prove both models function the same by predicting similar values.\n",
    "\n",
    "\n",
    "Use these TensorFlow model parameters:\n",
    "   - Activation = sigmoid\n",
    "   - Optimizator = Adam(learning_rate = 0.001)\n",
    "   - Loss = BinaryCrossentropy\n",
    "   - 2 sigmoid layers [x25->x15->x1]\n",
    "   - Epochs = 10\n",
    "   - Forward and back propagation (theory is discussed later)"
   ]
  },
  {
   "cell_type": "markdown",
   "metadata": {},
   "source": [
    "# Solution"
   ]
  },
  {
   "cell_type": "code",
   "execution_count": 94,
   "metadata": {},
   "outputs": [],
   "source": [
    "import numpy as np\n",
    "import matplotlib.pyplot as plt\n",
    "import tensorflow as tf"
   ]
  },
  {
   "cell_type": "markdown",
   "metadata": {},
   "source": [
    "Inputs"
   ]
  },
  {
   "cell_type": "code",
   "execution_count": 104,
   "metadata": {},
   "outputs": [
    {
     "data": {
      "text/plain": [
       "((1000, 400), (1000, 1))"
      ]
     },
     "execution_count": 104,
     "metadata": {},
     "output_type": "execute_result"
    }
   ],
   "source": [
    "x = np.load(\"handwritten_X.npy\")\n",
    "y = np.load(\"handwritten_Y.npy\")\n",
    "\n",
    "x = x[:1000,:] # only 0 and 1\n",
    "y = y[:1000,:]\n",
    "\n",
    "x.shape, y.shape"
   ]
  },
  {
   "cell_type": "markdown",
   "metadata": {},
   "source": [
    "Examples"
   ]
  },
  {
   "cell_type": "code",
   "execution_count": 134,
   "metadata": {},
   "outputs": [
    {
     "data": {
      "text/plain": [
       "<matplotlib.image.AxesImage at 0x13c2a9f10>"
      ]
     },
     "execution_count": 134,
     "metadata": {},
     "output_type": "execute_result"
    },
    {
     "data": {
      "image/png": "[encoded data removed]",
      "text/plain": [
       "<Figure size 500x400 with 2 Axes>"
      ]
     },
     "metadata": {},
     "output_type": "display_data"
    }
   ],
   "source": [
    "example0 = np.reshape(x[1],(20,20), order='F')\n",
    "example1 = np.reshape(x[900],(20,20), order='F')\n",
    "\n",
    "fig, ax = plt.subplots(1, 2, figsize=(5,4))\n",
    "ax[0].imshow(example0)\n",
    "ax[1].imshow(example1)"
   ]
  },
  {
   "cell_type": "markdown",
   "metadata": {},
   "source": [
    "### Generate weights using Tensorflow Model"
   ]
  },
  {
   "cell_type": "code",
   "execution_count": 106,
   "metadata": {},
   "outputs": [
    {
     "name": "stdout",
     "output_type": "stream",
     "text": [
      "Epoch 1/10\n",
      "32/32 [==============================] - 2s 4ms/step - loss: 0.6329\n",
      "Epoch 2/10\n",
      "32/32 [==============================] - 0s 4ms/step - loss: 0.4709\n",
      "Epoch 3/10\n",
      "32/32 [==============================] - 0s 4ms/step - loss: 0.3091\n",
      "Epoch 4/10\n",
      "32/32 [==============================] - 0s 4ms/step - loss: 0.2023\n",
      "Epoch 5/10\n",
      "32/32 [==============================] - 0s 3ms/step - loss: 0.1421\n",
      "Epoch 6/10\n",
      "32/32 [==============================] - 0s 4ms/step - loss: 0.1069\n",
      "Epoch 7/10\n",
      "32/32 [==============================] - 0s 4ms/step - loss: 0.0844\n",
      "Epoch 8/10\n",
      "32/32 [==============================] - 0s 5ms/step - loss: 0.0690\n",
      "Epoch 9/10\n",
      "32/32 [==============================] - 0s 4ms/step - loss: 0.0577\n",
      "Epoch 10/10\n",
      "32/32 [==============================] - 0s 3ms/step - loss: 0.0493\n"
     ]
    },
    {
     "data": {
      "text/plain": [
       "<keras.src.callbacks.History at 0x13c3bcc90>"
      ]
     },
     "execution_count": 106,
     "metadata": {},
     "output_type": "execute_result"
    }
   ],
   "source": [
    "model = tf.keras.Sequential([\n",
    "    tf.keras.layers.Dense(units = 25, activation=\"sigmoid\", input_dim=400, name=\"L1\"), \n",
    "    tf.keras.layers.Dense(units = 15, activation=\"sigmoid\", name = \"L2\"),\n",
    "    tf.keras.layers.Dense(units = 1, activation=\"sigmoid\", name = \"L_out\"),\n",
    "])\n",
    "\n",
    "model.compile(\n",
    "    optimizer = tf.keras.optimizers.Adam(learning_rate=0.001),\n",
    "    loss = tf.keras.losses.BinaryCrossentropy()\n",
    ")\n",
    "\n",
    "model.fit(x,y,epochs=10)"
   ]
  },
  {
   "cell_type": "markdown",
   "metadata": {},
   "source": [
    "Print weights"
   ]
  },
  {
   "cell_type": "code",
   "execution_count": 135,
   "metadata": {},
   "outputs": [
    {
     "name": "stdout",
     "output_type": "stream",
     "text": [
      "input: (1000, 400)\n",
      "l1_w: (400, 25), l1_b: (25,) \n",
      " l2_w: (25, 15), l2_b: (15,) \n",
      " l3_w: (15, 1), l3_b: (1,)\n"
     ]
    }
   ],
   "source": [
    "l1_w, l1_b = model.get_layer(\"L1\").get_weights()\n",
    "l2_w, l2_b = model.get_layer(\"L2\").get_weights()\n",
    "l3_w, l3_b  = model.get_layer(\"L_out\").get_weights()\n",
    "\n",
    "print(f\"input: {x.shape}\")\n",
    "print(f\"l1_w: {l1_w.shape}, l1_b: {l1_b.shape} \\n l2_w: {l2_w.shape}, l2_b: {l2_b.shape} \\n l3_w: {l3_w.shape}, l3_b: {l3_b.shape}\")"
   ]
  },
  {
   "cell_type": "markdown",
   "metadata": {},
   "source": [
    "### Define model in Numpy"
   ]
  },
  {
   "cell_type": "code",
   "execution_count": 141,
   "metadata": {},
   "outputs": [],
   "source": [
    "def dense(x, w, b):\n",
    "\n",
    "    f = np.dot(x, w) + b\n",
    "    sigmoid = 1 / (1 + np.exp(-f))\n",
    "\n",
    "    return sigmoid"
   ]
  },
  {
   "cell_type": "code",
   "execution_count": 144,
   "metadata": {},
   "outputs": [],
   "source": [
    "def sequential(layers):\n",
    "    \n",
    "    layer = layers[0]\n",
    "    result0 = dense(x, layer[0], layer[1])\n",
    "\n",
    "    layer = layer[1]\n",
    "    result1 = dense(result0, layer[0], [layer[1]])\n",
    "\n",
    "    layer = layer[2]\n",
    "    result2 = dense(result1, layer[0], [layer[1]])\n",
    "\n",
    "    return result2"
   ]
  },
  {
   "cell_type": "code",
   "execution_count": 145,
   "metadata": {},
   "outputs": [
    {
     "ename": "ValueError",
     "evalue": "setting an array element with a sequence. The requested array has an inhomogeneous shape after 3 dimensions. The detected shape was (3, 2, 1) + inhomogeneous part.",
     "output_type": "error",
     "traceback": [
      "\u001b[0;31m---------------------------------------------------------------------------\u001b[0m",
      "\u001b[0;31mValueError\u001b[0m                                Traceback (most recent call last)",
      "\u001b[1;32m/Users/dmitriikharitonov/Workspace/DeepLearning.AI-MachineLearningSpecialization/Advanced Learning Algorithms/Lab4_HandwrittenDigits.ipynb Cell 15\u001b[0m line \u001b[0;36m1\n\u001b[0;32m----> <a href='vscode-notebook-cell:/Users/dmitriikharitonov/Workspace/DeepLearning.AI-MachineLearningSpecialization/Advanced%20Learning%20Algorithms/Lab4_HandwrittenDigits.ipynb#X44sZmlsZQ%3D%3D?line=0'>1</a>\u001b[0m layers \u001b[39m=\u001b[39m np\u001b[39m.\u001b[39;49marray([[[l1_w],[l1_b]],[[l2_w],[l2_b]],[[l3_w],[l3_b]]])\n\u001b[1;32m      <a href='vscode-notebook-cell:/Users/dmitriikharitonov/Workspace/DeepLearning.AI-MachineLearningSpecialization/Advanced%20Learning%20Algorithms/Lab4_HandwrittenDigits.ipynb#X44sZmlsZQ%3D%3D?line=1'>2</a>\u001b[0m sequential(layers)\n",
      "\u001b[0;31mValueError\u001b[0m: setting an array element with a sequence. The requested array has an inhomogeneous shape after 3 dimensions. The detected shape was (3, 2, 1) + inhomogeneous part."
     ]
    }
   ],
   "source": [
    "layers = np.array([[[l1_w],[l1_b]],[[l2_w],[l2_b]],[[l3_w],[l3_b]]])\n",
    "sequential(layers)"
   ]
  },
  {
   "cell_type": "code",
   "execution_count": null,
   "metadata": {},
   "outputs": [],
   "source": []
  }
 ],
 "metadata": {
  "kernelspec": {
   "display_name": ".venv",
   "language": "python",
   "name": "python3"
  },
  "language_info": {
   "codemirror_mode": {
    "name": "ipython",
    "version": 3
   },
   "file_extension": ".py",
   "mimetype": "text/x-python",
   "name": "python",
   "nbconvert_exporter": "python",
   "pygments_lexer": "ipython3",
   "version": "3.11.6"
  }
 },
 "nbformat": 4,
 "nbformat_minor": 2
}

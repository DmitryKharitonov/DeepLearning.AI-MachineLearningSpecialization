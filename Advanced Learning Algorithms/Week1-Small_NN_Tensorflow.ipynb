{
 "cells": [
  {
   "cell_type": "markdown",
   "metadata": {},
   "source": [
    "This Notebook is a 2nd in Week 1, and it builds a simple NN to predict a taste of coffee depending on Temperature and Duration of cooking.\n",
    "* NN is implemented in TensorFlow\n",
    "* NN has 2 sigmoid layers [x3->x1]\n",
    "* 10 epochs\n",
    "* forward and back propagation (theory is discussed later)\n",
    "* prediction for 2 test points"
   ]
  },
  {
   "cell_type": "code",
   "execution_count": 1,
   "metadata": {},
   "outputs": [
    {
     "name": "stderr",
     "output_type": "stream",
     "text": [
      "2023-07-16 10:44:03.014288: I tensorflow/core/platform/cpu_feature_guard.cc:182] This TensorFlow binary is optimized to use available CPU instructions in performance-critical operations.\n",
      "To enable the following instructions: AVX2 FMA, in other operations, rebuild TensorFlow with the appropriate compiler flags.\n"
     ]
    }
   ],
   "source": [
    "import numpy as np\n",
    "import tensorflow as tf\n",
    "import matplotlib.pyplot as plt"
   ]
  },
  {
   "cell_type": "markdown",
   "metadata": {},
   "source": [
    "Load inputs (Coffee roasting)"
   ]
  },
  {
   "cell_type": "markdown",
   "metadata": {},
   "source": [
    "The two features are Temperature in Celsius and Duration in minutes. Coffee Roasting at Home suggests that the duration is best kept between 12 and 15 minutes while the temp should be between 175 and 260 degrees Celsius. Of course, as temperature rises, the duration should shrink."
   ]
  },
  {
   "cell_type": "code",
   "execution_count": 2,
   "metadata": {},
   "outputs": [
    {
     "data": {
      "image/png": "[encoded data removed]",
      "text/plain": [
       "<Figure size 400x400 with 1 Axes>"
      ]
     },
     "metadata": {},
     "output_type": "display_data"
    }
   ],
   "source": [
    "inputs = np.load(\"coffee_roast.npz\")\n",
    "\n",
    "x_train = inputs[\"train_x\"]\n",
    "y_train = inputs[\"train_y\"]\n",
    "\n",
    "fig, ax = plt.subplots(1,1, figsize=(4,4))\n",
    "ax.scatter(x_train[:,0], x_train[:,1], c=1-y_train, s=1)\n",
    "ax.set_ylabel(\"Duration\")\n",
    "ax.set_xlabel(\"Celsius\")\n",
    "plt.show()"
   ]
  },
  {
   "cell_type": "markdown",
   "metadata": {},
   "source": [
    "Normalize inputs"
   ]
  },
  {
   "cell_type": "code",
   "execution_count": 3,
   "metadata": {},
   "outputs": [],
   "source": [
    "norm_layer = tf.keras.layers.Normalization(axis=-1)\n",
    "norm_layer.adapt(x_train)\n",
    "norm_x = norm_layer(x_train)"
   ]
  },
  {
   "cell_type": "markdown",
   "metadata": {},
   "source": [
    "# Model\n",
    "Let's build the \"Coffee Roasting Network\" - two layers with sigmoid activations as shown below:\n",
    "   <center> <img  src=\"images/C2_W1_RoastingNetwork.PNG\" width=\"200\" />   <center/>  "
   ]
  },
  {
   "cell_type": "code",
   "execution_count": 4,
   "metadata": {},
   "outputs": [
    {
     "name": "stdout",
     "output_type": "stream",
     "text": [
      "Model: \"sequential\"\n",
      "_________________________________________________________________\n",
      " Layer (type)                Output Shape              Param #   \n",
      "=================================================================\n",
      " input (Dense)               (None, 3)                 9         \n",
      "                                                                 \n",
      " output (Dense)              (None, 1)                 4         \n",
      "                                                                 \n",
      "=================================================================\n",
      "Total params: 13\n",
      "Trainable params: 13\n",
      "Non-trainable params: 0\n",
      "_________________________________________________________________\n"
     ]
    }
   ],
   "source": [
    "model = tf.keras.Sequential([\n",
    "    tf.keras.layers.Dense(units=3, input_dim=2, activation=\"sigmoid\", name=\"input\"),\n",
    "    tf.keras.layers.Dense(units=1, activation=\"sigmoid\", name=\"output\")\n",
    "])\n",
    "\n",
    "model.summary()"
   ]
  },
  {
   "cell_type": "markdown",
   "metadata": {},
   "source": [
    "Let's examine the weights and biases Tensorflow has instantiated.  The weights $W$ should be of size (number of features in input, number of units in the layer) while the bias $b$ size should match the number of units in the layer:\n",
    "- In the first layer with 3 units, we expect W to have a size of (2,3) and $b$ should have 3 elements.\n",
    "- In the second layer with 1 unit, we expect W to have a size of (3,1) and $b$ should have 1 element."
   ]
  },
  {
   "cell_type": "code",
   "execution_count": 5,
   "metadata": {},
   "outputs": [
    {
     "name": "stdout",
     "output_type": "stream",
     "text": [
      "layer 1 weight = [[ 0.91695833  0.8808569   0.9012588 ]\n",
      " [-0.9022442   0.14244461 -0.2091673 ]], and bias = [0. 0. 0.]\n",
      "layer 2 weight = [[ 0.46166086]\n",
      " [ 0.81969726]\n",
      " [-0.7122853 ]], and bias = [0.]\n"
     ]
    }
   ],
   "source": [
    "w1, b1 = model.get_layer(\"input\").get_weights()\n",
    "w2, b2 = model.get_layer(\"output\").get_weights()\n",
    "\n",
    "print(f\"layer 1 weight = {w1}, and bias = {b1}\")\n",
    "print(f\"layer 2 weight = {w2}, and bias = {b2}\")\n"
   ]
  },
  {
   "cell_type": "markdown",
   "metadata": {},
   "source": [
    "Compile model"
   ]
  },
  {
   "cell_type": "markdown",
   "metadata": {},
   "source": [
    "copy inputs 1000 times to reduce epochs from 10 000 to 10"
   ]
  },
  {
   "cell_type": "code",
   "execution_count": 6,
   "metadata": {},
   "outputs": [],
   "source": [
    "Xt = np.tile(norm_x,(1000,1))\n",
    "Yt = np.tile(y_train, (1000,1))"
   ]
  },
  {
   "cell_type": "code",
   "execution_count": 7,
   "metadata": {},
   "outputs": [
    {
     "name": "stdout",
     "output_type": "stream",
     "text": [
      "Epoch 1/10\n"
     ]
    },
    {
     "name": "stdout",
     "output_type": "stream",
     "text": [
      "6250/6250 [==============================] - 39s 6ms/step - loss: 0.1898\n",
      "Epoch 2/10\n",
      "6250/6250 [==============================] - 43s 7ms/step - loss: 0.0469\n",
      "Epoch 3/10\n",
      "6250/6250 [==============================] - 35s 6ms/step - loss: 0.0236\n",
      "Epoch 4/10\n",
      "6250/6250 [==============================] - 39s 6ms/step - loss: 0.0164\n",
      "Epoch 5/10\n",
      "6250/6250 [==============================] - 29s 5ms/step - loss: 0.0127\n",
      "Epoch 6/10\n",
      "6250/6250 [==============================] - 30s 5ms/step - loss: 0.0103\n",
      "Epoch 7/10\n",
      "6250/6250 [==============================] - 40s 6ms/step - loss: 0.0086\n",
      "Epoch 8/10\n",
      "6250/6250 [==============================] - 34s 5ms/step - loss: 0.0072\n",
      "Epoch 9/10\n",
      "6250/6250 [==============================] - 28s 4ms/step - loss: 0.0061\n",
      "Epoch 10/10\n",
      "6250/6250 [==============================] - 24s 4ms/step - loss: 0.0053\n"
     ]
    },
    {
     "data": {
      "text/plain": [
       "<keras.callbacks.History at 0x1318f1e50>"
      ]
     },
     "execution_count": 7,
     "metadata": {},
     "output_type": "execute_result"
    }
   ],
   "source": [
    "model.compile(\n",
    "    loss = tf.keras.losses.BinaryCrossentropy(),\n",
    "    optimizer = tf.keras.optimizers.Adam(learning_rate=0.01),\n",
    ")\n",
    "\n",
    "model.fit(Xt, Yt, epochs=10, )"
   ]
  },
  {
   "cell_type": "markdown",
   "metadata": {},
   "source": [
    "The training data set is broken into 'batches'. The default size of a batch in Tensorflow is 32. There are 200000 examples in our expanded data set or 6250 batches.\n",
    "\n",
    "$200000  / 32 = 6250$"
   ]
  },
  {
   "cell_type": "markdown",
   "metadata": {},
   "source": [
    "# Prediction"
   ]
  },
  {
   "cell_type": "markdown",
   "metadata": {},
   "source": [
    "<img align=\"left\" src=\"./images/C2_W1_RoastingDecision.PNG\"     style=\" width:380px; padding: 10px 20px; \" >"
   ]
  },
  {
   "cell_type": "markdown",
   "metadata": {},
   "source": [
    "Updates weights"
   ]
  },
  {
   "cell_type": "code",
   "execution_count": 8,
   "metadata": {},
   "outputs": [
    {
     "name": "stdout",
     "output_type": "stream",
     "text": [
      "layer 1 weight = [[14.555286    0.08775849 13.091228  ]\n",
      " [ 0.3181159  11.132984   10.940715  ]], and bias = [15.175841  13.492102   1.3011866]\n",
      "layer 2 weight = [[ 28.36547 ]\n",
      " [ 28.204082]\n",
      " [-38.459373]], and bias = [-36.9157]\n"
     ]
    }
   ],
   "source": [
    "w1, b1 = model.get_layer(\"input\").get_weights()\n",
    "w2, b2 = model.get_layer(\"output\").get_weights()\n",
    "\n",
    "print(f\"layer 1 weight = {w1}, and bias = {b1}\")\n",
    "print(f\"layer 2 weight = {w2}, and bias = {b2}\")"
   ]
  },
  {
   "cell_type": "markdown",
   "metadata": {},
   "source": [
    "Test inputs"
   ]
  },
  {
   "cell_type": "code",
   "execution_count": 9,
   "metadata": {},
   "outputs": [
    {
     "name": "stdout",
     "output_type": "stream",
     "text": [
      "1/1 [==============================] - 1s 1s/step\n"
     ]
    },
    {
     "data": {
      "text/plain": [
       "array([[ True],\n",
       "       [False]])"
      ]
     },
     "execution_count": 9,
     "metadata": {},
     "output_type": "execute_result"
    }
   ],
   "source": [
    "x_test = np.array([\n",
    "    [200,13.9],  # postive example\n",
    "    [200,17]])   # negative example\n",
    "\n",
    "x_test_n = norm_layer(x_test)\n",
    "y_predict = model.predict(x_test_n)\n",
    "y_predict = y_predict > 0.5\n",
    "y_predict"
   ]
  },
  {
   "cell_type": "code",
   "execution_count": 10,
   "metadata": {},
   "outputs": [
    {
     "data": {
      "image/png": "[encoded data removed]",
      "text/plain": [
       "<Figure size 500x500 with 1 Axes>"
      ]
     },
     "metadata": {},
     "output_type": "display_data"
    }
   ],
   "source": [
    "fig, ax = plt.subplots(1,1, figsize=(5,5))\n",
    "ax.scatter(x_train[:,0], x_train[:,1], c=1-y_train, s=2)\n",
    "\n",
    "d = {True:'g',False:'r'}\n",
    "ax.scatter(x_test[:,0], x_test[:,1], c=[d[x] for x in y_predict[:,0]], s=20)\n",
    "\n",
    "plt.show()"
   ]
  }
 ],
 "metadata": {
  "kernelspec": {
   "display_name": "Python 3",
   "language": "python",
   "name": "python3"
  },
  "language_info": {
   "codemirror_mode": {
    "name": "ipython",
    "version": 3
   },
   "file_extension": ".py",
   "mimetype": "text/x-python",
   "name": "python",
   "nbconvert_exporter": "python",
   "pygments_lexer": "ipython3",
   "version": "3.9.13"
  },
  "orig_nbformat": 4
 },
 "nbformat": 4,
 "nbformat_minor": 2
}

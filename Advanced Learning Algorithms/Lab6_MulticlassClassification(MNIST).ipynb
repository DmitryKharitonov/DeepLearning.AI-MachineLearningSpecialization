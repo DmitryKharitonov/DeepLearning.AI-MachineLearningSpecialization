{
 "cells": [
  {
   "cell_type": "markdown",
   "metadata": {},
   "source": [
    "# Given\n",
    "\n",
    "A prerpocessed dataset (similar to MNIST) of handwritten digits from 0 to 9, decoded in a matrix 20x20 flattened into 400 attributes.\n",
    "\n",
    "Dataset:\n",
    "\n",
    "| Pixel 1 | Pixel 2 | Pixel 3 | ... | Pixel 400 | Label |\n",
    "|---------|---------|---------|-----|-----------|-------|\n",
    "|    0    |    0    |    0    | ... |    245    |   7   |\n",
    "|    0    |   110   |   255   | ... |     0     |   2   |\n",
    "|    0    |    23   |   255   | ... |     0     |   1   |\n",
    "|    0    |    0    |    0    | ... |     0     |   0   |\n",
    "|    0    |    0    |    0    | ... |     0     |   4   |\n",
    "|    0    |    3    |   222   | ... |     0     |   1   |\n",
    "\n",
    "\n",
    "# Find\n",
    "\n",
    "TensorFlow model and forecast few examples\n",
    "\n",
    "\n",
    "Use these TensorFlow model parameters:\n",
    "   - Activation = 2x Relu, 1x Linear \n",
    "   - Optimizator = Adam(learning_rate = 0.001)\n",
    "   - Loss = SparseCategoricalCrossentropy(From logits = True)\n",
    "   - 2 sigmoid layers [x25->x15->x10]\n",
    "   - Epochs = 40"
   ]
  },
  {
   "cell_type": "markdown",
   "metadata": {},
   "source": [
    "# Solution"
   ]
  },
  {
   "cell_type": "code",
   "execution_count": 5,
   "metadata": {},
   "outputs": [
    {
     "name": "stderr",
     "output_type": "stream",
     "text": [
      "2023-10-24 23:02:02.283811: I tensorflow/core/platform/cpu_feature_guard.cc:182] This TensorFlow binary is optimized to use available CPU instructions in performance-critical operations.\n",
      "To enable the following instructions: AVX2 FMA, in other operations, rebuild TensorFlow with the appropriate compiler flags.\n"
     ]
    }
   ],
   "source": [
    "import numpy as np\n",
    "import matplotlib.pyplot as plt\n",
    "import tensorflow as tf"
   ]
  },
  {
   "cell_type": "code",
   "execution_count": 56,
   "metadata": {},
   "outputs": [
    {
     "data": {
      "text/plain": [
       "((5000, 400), (5000, 1))"
      ]
     },
     "execution_count": 56,
     "metadata": {},
     "output_type": "execute_result"
    }
   ],
   "source": [
    "x = np.load(\"handwritten_X.npy\")\n",
    "y = np.load(\"handwritten_y.npy\")\n",
    "\n",
    "x.shape, y.shape"
   ]
  },
  {
   "cell_type": "code",
   "execution_count": 47,
   "metadata": {},
   "outputs": [
    {
     "data": {
      "text/plain": [
       "<matplotlib.image.AxesImage at 0x12cc26510>"
      ]
     },
     "execution_count": 47,
     "metadata": {},
     "output_type": "execute_result"
    },
    {
     "data": {
      "image/png": "[encoded data removed]",
      "text/plain": [
       "<Figure size 1000x200 with 5 Axes>"
      ]
     },
     "metadata": {},
     "output_type": "display_data"
    }
   ],
   "source": [
    "fig, ax = plt.subplots(1, 5, figsize=(10,2))\n",
    "ax[0].imshow(x[1].reshape(20,20))\n",
    "ax[1].imshow(x[2006].reshape(20,20))\n",
    "ax[2].imshow(x[4610].reshape(20,20))\n",
    "ax[3].imshow(x[1711].reshape(20,20))\n",
    "ax[4].imshow(x[1004].reshape(20,20))"
   ]
  },
  {
   "cell_type": "markdown",
   "metadata": {},
   "source": [
    "Tensorflow model"
   ]
  },
  {
   "cell_type": "code",
   "execution_count": 55,
   "metadata": {},
   "outputs": [
    {
     "name": "stdout",
     "output_type": "stream",
     "text": [
      "Model: \"sequential_2\"\n",
      "_________________________________________________________________\n"
     ]
    },
    {
     "name": "stdout",
     "output_type": "stream",
     "text": [
      " Layer (type)                Output Shape              Param #   \n",
      "=================================================================\n",
      " L1 (Dense)                  (None, 25)                10025     \n",
      "                                                                 \n",
      " L2 (Dense)                  (None, 15)                390       \n",
      "                                                                 \n",
      " L_out (Dense)               (None, 10)                160       \n",
      "                                                                 \n",
      "=================================================================\n",
      "Total params: 10575 (41.31 KB)\n",
      "Trainable params: 10575 (41.31 KB)\n",
      "Non-trainable params: 0 (0.00 Byte)\n",
      "_________________________________________________________________\n"
     ]
    }
   ],
   "source": [
    "model = tf.keras.Sequential([\n",
    "    tf.keras.layers.Dense(units=25, activation=\"relu\", input_dim=400, name=\"L1\"),\n",
    "    tf.keras.layers.Dense(units=15, activation=\"relu\", name=\"L2\"),\n",
    "    tf.keras.layers.Dense(units=10, activation=\"linear\", name=\"L_out\"),\n",
    "])\n",
    "\n",
    "model.compile(\n",
    "    optimizer = tf.keras.optimizers.Adam(learning_rate=0.001),\n",
    "    loss = tf.keras.losses.SparseCategoricalCrossentropy(from_logits=True)\n",
    ")\n",
    "\n",
    "model.summary()"
   ]
  },
  {
   "cell_type": "code",
   "execution_count": 64,
   "metadata": {},
   "outputs": [
    {
     "name": "stdout",
     "output_type": "stream",
     "text": [
      "model accuracy = 0.00025210226885974407\n"
     ]
    }
   ],
   "source": [
    "history = model.fit(x, y, \n",
    "          epochs = 40,\n",
    "          verbose=False)\n",
    "\n",
    "loss = history.history[\"loss\"][-1]\n",
    "print(f\"model accuracy = {loss}\")"
   ]
  },
  {
   "cell_type": "markdown",
   "metadata": {},
   "source": [
    "Prediction"
   ]
  },
  {
   "cell_type": "code",
   "execution_count": 76,
   "metadata": {},
   "outputs": [
    {
     "ename": "InvalidArgumentError",
     "evalue": "Graph execution error:\n\nDetected at node sequential_2/L1/Relu defined at (most recent call last):\n  File \"<frozen runpy>\", line 198, in _run_module_as_main\n\n  File \"<frozen runpy>\", line 88, in _run_code\n\n  File \"/Users/dmitriikharitonov/Workspace/DeepLearning.AI-MachineLearningSpecialization/.venv/lib/python3.11/site-packages/ipykernel_launcher.py\", line 17, in <module>\n\n  File \"/Users/dmitriikharitonov/Workspace/DeepLearning.AI-MachineLearningSpecialization/.venv/lib/python3.11/site-packages/traitlets/config/application.py\", line 1053, in launch_instance\n\n  File \"/Users/dmitriikharitonov/Workspace/DeepLearning.AI-MachineLearningSpecialization/.venv/lib/python3.11/site-packages/ipykernel/kernelapp.py\", line 736, in start\n\n  File \"/Users/dmitriikharitonov/Workspace/DeepLearning.AI-MachineLearningSpecialization/.venv/lib/python3.11/site-packages/tornado/platform/asyncio.py\", line 195, in start\n\n  File \"/Library/Frameworks/Python.framework/Versions/3.11/lib/python3.11/asyncio/base_events.py\", line 607, in run_forever\n\n  File \"/Library/Frameworks/Python.framework/Versions/3.11/lib/python3.11/asyncio/base_events.py\", line 1922, in _run_once\n\n  File \"/Library/Frameworks/Python.framework/Versions/3.11/lib/python3.11/asyncio/events.py\", line 80, in _run\n\n  File \"/Users/dmitriikharitonov/Workspace/DeepLearning.AI-MachineLearningSpecialization/.venv/lib/python3.11/site-packages/ipykernel/kernelbase.py\", line 516, in dispatch_queue\n\n  File \"/Users/dmitriikharitonov/Workspace/DeepLearning.AI-MachineLearningSpecialization/.venv/lib/python3.11/site-packages/ipykernel/kernelbase.py\", line 505, in process_one\n\n  File \"/Users/dmitriikharitonov/Workspace/DeepLearning.AI-MachineLearningSpecialization/.venv/lib/python3.11/site-packages/ipykernel/kernelbase.py\", line 412, in dispatch_shell\n\n  File \"/Users/dmitriikharitonov/Workspace/DeepLearning.AI-MachineLearningSpecialization/.venv/lib/python3.11/site-packages/ipykernel/kernelbase.py\", line 740, in execute_request\n\n  File \"/Users/dmitriikharitonov/Workspace/DeepLearning.AI-MachineLearningSpecialization/.venv/lib/python3.11/site-packages/ipykernel/ipkernel.py\", line 422, in do_execute\n\n  File \"/Users/dmitriikharitonov/Workspace/DeepLearning.AI-MachineLearningSpecialization/.venv/lib/python3.11/site-packages/ipykernel/zmqshell.py\", line 546, in run_cell\n\n  File \"/Users/dmitriikharitonov/Workspace/DeepLearning.AI-MachineLearningSpecialization/.venv/lib/python3.11/site-packages/IPython/core/interactiveshell.py\", line 3024, in run_cell\n\n  File \"/Users/dmitriikharitonov/Workspace/DeepLearning.AI-MachineLearningSpecialization/.venv/lib/python3.11/site-packages/IPython/core/interactiveshell.py\", line 3079, in _run_cell\n\n  File \"/Users/dmitriikharitonov/Workspace/DeepLearning.AI-MachineLearningSpecialization/.venv/lib/python3.11/site-packages/IPython/core/async_helpers.py\", line 129, in _pseudo_sync_runner\n\n  File \"/Users/dmitriikharitonov/Workspace/DeepLearning.AI-MachineLearningSpecialization/.venv/lib/python3.11/site-packages/IPython/core/interactiveshell.py\", line 3284, in run_cell_async\n\n  File \"/Users/dmitriikharitonov/Workspace/DeepLearning.AI-MachineLearningSpecialization/.venv/lib/python3.11/site-packages/IPython/core/interactiveshell.py\", line 3466, in run_ast_nodes\n\n  File \"/Users/dmitriikharitonov/Workspace/DeepLearning.AI-MachineLearningSpecialization/.venv/lib/python3.11/site-packages/IPython/core/interactiveshell.py\", line 3526, in run_code\n\n  File \"/var/folders/nr/pxyxhh4s2vl120p6__1g3z2c0000gn/T/ipykernel_19249/2798152319.py\", line 1, in <module>\n\n  File \"/Users/dmitriikharitonov/Workspace/DeepLearning.AI-MachineLearningSpecialization/.venv/lib/python3.11/site-packages/keras/src/utils/traceback_utils.py\", line 65, in error_handler\n\n  File \"/Users/dmitriikharitonov/Workspace/DeepLearning.AI-MachineLearningSpecialization/.venv/lib/python3.11/site-packages/keras/src/engine/training.py\", line 2631, in predict\n\n  File \"/Users/dmitriikharitonov/Workspace/DeepLearning.AI-MachineLearningSpecialization/.venv/lib/python3.11/site-packages/keras/src/engine/training.py\", line 2416, in predict_function\n\n  File \"/Users/dmitriikharitonov/Workspace/DeepLearning.AI-MachineLearningSpecialization/.venv/lib/python3.11/site-packages/keras/src/engine/training.py\", line 2401, in step_function\n\n  File \"/Users/dmitriikharitonov/Workspace/DeepLearning.AI-MachineLearningSpecialization/.venv/lib/python3.11/site-packages/keras/src/engine/training.py\", line 2389, in run_step\n\n  File \"/Users/dmitriikharitonov/Workspace/DeepLearning.AI-MachineLearningSpecialization/.venv/lib/python3.11/site-packages/keras/src/engine/training.py\", line 2357, in predict_step\n\n  File \"/Users/dmitriikharitonov/Workspace/DeepLearning.AI-MachineLearningSpecialization/.venv/lib/python3.11/site-packages/keras/src/utils/traceback_utils.py\", line 65, in error_handler\n\n  File \"/Users/dmitriikharitonov/Workspace/DeepLearning.AI-MachineLearningSpecialization/.venv/lib/python3.11/site-packages/keras/src/engine/training.py\", line 589, in __call__\n\n  File \"/Users/dmitriikharitonov/Workspace/DeepLearning.AI-MachineLearningSpecialization/.venv/lib/python3.11/site-packages/keras/src/utils/traceback_utils.py\", line 65, in error_handler\n\n  File \"/Users/dmitriikharitonov/Workspace/DeepLearning.AI-MachineLearningSpecialization/.venv/lib/python3.11/site-packages/keras/src/engine/base_layer.py\", line 1149, in __call__\n\n  File \"/Users/dmitriikharitonov/Workspace/DeepLearning.AI-MachineLearningSpecialization/.venv/lib/python3.11/site-packages/keras/src/utils/traceback_utils.py\", line 96, in error_handler\n\n  File \"/Users/dmitriikharitonov/Workspace/DeepLearning.AI-MachineLearningSpecialization/.venv/lib/python3.11/site-packages/keras/src/engine/sequential.py\", line 398, in call\n\n  File \"/Users/dmitriikharitonov/Workspace/DeepLearning.AI-MachineLearningSpecialization/.venv/lib/python3.11/site-packages/keras/src/engine/functional.py\", line 515, in call\n\n  File \"/Users/dmitriikharitonov/Workspace/DeepLearning.AI-MachineLearningSpecialization/.venv/lib/python3.11/site-packages/keras/src/engine/functional.py\", line 672, in _run_internal_graph\n\n  File \"/Users/dmitriikharitonov/Workspace/DeepLearning.AI-MachineLearningSpecialization/.venv/lib/python3.11/site-packages/keras/src/utils/traceback_utils.py\", line 65, in error_handler\n\n  File \"/Users/dmitriikharitonov/Workspace/DeepLearning.AI-MachineLearningSpecialization/.venv/lib/python3.11/site-packages/keras/src/engine/base_layer.py\", line 1149, in __call__\n\n  File \"/Users/dmitriikharitonov/Workspace/DeepLearning.AI-MachineLearningSpecialization/.venv/lib/python3.11/site-packages/keras/src/utils/traceback_utils.py\", line 96, in error_handler\n\n  File \"/Users/dmitriikharitonov/Workspace/DeepLearning.AI-MachineLearningSpecialization/.venv/lib/python3.11/site-packages/keras/src/layers/core/dense.py\", line 255, in call\n\n  File \"/Users/dmitriikharitonov/Workspace/DeepLearning.AI-MachineLearningSpecialization/.venv/lib/python3.11/site-packages/keras/src/activations.py\", line 306, in relu\n\n  File \"/Users/dmitriikharitonov/Workspace/DeepLearning.AI-MachineLearningSpecialization/.venv/lib/python3.11/site-packages/keras/src/backend.py\", line 5397, in relu\n\nMatrix size-incompatible: In[0]: [32,1], In[1]: [400,25]\n\t [[{{node sequential_2/L1/Relu}}]] [Op:__inference_predict_function_59310]",
     "output_type": "error",
     "traceback": [
      "\u001b[0;31m---------------------------------------------------------------------------\u001b[0m",
      "\u001b[0;31mInvalidArgumentError\u001b[0m                      Traceback (most recent call last)",
      "\u001b[1;32m/Users/dmitriikharitonov/Workspace/DeepLearning.AI-MachineLearningSpecialization/Advanced Learning Algorithms/Lab4_MulticlassClassification.ipynb Cell 10\u001b[0m line \u001b[0;36m1\n\u001b[0;32m----> <a href='vscode-notebook-cell:/Users/dmitriikharitonov/Workspace/DeepLearning.AI-MachineLearningSpecialization/Advanced%20Learning%20Algorithms/Lab4_MulticlassClassification.ipynb#X15sZmlsZQ%3D%3D?line=0'>1</a>\u001b[0m model\u001b[39m.\u001b[39;49mpredict(x[\u001b[39m1\u001b[39;49m]\u001b[39m.\u001b[39;49mreshape(\u001b[39m-\u001b[39;49m\u001b[39m1\u001b[39;49m,\u001b[39m1\u001b[39;49m))\n",
      "File \u001b[0;32m~/Workspace/DeepLearning.AI-MachineLearningSpecialization/.venv/lib/python3.11/site-packages/keras/src/utils/traceback_utils.py:70\u001b[0m, in \u001b[0;36mfilter_traceback.<locals>.error_handler\u001b[0;34m(*args, **kwargs)\u001b[0m\n\u001b[1;32m     67\u001b[0m     filtered_tb \u001b[39m=\u001b[39m _process_traceback_frames(e\u001b[39m.\u001b[39m__traceback__)\n\u001b[1;32m     68\u001b[0m     \u001b[39m# To get the full stack trace, call:\u001b[39;00m\n\u001b[1;32m     69\u001b[0m     \u001b[39m# `tf.debugging.disable_traceback_filtering()`\u001b[39;00m\n\u001b[0;32m---> 70\u001b[0m     \u001b[39mraise\u001b[39;00m e\u001b[39m.\u001b[39mwith_traceback(filtered_tb) \u001b[39mfrom\u001b[39;00m \u001b[39mNone\u001b[39;00m\n\u001b[1;32m     71\u001b[0m \u001b[39mfinally\u001b[39;00m:\n\u001b[1;32m     72\u001b[0m     \u001b[39mdel\u001b[39;00m filtered_tb\n",
      "File \u001b[0;32m~/Workspace/DeepLearning.AI-MachineLearningSpecialization/.venv/lib/python3.11/site-packages/tensorflow/python/eager/execute.py:60\u001b[0m, in \u001b[0;36mquick_execute\u001b[0;34m(op_name, num_outputs, inputs, attrs, ctx, name)\u001b[0m\n\u001b[1;32m     53\u001b[0m   \u001b[39m# Convert any objects of type core_types.Tensor to Tensor.\u001b[39;00m\n\u001b[1;32m     54\u001b[0m   inputs \u001b[39m=\u001b[39m [\n\u001b[1;32m     55\u001b[0m       tensor_conversion_registry\u001b[39m.\u001b[39mconvert(t)\n\u001b[1;32m     56\u001b[0m       \u001b[39mif\u001b[39;00m \u001b[39misinstance\u001b[39m(t, core_types\u001b[39m.\u001b[39mTensor)\n\u001b[1;32m     57\u001b[0m       \u001b[39melse\u001b[39;00m t\n\u001b[1;32m     58\u001b[0m       \u001b[39mfor\u001b[39;00m t \u001b[39min\u001b[39;00m inputs\n\u001b[1;32m     59\u001b[0m   ]\n\u001b[0;32m---> 60\u001b[0m   tensors \u001b[39m=\u001b[39m pywrap_tfe\u001b[39m.\u001b[39mTFE_Py_Execute(ctx\u001b[39m.\u001b[39m_handle, device_name, op_name,\n\u001b[1;32m     61\u001b[0m                                       inputs, attrs, num_outputs)\n\u001b[1;32m     62\u001b[0m \u001b[39mexcept\u001b[39;00m core\u001b[39m.\u001b[39m_NotOkStatusException \u001b[39mas\u001b[39;00m e:\n\u001b[1;32m     63\u001b[0m   \u001b[39mif\u001b[39;00m name \u001b[39mis\u001b[39;00m \u001b[39mnot\u001b[39;00m \u001b[39mNone\u001b[39;00m:\n",
      "\u001b[0;31mInvalidArgumentError\u001b[0m: Graph execution error:\n\nDetected at node sequential_2/L1/Relu defined at (most recent call last):\n  File \"<frozen runpy>\", line 198, in _run_module_as_main\n\n  File \"<frozen runpy>\", line 88, in _run_code\n\n  File \"/Users/dmitriikharitonov/Workspace/DeepLearning.AI-MachineLearningSpecialization/.venv/lib/python3.11/site-packages/ipykernel_launcher.py\", line 17, in <module>\n\n  File \"/Users/dmitriikharitonov/Workspace/DeepLearning.AI-MachineLearningSpecialization/.venv/lib/python3.11/site-packages/traitlets/config/application.py\", line 1053, in launch_instance\n\n  File \"/Users/dmitriikharitonov/Workspace/DeepLearning.AI-MachineLearningSpecialization/.venv/lib/python3.11/site-packages/ipykernel/kernelapp.py\", line 736, in start\n\n  File \"/Users/dmitriikharitonov/Workspace/DeepLearning.AI-MachineLearningSpecialization/.venv/lib/python3.11/site-packages/tornado/platform/asyncio.py\", line 195, in start\n\n  File \"/Library/Frameworks/Python.framework/Versions/3.11/lib/python3.11/asyncio/base_events.py\", line 607, in run_forever\n\n  File \"/Library/Frameworks/Python.framework/Versions/3.11/lib/python3.11/asyncio/base_events.py\", line 1922, in _run_once\n\n  File \"/Library/Frameworks/Python.framework/Versions/3.11/lib/python3.11/asyncio/events.py\", line 80, in _run\n\n  File \"/Users/dmitriikharitonov/Workspace/DeepLearning.AI-MachineLearningSpecialization/.venv/lib/python3.11/site-packages/ipykernel/kernelbase.py\", line 516, in dispatch_queue\n\n  File \"/Users/dmitriikharitonov/Workspace/DeepLearning.AI-MachineLearningSpecialization/.venv/lib/python3.11/site-packages/ipykernel/kernelbase.py\", line 505, in process_one\n\n  File \"/Users/dmitriikharitonov/Workspace/DeepLearning.AI-MachineLearningSpecialization/.venv/lib/python3.11/site-packages/ipykernel/kernelbase.py\", line 412, in dispatch_shell\n\n  File \"/Users/dmitriikharitonov/Workspace/DeepLearning.AI-MachineLearningSpecialization/.venv/lib/python3.11/site-packages/ipykernel/kernelbase.py\", line 740, in execute_request\n\n  File \"/Users/dmitriikharitonov/Workspace/DeepLearning.AI-MachineLearningSpecialization/.venv/lib/python3.11/site-packages/ipykernel/ipkernel.py\", line 422, in do_execute\n\n  File \"/Users/dmitriikharitonov/Workspace/DeepLearning.AI-MachineLearningSpecialization/.venv/lib/python3.11/site-packages/ipykernel/zmqshell.py\", line 546, in run_cell\n\n  File \"/Users/dmitriikharitonov/Workspace/DeepLearning.AI-MachineLearningSpecialization/.venv/lib/python3.11/site-packages/IPython/core/interactiveshell.py\", line 3024, in run_cell\n\n  File \"/Users/dmitriikharitonov/Workspace/DeepLearning.AI-MachineLearningSpecialization/.venv/lib/python3.11/site-packages/IPython/core/interactiveshell.py\", line 3079, in _run_cell\n\n  File \"/Users/dmitriikharitonov/Workspace/DeepLearning.AI-MachineLearningSpecialization/.venv/lib/python3.11/site-packages/IPython/core/async_helpers.py\", line 129, in _pseudo_sync_runner\n\n  File \"/Users/dmitriikharitonov/Workspace/DeepLearning.AI-MachineLearningSpecialization/.venv/lib/python3.11/site-packages/IPython/core/interactiveshell.py\", line 3284, in run_cell_async\n\n  File \"/Users/dmitriikharitonov/Workspace/DeepLearning.AI-MachineLearningSpecialization/.venv/lib/python3.11/site-packages/IPython/core/interactiveshell.py\", line 3466, in run_ast_nodes\n\n  File \"/Users/dmitriikharitonov/Workspace/DeepLearning.AI-MachineLearningSpecialization/.venv/lib/python3.11/site-packages/IPython/core/interactiveshell.py\", line 3526, in run_code\n\n  File \"/var/folders/nr/pxyxhh4s2vl120p6__1g3z2c0000gn/T/ipykernel_19249/2798152319.py\", line 1, in <module>\n\n  File \"/Users/dmitriikharitonov/Workspace/DeepLearning.AI-MachineLearningSpecialization/.venv/lib/python3.11/site-packages/keras/src/utils/traceback_utils.py\", line 65, in error_handler\n\n  File \"/Users/dmitriikharitonov/Workspace/DeepLearning.AI-MachineLearningSpecialization/.venv/lib/python3.11/site-packages/keras/src/engine/training.py\", line 2631, in predict\n\n  File \"/Users/dmitriikharitonov/Workspace/DeepLearning.AI-MachineLearningSpecialization/.venv/lib/python3.11/site-packages/keras/src/engine/training.py\", line 2416, in predict_function\n\n  File \"/Users/dmitriikharitonov/Workspace/DeepLearning.AI-MachineLearningSpecialization/.venv/lib/python3.11/site-packages/keras/src/engine/training.py\", line 2401, in step_function\n\n  File \"/Users/dmitriikharitonov/Workspace/DeepLearning.AI-MachineLearningSpecialization/.venv/lib/python3.11/site-packages/keras/src/engine/training.py\", line 2389, in run_step\n\n  File \"/Users/dmitriikharitonov/Workspace/DeepLearning.AI-MachineLearningSpecialization/.venv/lib/python3.11/site-packages/keras/src/engine/training.py\", line 2357, in predict_step\n\n  File \"/Users/dmitriikharitonov/Workspace/DeepLearning.AI-MachineLearningSpecialization/.venv/lib/python3.11/site-packages/keras/src/utils/traceback_utils.py\", line 65, in error_handler\n\n  File \"/Users/dmitriikharitonov/Workspace/DeepLearning.AI-MachineLearningSpecialization/.venv/lib/python3.11/site-packages/keras/src/engine/training.py\", line 589, in __call__\n\n  File \"/Users/dmitriikharitonov/Workspace/DeepLearning.AI-MachineLearningSpecialization/.venv/lib/python3.11/site-packages/keras/src/utils/traceback_utils.py\", line 65, in error_handler\n\n  File \"/Users/dmitriikharitonov/Workspace/DeepLearning.AI-MachineLearningSpecialization/.venv/lib/python3.11/site-packages/keras/src/engine/base_layer.py\", line 1149, in __call__\n\n  File \"/Users/dmitriikharitonov/Workspace/DeepLearning.AI-MachineLearningSpecialization/.venv/lib/python3.11/site-packages/keras/src/utils/traceback_utils.py\", line 96, in error_handler\n\n  File \"/Users/dmitriikharitonov/Workspace/DeepLearning.AI-MachineLearningSpecialization/.venv/lib/python3.11/site-packages/keras/src/engine/sequential.py\", line 398, in call\n\n  File \"/Users/dmitriikharitonov/Workspace/DeepLearning.AI-MachineLearningSpecialization/.venv/lib/python3.11/site-packages/keras/src/engine/functional.py\", line 515, in call\n\n  File \"/Users/dmitriikharitonov/Workspace/DeepLearning.AI-MachineLearningSpecialization/.venv/lib/python3.11/site-packages/keras/src/engine/functional.py\", line 672, in _run_internal_graph\n\n  File \"/Users/dmitriikharitonov/Workspace/DeepLearning.AI-MachineLearningSpecialization/.venv/lib/python3.11/site-packages/keras/src/utils/traceback_utils.py\", line 65, in error_handler\n\n  File \"/Users/dmitriikharitonov/Workspace/DeepLearning.AI-MachineLearningSpecialization/.venv/lib/python3.11/site-packages/keras/src/engine/base_layer.py\", line 1149, in __call__\n\n  File \"/Users/dmitriikharitonov/Workspace/DeepLearning.AI-MachineLearningSpecialization/.venv/lib/python3.11/site-packages/keras/src/utils/traceback_utils.py\", line 96, in error_handler\n\n  File \"/Users/dmitriikharitonov/Workspace/DeepLearning.AI-MachineLearningSpecialization/.venv/lib/python3.11/site-packages/keras/src/layers/core/dense.py\", line 255, in call\n\n  File \"/Users/dmitriikharitonov/Workspace/DeepLearning.AI-MachineLearningSpecialization/.venv/lib/python3.11/site-packages/keras/src/activations.py\", line 306, in relu\n\n  File \"/Users/dmitriikharitonov/Workspace/DeepLearning.AI-MachineLearningSpecialization/.venv/lib/python3.11/site-packages/keras/src/backend.py\", line 5397, in relu\n\nMatrix size-incompatible: In[0]: [32,1], In[1]: [400,25]\n\t [[{{node sequential_2/L1/Relu}}]] [Op:__inference_predict_function_59310]"
     ]
    }
   ],
   "source": [
    "model.predict(x[1].reshape(-1,1))"
   ]
  },
  {
   "cell_type": "code",
   "execution_count": 77,
   "metadata": {},
   "outputs": [
    {
     "data": {
      "text/plain": [
       "(400, 1)"
      ]
     },
     "execution_count": 77,
     "metadata": {},
     "output_type": "execute_result"
    }
   ],
   "source": [
    "x[1].reshape(-1,1).shape"
   ]
  },
  {
   "cell_type": "code",
   "execution_count": null,
   "metadata": {},
   "outputs": [],
   "source": []
  }
 ],
 "metadata": {
  "kernelspec": {
   "display_name": ".venv",
   "language": "python",
   "name": "python3"
  },
  "language_info": {
   "codemirror_mode": {
    "name": "ipython",
    "version": 3
   },
   "file_extension": ".py",
   "mimetype": "text/x-python",
   "name": "python",
   "nbconvert_exporter": "python",
   "pygments_lexer": "ipython3",
   "version": "3.11.6"
  }
 },
 "nbformat": 4,
 "nbformat_minor": 2
}

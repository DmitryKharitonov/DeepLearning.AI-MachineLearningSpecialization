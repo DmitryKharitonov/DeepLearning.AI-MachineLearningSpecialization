{
 "cells": [
  {
   "cell_type": "markdown",
   "metadata": {},
   "source": [
    "# Given\n",
    "\n",
    "MNIST - a prerpocessed dataset of handwritten digits from 0 to 1, decoded in a matrix 20x20 flattened into 400 attributes.\n",
    "\n",
    "Flattened preprocessed dataset:\n",
    "\n",
    "| x1   | x2    | ... | x400 | y - Written number |\n",
    "| ----------------| ------------------------ | ------------------------ | ------------------------ | ------------------------ |\n",
    "| 3 | 1 | ...   | 0 | 0 |\n",
    "| 1    | 0 | ...    | 1 | 1 |\n",
    "| ...    | ... | ...    | ... | ... |\n",
    "\n",
    "\n",
    "# Find\n",
    "\n",
    "Using TensorFlow model and calculate the weights. Use these weights to replicate forward propagation in numpy.\n",
    "Prove both models function the same by predicting similar values.\n",
    "\n",
    "\n",
    "Use these TensorFlow model parameters:\n",
    "   - Activation = sigmoid\n",
    "   - Optimizator = Adam(learning_rate = 0.001)\n",
    "   - Loss = BinaryCrossentropy\n",
    "   - 2 sigmoid layers [x25->x15->x1]\n",
    "   - Epochs = 10\n",
    "   - <b>[0-10] recognition is discussed later</b>"
   ]
  },
  {
   "cell_type": "markdown",
   "metadata": {},
   "source": [
    "# Solution"
   ]
  },
  {
   "cell_type": "code",
   "execution_count": 2,
   "metadata": {},
   "outputs": [
    {
     "name": "stderr",
     "output_type": "stream",
     "text": [
      "2023-10-24 18:05:15.178632: I tensorflow/core/platform/cpu_feature_guard.cc:182] This TensorFlow binary is optimized to use available CPU instructions in performance-critical operations.\n",
      "To enable the following instructions: AVX2 FMA, in other operations, rebuild TensorFlow with the appropriate compiler flags.\n"
     ]
    }
   ],
   "source": [
    "import numpy as np\n",
    "import matplotlib.pyplot as plt\n",
    "import tensorflow as tf\n",
    "import pandas as pd"
   ]
  },
  {
   "cell_type": "markdown",
   "metadata": {},
   "source": [
    "Inputs"
   ]
  },
  {
   "cell_type": "code",
   "execution_count": 3,
   "metadata": {},
   "outputs": [
    {
     "data": {
      "text/plain": [
       "((1000, 400), (1000, 1))"
      ]
     },
     "execution_count": 3,
     "metadata": {},
     "output_type": "execute_result"
    }
   ],
   "source": [
    "x = np.load(\"handwritten_X.npy\")\n",
    "y = np.load(\"handwritten_Y.npy\")\n",
    "\n",
    "x = x[:1000,:] # only 0 and 1\n",
    "y = y[:1000,:]\n",
    "\n",
    "x.shape, y.shape"
   ]
  },
  {
   "cell_type": "markdown",
   "metadata": {},
   "source": [
    "Examples"
   ]
  },
  {
   "cell_type": "code",
   "execution_count": 4,
   "metadata": {},
   "outputs": [
    {
     "data": {
      "text/plain": [
       "<matplotlib.image.AxesImage at 0x1311ec9d0>"
      ]
     },
     "execution_count": 4,
     "metadata": {},
     "output_type": "execute_result"
    },
    {
     "data": {
      "image/png": "[encoded data removed]",
      "text/plain": [
       "<Figure size 500x400 with 2 Axes>"
      ]
     },
     "metadata": {},
     "output_type": "display_data"
    }
   ],
   "source": [
    "example0 = np.reshape(x[1],(20,20), order='F')\n",
    "example1 = np.reshape(x[900],(20,20), order='F')\n",
    "\n",
    "fig, ax = plt.subplots(1, 2, figsize=(5,4))\n",
    "ax[0].imshow(example0)\n",
    "ax[1].imshow(example1)"
   ]
  },
  {
   "cell_type": "markdown",
   "metadata": {},
   "source": [
    "### Generate weights using Tensorflow Model"
   ]
  },
  {
   "cell_type": "code",
   "execution_count": 5,
   "metadata": {},
   "outputs": [
    {
     "name": "stdout",
     "output_type": "stream",
     "text": [
      "Epoch 1/10\n",
      "32/32 [==============================] - 1s 2ms/step - loss: 0.6701\n",
      "Epoch 2/10\n",
      "32/32 [==============================] - 0s 2ms/step - loss: 0.5275\n",
      "Epoch 3/10\n",
      "32/32 [==============================] - 0s 3ms/step - loss: 0.3841\n",
      "Epoch 4/10\n",
      "32/32 [==============================] - 0s 2ms/step - loss: 0.2675\n",
      "Epoch 5/10\n",
      "32/32 [==============================] - 0s 2ms/step - loss: 0.1922\n",
      "Epoch 6/10\n",
      "32/32 [==============================] - 0s 3ms/step - loss: 0.1451\n",
      "Epoch 7/10\n",
      "32/32 [==============================] - 0s 3ms/step - loss: 0.1140\n",
      "Epoch 8/10\n",
      "32/32 [==============================] - 0s 3ms/step - loss: 0.0932\n",
      "Epoch 9/10\n",
      "32/32 [==============================] - 0s 3ms/step - loss: 0.0780\n",
      "Epoch 10/10\n",
      "32/32 [==============================] - 0s 2ms/step - loss: 0.0666\n"
     ]
    },
    {
     "data": {
      "text/plain": [
       "<keras.src.callbacks.History at 0x1339075d0>"
      ]
     },
     "execution_count": 5,
     "metadata": {},
     "output_type": "execute_result"
    }
   ],
   "source": [
    "model = tf.keras.Sequential([\n",
    "    tf.keras.layers.Dense(units = 25, activation=\"sigmoid\", input_dim=400, name=\"L1\"), \n",
    "    tf.keras.layers.Dense(units = 15, activation=\"sigmoid\", name = \"L2\"),\n",
    "    tf.keras.layers.Dense(units = 1, activation=\"sigmoid\", name = \"L_out\"),\n",
    "])\n",
    "\n",
    "model.compile(\n",
    "    optimizer = tf.keras.optimizers.Adam(learning_rate=0.001),\n",
    "    loss = tf.keras.losses.BinaryCrossentropy()\n",
    ")\n",
    "\n",
    "model.fit(x,y,epochs=10)"
   ]
  },
  {
   "cell_type": "markdown",
   "metadata": {},
   "source": [
    "Print weights"
   ]
  },
  {
   "cell_type": "code",
   "execution_count": 6,
   "metadata": {},
   "outputs": [
    {
     "name": "stdout",
     "output_type": "stream",
     "text": [
      "input: (1000, 400)\n",
      "l1_w: (400, 25), l1_b: (25,) \n",
      " l2_w: (25, 15), l2_b: (15,) \n",
      " l3_w: (15, 1), l3_b: (1,)\n"
     ]
    }
   ],
   "source": [
    "l1_w, l1_b = model.get_layer(\"L1\").get_weights()\n",
    "l2_w, l2_b = model.get_layer(\"L2\").get_weights()\n",
    "l3_w, l3_b  = model.get_layer(\"L_out\").get_weights()\n",
    "\n",
    "print(f\"input: {x.shape}\")\n",
    "print(f\"l1_w: {l1_w.shape}, l1_b: {l1_b.shape} \\n l2_w: {l2_w.shape}, l2_b: {l2_b.shape} \\n l3_w: {l3_w.shape}, l3_b: {l3_b.shape}\")"
   ]
  },
  {
   "cell_type": "markdown",
   "metadata": {},
   "source": [
    "L1 calculation:\n",
    "\n",
    "$$\n",
    "\\overset{\\text{Inputs}}{%\n",
    "    \\begin{pmatrix}\n",
    "    a_{1,1} & a_{1,2} & a_{1,3} & a_{1,4} & \\dots & a_{1,400} \\\\\n",
    "    a_{2,1} & a_{2,2} & a_{2,3} & a_{2,4}  & \\dots & a_{2,400} \\\\\n",
    "    a_{3,1} & a_{3,2} & a_{3,3} & a_{3,4}  & \\dots & a_{3,400} \\\\\n",
    "    a_{4,1} & a_{4,2} & a_{4,3} & a_{4,4}  & \\dots & a_{4,400} \\\\\n",
    "    a_{5,1} & a_{5,2} & a_{5,3} & a_{5,4}  & \\dots & a_{5,400} \\\\\n",
    "    \\vdots & \\vdots & \\cdots & \\vdots & \\ddots & \\vdots \\\\\n",
    "    a_{1000,1} & a_{1000,2} & a_{1000,3} & a_{1000,4}  & \\dots & a_{1000,400} \\\\\n",
    "    \\end{pmatrix}\n",
    "}\n",
    "\\cdot\n",
    "\\overset{\\text{L1 weights}}{%\n",
    "    \\begin{pmatrix}\n",
    "    a_{1,1} & a_{1,2} & \\dots & a_{1,25} \\\\\n",
    "    a_{2,1} & a_{2,2} & \\dots & a_{2,25} \\\\\n",
    "    a_{3,1} & a_{3,2} & \\dots & a_{3,25} \\\\\n",
    "    a_{4,1} & a_{4,2} & \\dots & a_{4,25} \\\\\n",
    "    \\vdots & \\vdots & \\ddots & \\vdots \\\\\n",
    "    a_{400,1} & a_{400,2} & \\dots & a_{400,25} \\\\\n",
    "    \\end{pmatrix}\n",
    "}\n",
    "+\n",
    "\\overset{\\text{L1 bias}}{%\n",
    "    \\begin{pmatrix}\n",
    "    a_{1,1} & a_{1,2} & \\dots & a_{1,25} \\\\\n",
    "    \\end{pmatrix}\n",
    "}\n",
    "=\n",
    "\\overset{\\text{L1 output}}{%\n",
    "    \\begin{pmatrix}\n",
    "    a_{1,1} & a_{1,2} & \\dots & a_{1,25} \\\\\n",
    "    a_{2,1} & a_{2,2} & \\dots & a_{2,25} \\\\\n",
    "    a_{3,1} & a_{3,2} & \\dots & a_{3,25} \\\\\n",
    "    a_{4,1} & a_{4,2} & \\dots & a_{4,25} \\\\\n",
    "    a_{5,1} & a_{5,2} & \\dots & a_{5,25} \\\\\n",
    "    \\vdots & \\vdots & \\ddots & \\vdots \\\\\n",
    "    a_{1000,1} & a_{1000,2} & \\dots & a_{1000,25} \\\\\n",
    "    \\end{pmatrix}\n",
    "}\n",
    "$$"
   ]
  },
  {
   "cell_type": "markdown",
   "metadata": {},
   "source": [
    "L2 calculation:\n",
    "\n",
    "$$\n",
    "\\overset{\\text{L1 output}}{%\n",
    "    \\begin{pmatrix}\n",
    "    a_{1,1} & a_{1,2} & \\dots & a_{1,25} \\\\\n",
    "    a_{2,1} & a_{2,2} & \\dots & a_{2,25} \\\\\n",
    "    a_{3,1} & a_{3,2} & \\dots & a_{3,25} \\\\\n",
    "    a_{4,1} & a_{4,2} & \\dots & a_{4,25} \\\\\n",
    "    a_{5,1} & a_{5,2} & \\dots & a_{5,25} \\\\\n",
    "    \\vdots & \\vdots & \\ddots & \\vdots \\\\\n",
    "    a_{1000,1} & a_{1000,2} & \\dots & a_{1000,25} \\\\\n",
    "    \\end{pmatrix} \\\\\n",
    "}\n",
    "\\overset{\\text{L2 weights}}{%\n",
    "    \\begin{pmatrix}\n",
    "    a_{1,1} & a_{1,2} & \\dots & a_{1,15} \\\\\n",
    "    a_{2,1} & a_{2,2} & \\dots & a_{2,15} \\\\\n",
    "    a_{3,1} & a_{3,2} & \\dots & a_{3,15} \\\\\n",
    "    a_{4,1} & a_{4,2} & \\dots & a_{4,15} \\\\\n",
    "    \\vdots & \\vdots & \\ddots & \\vdots \\\\\n",
    "    a_{25,1} & a_{25,2} & \\dots & a_{25,15} \\\\\n",
    "    \\end{pmatrix} \\\\\n",
    "}\n",
    "+\n",
    "\\overset{\\text{L2 bias}}{%\n",
    "    \\begin{pmatrix}\n",
    "    a_{1,1} & a_{1,2} & \\dots & a_{1,15} \\\\\n",
    "    \\end{pmatrix} \\\\\n",
    "}\n",
    "\\overset{\\text{L2 output}}{%\n",
    "\\begin{pmatrix}\n",
    "a_{1,1} & a_{1,2} & \\dots & a_{1,15} \\\\\n",
    "a_{2,1} & a_{2,2} & \\dots & a_{2,15} \\\\\n",
    "a_{3,1} & a_{3,2} & \\dots & a_{3,15} \\\\\n",
    "a_{4,1} & a_{4,2} & \\dots & a_{4,15} \\\\\n",
    "a_{5,1} & a_{5,2} & \\dots & a_{5,15} \\\\\n",
    "\\vdots & \\vdots & \\ddots & \\vdots \\\\\n",
    "a_{1000,1} & a_{1000,2} & \\dots & a_{1000,15} \\\\\n",
    "\\end{pmatrix}\n",
    "}\n",
    "$$\n"
   ]
  },
  {
   "cell_type": "markdown",
   "metadata": {},
   "source": [
    "L3 calculation:\n",
    "\n",
    "$$\n",
    "\\overset{\\text{L2 output}}{\n",
    "\\begin{pmatrix} \n",
    "a_{1,1} & a_{1,2} & \\dots & a_{1,15} \\\\\n",
    "a_{2,1} & a_{2,2} & \\dots & a_{2,15} \\\\\n",
    "a_{3,1} & a_{3,2} & \\dots & a_{3,15} \\\\\n",
    "a_{4,1} & a_{4,2} & \\dots & a_{4,15} \\\\\n",
    "a_{5,1} & a_{5,2} & \\dots & a_{5,15} \\\\\n",
    "\\vdots & \\vdots & \\ddots & \\vdots \\\\\n",
    "a_{1000,1} & a_{1000,2} & \\dots & a_{1000,15} \\\\\n",
    "\\end{pmatrix}}\n",
    "\\cdot\n",
    "\\overset{\\text{L3 weights}}{\n",
    "\\begin{pmatrix}\n",
    "a_{1,1} \\\\\n",
    "a_{2,1} \\\\\n",
    "a_{3,1} \\\\\n",
    "a_{4,1} \\\\\n",
    "a_{5,1} \\\\\n",
    "\\vdots \\\\\n",
    "a_{15,1} \\\\\n",
    "\\end{pmatrix}}\n",
    "+\n",
    "\\overset{\\text{L3 bias}}{%\n",
    "    a_{1,1}\n",
    "}\n",
    "=\n",
    "\\overset{\\text{Prediction}}{\n",
    "\\begin{pmatrix}\n",
    "a_{1,1} \\\\\n",
    "a_{2,1} \\\\\n",
    "a_{3,1} \\\\\n",
    "a_{4,1} \\\\\n",
    "a_{5,1} \\\\\n",
    "\\vdots \\\\\n",
    "a_{1000,1} \\\\\n",
    "\\end{pmatrix}}\n",
    "vs\n",
    "\\overset{\\text{Targets y}}{\n",
    "\\begin{pmatrix}\n",
    "a_{1,1} \\\\\n",
    "a_{2,1} \\\\\n",
    "a_{3,1} \\\\\n",
    "a_{4,1} \\\\\n",
    "a_{5,1} \\\\\n",
    "\\vdots \\\\\n",
    "a_{1000,1} \\\\\n",
    "\\end{pmatrix}}\n",
    "$$"
   ]
  },
  {
   "cell_type": "markdown",
   "metadata": {},
   "source": [
    "### Define model in Numpy"
   ]
  },
  {
   "cell_type": "code",
   "execution_count": 7,
   "metadata": {},
   "outputs": [],
   "source": [
    "def dense(l_in, w, b):\n",
    "\n",
    "    f = np.matmul(l_in, w) + b\n",
    "    sigmoid = 1 / (1 + np.exp(-f))\n",
    "\n",
    "    return sigmoid"
   ]
  },
  {
   "cell_type": "code",
   "execution_count": 8,
   "metadata": {},
   "outputs": [],
   "source": [
    "def sequential_recursive(x, weights, biases):\n",
    "\n",
    "    if len(weights) == 0:\n",
    "        return x\n",
    "\n",
    "    current_weights = weights[0]\n",
    "    current_biases = biases[0]\n",
    "\n",
    "    next_weights = weights[1:]\n",
    "    next_biases = biases[1:]\n",
    "\n",
    "    l_out = dense(x, current_weights, current_biases)\n",
    "\n",
    "    return sequential_recursive(l_out, next_weights, next_biases)"
   ]
  },
  {
   "cell_type": "markdown",
   "metadata": {},
   "source": [
    "# Answer"
   ]
  },
  {
   "cell_type": "code",
   "execution_count": 9,
   "metadata": {},
   "outputs": [
    {
     "name": "stdout",
     "output_type": "stream",
     "text": [
      "32/32 [==============================] - 0s 3ms/step\n"
     ]
    }
   ],
   "source": [
    "prediction_tf = model.predict(x)\n",
    "prediction_np = sequential_recursive(x, [l1_w, l2_w, l3_w], [l1_b, l2_b, l3_b])\n",
    "\n",
    "prediction_vs_actual = pd.DataFrame(np.c_[prediction_tf, prediction_np, prediction_np>0.5, y], columns=[\"TF\",\"NP\",\"NP>0.5\",\"Actual y\"])"
   ]
  },
  {
   "cell_type": "markdown",
   "metadata": {},
   "source": [
    "Prediction"
   ]
  },
  {
   "cell_type": "code",
   "execution_count": 10,
   "metadata": {},
   "outputs": [
    {
     "data": {
      "text/html": [
       "<div>\n",
       "<style scoped>\n",
       "    .dataframe tbody tr th:only-of-type {\n",
       "        vertical-align: middle;\n",
       "    }\n",
       "\n",
       "    .dataframe tbody tr th {\n",
       "        vertical-align: top;\n",
       "    }\n",
       "\n",
       "    .dataframe thead th {\n",
       "        text-align: right;\n",
       "    }\n",
       "</style>\n",
       "<table border=\"1\" class=\"dataframe\">\n",
       "  <thead>\n",
       "    <tr style=\"text-align: right;\">\n",
       "      <th></th>\n",
       "      <th>TF</th>\n",
       "      <th>NP</th>\n",
       "      <th>NP&gt;0.5</th>\n",
       "      <th>Actual y</th>\n",
       "    </tr>\n",
       "  </thead>\n",
       "  <tbody>\n",
       "    <tr>\n",
       "      <th>0</th>\n",
       "      <td>0.065085</td>\n",
       "      <td>0.065085</td>\n",
       "      <td>0.0</td>\n",
       "      <td>0.0</td>\n",
       "    </tr>\n",
       "    <tr>\n",
       "      <th>1</th>\n",
       "      <td>0.066042</td>\n",
       "      <td>0.066042</td>\n",
       "      <td>0.0</td>\n",
       "      <td>0.0</td>\n",
       "    </tr>\n",
       "    <tr>\n",
       "      <th>2</th>\n",
       "      <td>0.071879</td>\n",
       "      <td>0.071879</td>\n",
       "      <td>0.0</td>\n",
       "      <td>0.0</td>\n",
       "    </tr>\n",
       "    <tr>\n",
       "      <th>3</th>\n",
       "      <td>0.064521</td>\n",
       "      <td>0.064521</td>\n",
       "      <td>0.0</td>\n",
       "      <td>0.0</td>\n",
       "    </tr>\n",
       "    <tr>\n",
       "      <th>4</th>\n",
       "      <td>0.061112</td>\n",
       "      <td>0.061112</td>\n",
       "      <td>0.0</td>\n",
       "      <td>0.0</td>\n",
       "    </tr>\n",
       "    <tr>\n",
       "      <th>...</th>\n",
       "      <td>...</td>\n",
       "      <td>...</td>\n",
       "      <td>...</td>\n",
       "      <td>...</td>\n",
       "    </tr>\n",
       "    <tr>\n",
       "      <th>995</th>\n",
       "      <td>0.962911</td>\n",
       "      <td>0.962911</td>\n",
       "      <td>1.0</td>\n",
       "      <td>1.0</td>\n",
       "    </tr>\n",
       "    <tr>\n",
       "      <th>996</th>\n",
       "      <td>0.942389</td>\n",
       "      <td>0.942389</td>\n",
       "      <td>1.0</td>\n",
       "      <td>1.0</td>\n",
       "    </tr>\n",
       "    <tr>\n",
       "      <th>997</th>\n",
       "      <td>0.961469</td>\n",
       "      <td>0.961469</td>\n",
       "      <td>1.0</td>\n",
       "      <td>1.0</td>\n",
       "    </tr>\n",
       "    <tr>\n",
       "      <th>998</th>\n",
       "      <td>0.962606</td>\n",
       "      <td>0.962606</td>\n",
       "      <td>1.0</td>\n",
       "      <td>1.0</td>\n",
       "    </tr>\n",
       "    <tr>\n",
       "      <th>999</th>\n",
       "      <td>0.960713</td>\n",
       "      <td>0.960713</td>\n",
       "      <td>1.0</td>\n",
       "      <td>1.0</td>\n",
       "    </tr>\n",
       "  </tbody>\n",
       "</table>\n",
       "<p>1000 rows × 4 columns</p>\n",
       "</div>"
      ],
      "text/plain": [
       "           TF        NP  NP>0.5  Actual y\n",
       "0    0.065085  0.065085     0.0       0.0\n",
       "1    0.066042  0.066042     0.0       0.0\n",
       "2    0.071879  0.071879     0.0       0.0\n",
       "3    0.064521  0.064521     0.0       0.0\n",
       "4    0.061112  0.061112     0.0       0.0\n",
       "..        ...       ...     ...       ...\n",
       "995  0.962911  0.962911     1.0       1.0\n",
       "996  0.942389  0.942389     1.0       1.0\n",
       "997  0.961469  0.961469     1.0       1.0\n",
       "998  0.962606  0.962606     1.0       1.0\n",
       "999  0.960713  0.960713     1.0       1.0\n",
       "\n",
       "[1000 rows x 4 columns]"
      ]
     },
     "execution_count": 10,
     "metadata": {},
     "output_type": "execute_result"
    }
   ],
   "source": [
    "prediction_vs_actual"
   ]
  },
  {
   "cell_type": "markdown",
   "metadata": {},
   "source": [
    "Check the difference between prediction and actual"
   ]
  },
  {
   "cell_type": "code",
   "execution_count": 11,
   "metadata": {},
   "outputs": [
    {
     "data": {
      "text/html": [
       "<div>\n",
       "<style scoped>\n",
       "    .dataframe tbody tr th:only-of-type {\n",
       "        vertical-align: middle;\n",
       "    }\n",
       "\n",
       "    .dataframe tbody tr th {\n",
       "        vertical-align: top;\n",
       "    }\n",
       "\n",
       "    .dataframe thead th {\n",
       "        text-align: right;\n",
       "    }\n",
       "</style>\n",
       "<table border=\"1\" class=\"dataframe\">\n",
       "  <thead>\n",
       "    <tr style=\"text-align: right;\">\n",
       "      <th></th>\n",
       "      <th>TF</th>\n",
       "      <th>NP</th>\n",
       "      <th>NP&gt;0.5</th>\n",
       "      <th>Actual y</th>\n",
       "    </tr>\n",
       "  </thead>\n",
       "  <tbody>\n",
       "    <tr>\n",
       "      <th>142</th>\n",
       "      <td>0.948913</td>\n",
       "      <td>0.948913</td>\n",
       "      <td>1.0</td>\n",
       "      <td>0.0</td>\n",
       "    </tr>\n",
       "    <tr>\n",
       "      <th>952</th>\n",
       "      <td>0.352441</td>\n",
       "      <td>0.352441</td>\n",
       "      <td>0.0</td>\n",
       "      <td>1.0</td>\n",
       "    </tr>\n",
       "  </tbody>\n",
       "</table>\n",
       "</div>"
      ],
      "text/plain": [
       "           TF        NP  NP>0.5  Actual y\n",
       "142  0.948913  0.948913     1.0       0.0\n",
       "952  0.352441  0.352441     0.0       1.0"
      ]
     },
     "execution_count": 11,
     "metadata": {},
     "output_type": "execute_result"
    }
   ],
   "source": [
    "prediction_vs_actual.loc[prediction_vs_actual[\"NP>0.5\"]!=prediction_vs_actual[\"Actual y\"]]"
   ]
  },
  {
   "cell_type": "markdown",
   "metadata": {},
   "source": [
    "Show the value incorrectly recognized"
   ]
  },
  {
   "cell_type": "code",
   "execution_count": 12,
   "metadata": {},
   "outputs": [
    {
     "data": {
      "text/plain": [
       "<matplotlib.image.AxesImage at 0x133998b90>"
      ]
     },
     "execution_count": 12,
     "metadata": {},
     "output_type": "execute_result"
    },
    {
     "data": {
      "image/png": "[encoded data removed]",
      "text/plain": [
       "<Figure size 200x200 with 1 Axes>"
      ]
     },
     "metadata": {},
     "output_type": "display_data"
    }
   ],
   "source": [
    "example_diff = np.reshape(x[142],(20,20), order='F')\n",
    "\n",
    "fig, ax = plt.subplots(figsize=(2,2))\n",
    "ax.imshow(example_diff)"
   ]
  }
 ],
 "metadata": {
  "kernelspec": {
   "display_name": ".venv",
   "language": "python",
   "name": "python3"
  },
  "language_info": {
   "codemirror_mode": {
    "name": "ipython",
    "version": 3
   },
   "file_extension": ".py",
   "mimetype": "text/x-python",
   "name": "python",
   "nbconvert_exporter": "python",
   "pygments_lexer": "ipython3",
   "version": "3.11.6"
  }
 },
 "nbformat": 4,
 "nbformat_minor": 2
}

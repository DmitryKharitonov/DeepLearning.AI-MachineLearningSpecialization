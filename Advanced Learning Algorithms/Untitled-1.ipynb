{
 "cells": [
  {
   "cell_type": "code",
   "execution_count": 39,
   "metadata": {},
   "outputs": [],
   "source": [
    "import numpy as np"
   ]
  },
  {
   "cell_type": "code",
   "execution_count": 40,
   "metadata": {},
   "outputs": [],
   "source": [
    "class TreeNode():\n",
    "    \n",
    "    left_child_id = -1\n",
    "    right_child_id = -1\n",
    "\n",
    "    left_child = TreeNode()\n",
    "    right_child = TreeNode()\n",
    "\n",
    "\n",
    "class Tree():\n",
    "    node = TreeNode()\n"
   ]
  },
  {
   "cell_type": "code",
   "execution_count": 56,
   "metadata": {},
   "outputs": [],
   "source": [
    "depth = 0"
   ]
  },
  {
   "cell_type": "code",
   "execution_count": 98,
   "metadata": {},
   "outputs": [],
   "source": [
    "def process(current = TreeNode(), path = []):\n",
    "\n",
    "    if len(path) > 3:\n",
    "        print(\"bottom\")\n",
    "        return 0\n",
    "    \n",
    "    # calculate ig and assign features / rows\n",
    "\n",
    "    current.left_child_id = int(np.random.uniform()*20)\n",
    "    current.right_child_id = int(np.random.uniform()*20)\n",
    "\n",
    "    path_left = path + [current.left_child_id]\n",
    "    path_right = path + [current.right_child_id]\n",
    "\n",
    "    print(path_left, path_right)\n",
    "\n",
    "    process(current.left_child, path_left)\n",
    "    process(current.right_child, path_right)"
   ]
  },
  {
   "cell_type": "code",
   "execution_count": 99,
   "metadata": {},
   "outputs": [],
   "source": [
    "tree = Tree() #root\n",
    "\n"
   ]
  },
  {
   "cell_type": "code",
   "execution_count": 100,
   "metadata": {},
   "outputs": [
    {
     "name": "stdout",
     "output_type": "stream",
     "text": [
      "[-1, 19] [-1, 10]\n",
      "[-1, 19, 4] [-1, 19, 6]\n",
      "[-1, 19, 4, 10] [-1, 19, 4, 17]\n",
      "bottom\n",
      "bottom\n",
      "[-1, 19, 6, 0] [-1, 19, 6, 11]\n",
      "bottom\n",
      "bottom\n",
      "[-1, 10, 12] [-1, 10, 14]\n",
      "[-1, 10, 12, 4] [-1, 10, 12, 19]\n",
      "bottom\n",
      "bottom\n",
      "[-1, 10, 14, 4] [-1, 10, 14, 18]\n",
      "bottom\n",
      "bottom\n"
     ]
    }
   ],
   "source": [
    "process(tree.node, path = [-1,])"
   ]
  },
  {
   "cell_type": "code",
   "execution_count": 93,
   "metadata": {},
   "outputs": [
    {
     "data": {
      "text/plain": [
       "<__main__.TreeNode at 0x108037450>"
      ]
     },
     "execution_count": 93,
     "metadata": {},
     "output_type": "execute_result"
    }
   ],
   "source": [
    "tree.node.left_child"
   ]
  },
  {
   "cell_type": "code",
   "execution_count": null,
   "metadata": {},
   "outputs": [],
   "source": []
  }
 ],
 "metadata": {
  "kernelspec": {
   "display_name": ".venv",
   "language": "python",
   "name": "python3"
  },
  "language_info": {
   "codemirror_mode": {
    "name": "ipython",
    "version": 3
   },
   "file_extension": ".py",
   "mimetype": "text/x-python",
   "name": "python",
   "nbconvert_exporter": "python",
   "pygments_lexer": "ipython3",
   "version": "3.11.6"
  }
 },
 "nbformat": 4,
 "nbformat_minor": 2
}

{
 "cells": [
  {
   "cell_type": "markdown",
   "metadata": {},
   "source": [
    "This notebook implements a NN to recognize handwritten 0 and 1\n",
    "* Implemented in Tensorflow first, and converged\n",
    "* Replicated in Numpy using weights from Tensorflow\n",
    "* No backpropagation\n",
    "* Recognize [0-10] digits will be done later"
   ]
  },
  {
   "cell_type": "code",
   "execution_count": 1,
   "metadata": {},
   "outputs": [
    {
     "name": "stderr",
     "output_type": "stream",
     "text": [
      "2023-07-19 11:40:30.499992: I tensorflow/core/platform/cpu_feature_guard.cc:182] This TensorFlow binary is optimized to use available CPU instructions in performance-critical operations.\n",
      "To enable the following instructions: AVX2 FMA, in other operations, rebuild TensorFlow with the appropriate compiler flags.\n"
     ]
    }
   ],
   "source": [
    "import numpy as np\n",
    "import tensorflow as tf\n",
    "import matplotlib.pyplot as plt"
   ]
  },
  {
   "cell_type": "markdown",
   "metadata": {},
   "source": [
    "Inputs"
   ]
  },
  {
   "cell_type": "code",
   "execution_count": 6,
   "metadata": {},
   "outputs": [
    {
     "data": {
      "text/plain": [
       "((1000, 400), (1000, 1))"
      ]
     },
     "execution_count": 6,
     "metadata": {},
     "output_type": "execute_result"
    }
   ],
   "source": [
    "x_input = np.load(\"handwritten_X.npy\")\n",
    "x = x_input[:1000]\n",
    "y_input = np.load(\"handwritten_Y.npy\")\n",
    "y = y_input[:1000]\n",
    "x.shape, y.shape"
   ]
  },
  {
   "cell_type": "markdown",
   "metadata": {},
   "source": [
    "# Model"
   ]
  },
  {
   "cell_type": "markdown",
   "metadata": {},
   "source": [
    "The neural network is shown in the figure below.    \n",
    "- This has three dense layers with sigmoid activations.\n",
    "    - Recall that our inputs are pixel values of digit images.\n",
    "    - Since the images are of size $20\\times20$, this gives us $400$ inputs  \n",
    "    \n",
    "<img src=\"./images/C2_W1_Assign1.PNG\" width=\"400\" height=\"200\">\n",
    "\n",
    "- The parameters have dimensions that are sized for a neural network with $25$ units in layer 1, $15$ units in layer 2 and $1$ output unit in layer 3. \n",
    "\n",
    "    - Recall that the dimensions of these parameters are determined as follows:\n",
    "        - If network has $s_{in}$ units in a layer and $s_{out}$ units in the next layer, then \n",
    "            - $W$ will be of dimension $s_{in} \\times s_{out}$.\n",
    "            - $b$ will a vector with $s_{out}$ elements\n",
    "  \n",
    "    - Therefore, the shapes of `W`, and `b`,  are \n",
    "        - layer1: The shape of `W1` is (400, 25) and the shape of `b1` is (25,)\n",
    "        - layer2: The shape of `W2` is (25, 15) and the shape of `b2` is: (15,)\n",
    "        - layer3: The shape of `W3` is (15, 1) and the shape of `b3` is: (1,)\n",
    ">**Note:** The bias vector `b` could be represented as a 1-D (n,) or 2-D (1,n) array. Tensorflow utilizes a 1-D representation and this lab will maintain that convention. \n",
    "               "
   ]
  },
  {
   "cell_type": "markdown",
   "metadata": {},
   "source": [
    "# Tensorflow implementation"
   ]
  },
  {
   "cell_type": "code",
   "execution_count": 17,
   "metadata": {},
   "outputs": [],
   "source": [
    "model = tf.keras.Sequential([\n",
    "    tf.keras.Input(shape=(400,)), #For instance, shape=(32,) indicates that the expected input will be batches of 32-dimensional vectors\n",
    "    tf.keras.layers.Dense(units=25, activation=\"sigmoid\",name=\"L1\"),\n",
    "    tf.keras.layers.Dense(units=15, activation=\"sigmoid\",name=\"L2\"),\n",
    "    tf.keras.layers.Dense(units=1, activation=\"sigmoid\",name=\"L3\"),\n",
    "])"
   ]
  },
  {
   "cell_type": "code",
   "execution_count": 18,
   "metadata": {},
   "outputs": [
    {
     "name": "stdout",
     "output_type": "stream",
     "text": [
      "Model: \"sequential_5\"\n",
      "_________________________________________________________________\n"
     ]
    },
    {
     "name": "stdout",
     "output_type": "stream",
     "text": [
      " Layer (type)                Output Shape              Param #   \n",
      "=================================================================\n",
      " L1 (Dense)                  (None, 25)                10025     \n",
      "                                                                 \n",
      " L2 (Dense)                  (None, 15)                390       \n",
      "                                                                 \n",
      " L3 (Dense)                  (None, 1)                 16        \n",
      "                                                                 \n",
      "=================================================================\n",
      "Total params: 10,431\n",
      "Trainable params: 10,431\n",
      "Non-trainable params: 0\n",
      "_________________________________________________________________\n"
     ]
    }
   ],
   "source": [
    "model.summary()"
   ]
  },
  {
   "cell_type": "code",
   "execution_count": 19,
   "metadata": {},
   "outputs": [],
   "source": [
    "model.compile(\n",
    "    optimizer = tf.keras.optimizers.Adam(0.001),\n",
    "    loss = tf.keras.losses.BinaryCrossentropy(),\n",
    ")"
   ]
  },
  {
   "cell_type": "code",
   "execution_count": 21,
   "metadata": {},
   "outputs": [
    {
     "name": "stdout",
     "output_type": "stream",
     "text": [
      "Epoch 1/20\n",
      "32/32 [==============================] - 0s 5ms/step - loss: 0.4362\n",
      "Epoch 2/20\n",
      "32/32 [==============================] - 0s 5ms/step - loss: 0.2767\n",
      "Epoch 3/20\n",
      "32/32 [==============================] - 0s 3ms/step - loss: 0.1793\n",
      "Epoch 4/20\n",
      "32/32 [==============================] - 0s 4ms/step - loss: 0.1259\n",
      "Epoch 5/20\n",
      "32/32 [==============================] - 0s 4ms/step - loss: 0.0947\n",
      "Epoch 6/20\n",
      "32/32 [==============================] - 0s 3ms/step - loss: 0.0749\n",
      "Epoch 7/20\n",
      "32/32 [==============================] - 0s 4ms/step - loss: 0.0614\n",
      "Epoch 8/20\n",
      "32/32 [==============================] - 0s 3ms/step - loss: 0.0514\n",
      "Epoch 9/20\n",
      "32/32 [==============================] - 0s 3ms/step - loss: 0.0442\n",
      "Epoch 10/20\n",
      "32/32 [==============================] - 0s 4ms/step - loss: 0.0385\n",
      "Epoch 11/20\n",
      "32/32 [==============================] - 0s 4ms/step - loss: 0.0342\n",
      "Epoch 12/20\n",
      "32/32 [==============================] - 0s 6ms/step - loss: 0.0306\n",
      "Epoch 13/20\n",
      "32/32 [==============================] - 0s 8ms/step - loss: 0.0278\n",
      "Epoch 14/20\n",
      "32/32 [==============================] - 0s 7ms/step - loss: 0.0255\n",
      "Epoch 15/20\n",
      "32/32 [==============================] - 0s 9ms/step - loss: 0.0235\n",
      "Epoch 16/20\n",
      "32/32 [==============================] - 0s 8ms/step - loss: 0.0218\n",
      "Epoch 17/20\n",
      "32/32 [==============================] - 0s 5ms/step - loss: 0.0204\n",
      "Epoch 18/20\n",
      "32/32 [==============================] - 0s 6ms/step - loss: 0.0192\n",
      "Epoch 19/20\n",
      "32/32 [==============================] - 0s 5ms/step - loss: 0.0182\n",
      "Epoch 20/20\n",
      "32/32 [==============================] - 0s 6ms/step - loss: 0.0172\n"
     ]
    },
    {
     "data": {
      "text/plain": [
       "<keras.callbacks.History at 0x129f8e670>"
      ]
     },
     "execution_count": 21,
     "metadata": {},
     "output_type": "execute_result"
    }
   ],
   "source": [
    "model.fit(x,y,\n",
    "          epochs=20)"
   ]
  },
  {
   "cell_type": "markdown",
   "metadata": {},
   "source": [
    "Predictions"
   ]
  },
  {
   "cell_type": "code",
   "execution_count": 29,
   "metadata": {},
   "outputs": [
    {
     "name": "stdout",
     "output_type": "stream",
     "text": [
      "1/1 [==============================] - 0s 56ms/step\n",
      "zero shape prediction -  [[0.01091505]]\n",
      "1/1 [==============================] - 0s 37ms/step\n",
      "one shape prediction -  [[0.9875544]]\n"
     ]
    }
   ],
   "source": [
    "print(\"zero shape prediction - \",model.predict(x[0].reshape(1,400)))\n",
    "print(\"one shape prediction - \",model.predict(x[500].reshape(1,400)))"
   ]
  },
  {
   "cell_type": "markdown",
   "metadata": {},
   "source": [
    "# Same model in Numpy (forward propagation)"
   ]
  },
  {
   "cell_type": "markdown",
   "metadata": {},
   "source": [
    "sigmoid"
   ]
  },
  {
   "cell_type": "code",
   "execution_count": 30,
   "metadata": {},
   "outputs": [],
   "source": [
    "g = lambda z: 1 / (1 + np.exp(-z))"
   ]
  },
  {
   "cell_type": "markdown",
   "metadata": {},
   "source": [
    "dense layer"
   ]
  },
  {
   "cell_type": "code",
   "execution_count": 59,
   "metadata": {},
   "outputs": [],
   "source": [
    "def dense(L_in, w, b):\n",
    "\n",
    "    f = np.matmul(L_in, w) + b\n",
    "\n",
    "    \"\"\"\n",
    "        option 1: f = np.matmul(L_in, w) + b\n",
    "        option 2: f = np.dot(L_in, w) + b\n",
    "        option 3 (for a single point prediction only):\n",
    "\n",
    "            neurons = w.shape[1]\n",
    "            L_out = np.zeros(neurons)\n",
    "\n",
    "            for i in range(neurons):\n",
    "                f = np.dot(L_in, w[:,i]) + b[i]\n",
    "                L_out[i] = g(f)\n",
    "    \"\"\"\n",
    "    L_out = g(f)\n",
    "\n",
    "    print(f\"{L_in.shape} x {w.shape} = {L_out.shape}\")\n",
    "    return L_out"
   ]
  },
  {
   "cell_type": "markdown",
   "metadata": {},
   "source": [
    "sequential"
   ]
  },
  {
   "cell_type": "code",
   "execution_count": 60,
   "metadata": {},
   "outputs": [],
   "source": [
    "def sequential(x, w1, b1, w2, b2, w3, b3):\n",
    "\n",
    "    L1 = dense(x, w1, b1)\n",
    "    L2 = dense(L1, w2, b2)\n",
    "    L3 = dense(L2, w3, b3)\n",
    "\n",
    "    return L3"
   ]
  },
  {
   "cell_type": "markdown",
   "metadata": {},
   "source": [
    "copy weights from Tensorflow model"
   ]
  },
  {
   "cell_type": "code",
   "execution_count": 61,
   "metadata": {},
   "outputs": [
    {
     "name": "stdout",
     "output_type": "stream",
     "text": [
      "w1.shape = (400, 25), b1.shape = (25,)\n",
      "w1.shape = (25, 15), b1.shape = (15,)\n",
      "w1.shape = (15, 1), b1.shape = (1,)\n"
     ]
    }
   ],
   "source": [
    "w1, b1 = model.get_layer(\"L1\").get_weights()\n",
    "w2, b2 = model.get_layer(\"L2\").get_weights()\n",
    "w3, b3 = model.get_layer(\"L3\").get_weights()\n",
    "print(f\"w1.shape = {w1.shape}, b1.shape = {b1.shape}\")\n",
    "print(f\"w1.shape = {w2.shape}, b1.shape = {b2.shape}\")\n",
    "print(f\"w1.shape = {w3.shape}, b1.shape = {b3.shape}\")"
   ]
  },
  {
   "cell_type": "markdown",
   "metadata": {},
   "source": [
    "Prediction"
   ]
  },
  {
   "cell_type": "code",
   "execution_count": 58,
   "metadata": {},
   "outputs": [
    {
     "name": "stdout",
     "output_type": "stream",
     "text": [
      "(400,) x (400, 25) = (25,)\n",
      "(25,) x (25, 15) = (15,)\n",
      "(15,) x (15, 1) = (1,)\n"
     ]
    },
    {
     "data": {
      "text/plain": [
       "array([0.01091505])"
      ]
     },
     "execution_count": 58,
     "metadata": {},
     "output_type": "execute_result"
    }
   ],
   "source": [
    "sequential(x[0], w1, b1, w2, b2, w3, b3) # zero prediction with 3 hidden layer shapes"
   ]
  },
  {
   "cell_type": "markdown",
   "metadata": {},
   "source": [
    "# Numpy Broadcasting"
   ]
  },
  {
   "cell_type": "code",
   "execution_count": 62,
   "metadata": {},
   "outputs": [
    {
     "name": "stdout",
     "output_type": "stream",
     "text": [
      "[6. 6. 6. 6. 6. 6. 6. 6. 6. 6.], ---> , (10,)\n"
     ]
    }
   ],
   "source": [
    "a = np.ones(shape=((10,)))\n",
    "b = 5\n",
    "\n",
    "c = a + b\n",
    "print(f\"{c}, ---> , {c.shape}\")"
   ]
  },
  {
   "cell_type": "code",
   "execution_count": 63,
   "metadata": {},
   "outputs": [
    {
     "name": "stdout",
     "output_type": "stream",
     "text": [
      "[5. 5. 5. 5. 5. 5. 5. 5. 5. 5.], ---> , (10,)\n"
     ]
    }
   ],
   "source": [
    "c = a * b\n",
    "print(f\"{c}, ---> , {c.shape}\")"
   ]
  },
  {
   "cell_type": "code",
   "execution_count": 64,
   "metadata": {},
   "outputs": [
    {
     "name": "stdout",
     "output_type": "stream",
     "text": [
      "[[6. 6. 6. 6. 6.]\n",
      " [6. 6. 6. 6. 6.]\n",
      " [6. 6. 6. 6. 6.]\n",
      " [6. 6. 6. 6. 6.]\n",
      " [6. 6. 6. 6. 6.]\n",
      " [6. 6. 6. 6. 6.]\n",
      " [6. 6. 6. 6. 6.]\n",
      " [6. 6. 6. 6. 6.]\n",
      " [6. 6. 6. 6. 6.]\n",
      " [6. 6. 6. 6. 6.]], ---> , (10, 5)\n"
     ]
    }
   ],
   "source": [
    "a = np.ones(shape=((10,1)))\n",
    "b = 5 * np.ones(shape=(1,5))\n",
    "\n",
    "c = a + b\n",
    "print(f\"{c}, ---> , {c.shape}\")"
   ]
  },
  {
   "cell_type": "code",
   "execution_count": 65,
   "metadata": {},
   "outputs": [
    {
     "name": "stdout",
     "output_type": "stream",
     "text": [
      "[[5. 5. 5. 5. 5.]\n",
      " [5. 5. 5. 5. 5.]\n",
      " [5. 5. 5. 5. 5.]\n",
      " [5. 5. 5. 5. 5.]\n",
      " [5. 5. 5. 5. 5.]\n",
      " [5. 5. 5. 5. 5.]\n",
      " [5. 5. 5. 5. 5.]\n",
      " [5. 5. 5. 5. 5.]\n",
      " [5. 5. 5. 5. 5.]\n",
      " [5. 5. 5. 5. 5.]], ---> , (10, 5)\n"
     ]
    }
   ],
   "source": [
    "c = a * b\n",
    "print(f\"{c}, ---> , {c.shape}\")"
   ]
  },
  {
   "cell_type": "code",
   "execution_count": null,
   "metadata": {},
   "outputs": [],
   "source": []
  }
 ],
 "metadata": {
  "kernelspec": {
   "display_name": "Python 3",
   "language": "python",
   "name": "python3"
  },
  "language_info": {
   "codemirror_mode": {
    "name": "ipython",
    "version": 3
   },
   "file_extension": ".py",
   "mimetype": "text/x-python",
   "name": "python",
   "nbconvert_exporter": "python",
   "pygments_lexer": "ipython3",
   "version": "3.9.13"
  },
  "orig_nbformat": 4
 },
 "nbformat": 4,
 "nbformat_minor": 2
}

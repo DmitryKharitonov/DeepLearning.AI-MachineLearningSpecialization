{
 "cells": [
  {
   "cell_type": "markdown",
   "metadata": {},
   "source": [
    "# Given\n",
    "\n",
    "A Heart Failure Prediction Dataset from Kaggle\n",
    "\n",
    "# Find \n",
    "\n",
    "One-hot encode the dataset\n",
    "* Implement a decision tree using SKLearn. Explore accuracy depending on:\n",
    "    * min depth\n",
    "    * min tree cnt\n",
    "* Implement Random Forest using SKLearn\n",
    "* Implement XTGBoost"
   ]
  },
  {
   "cell_type": "markdown",
   "metadata": {},
   "source": [
    "# Solution"
   ]
  },
  {
   "cell_type": "code",
   "execution_count": 106,
   "metadata": {},
   "outputs": [],
   "source": [
    "import numpy as np\n",
    "import pandas as pd\n",
    "\n",
    "import matplotlib.pyplot as plt\n",
    "\n",
    "from sklearn.model_selection import train_test_split\n",
    "from sklearn.metrics import accuracy_score\n",
    "from sklearn.tree import DecisionTreeClassifier\n",
    "from sklearn import tree\n",
    "\n",
    "from sklearn.ensemble import RandomForestClassifier\n",
    "\n",
    "import graphviz\n",
    "\n",
    "RANDOM_STATE = 55"
   ]
  },
  {
   "cell_type": "code",
   "execution_count": 107,
   "metadata": {},
   "outputs": [
    {
     "data": {
      "text/html": [
       "<div>\n",
       "<style scoped>\n",
       "    .dataframe tbody tr th:only-of-type {\n",
       "        vertical-align: middle;\n",
       "    }\n",
       "\n",
       "    .dataframe tbody tr th {\n",
       "        vertical-align: top;\n",
       "    }\n",
       "\n",
       "    .dataframe thead th {\n",
       "        text-align: right;\n",
       "    }\n",
       "</style>\n",
       "<table border=\"1\" class=\"dataframe\">\n",
       "  <thead>\n",
       "    <tr style=\"text-align: right;\">\n",
       "      <th></th>\n",
       "      <th>Age</th>\n",
       "      <th>Sex</th>\n",
       "      <th>ChestPainType</th>\n",
       "      <th>RestingBP</th>\n",
       "      <th>Cholesterol</th>\n",
       "      <th>FastingBS</th>\n",
       "      <th>RestingECG</th>\n",
       "      <th>MaxHR</th>\n",
       "      <th>ExerciseAngina</th>\n",
       "      <th>Oldpeak</th>\n",
       "      <th>ST_Slope</th>\n",
       "      <th>HeartDisease</th>\n",
       "    </tr>\n",
       "  </thead>\n",
       "  <tbody>\n",
       "    <tr>\n",
       "      <th>count</th>\n",
       "      <td>918.000000</td>\n",
       "      <td>918</td>\n",
       "      <td>918</td>\n",
       "      <td>918.000000</td>\n",
       "      <td>918.000000</td>\n",
       "      <td>918.000000</td>\n",
       "      <td>918</td>\n",
       "      <td>918.000000</td>\n",
       "      <td>918</td>\n",
       "      <td>918.000000</td>\n",
       "      <td>918</td>\n",
       "      <td>918.000000</td>\n",
       "    </tr>\n",
       "    <tr>\n",
       "      <th>unique</th>\n",
       "      <td>NaN</td>\n",
       "      <td>2</td>\n",
       "      <td>4</td>\n",
       "      <td>NaN</td>\n",
       "      <td>NaN</td>\n",
       "      <td>NaN</td>\n",
       "      <td>3</td>\n",
       "      <td>NaN</td>\n",
       "      <td>2</td>\n",
       "      <td>NaN</td>\n",
       "      <td>3</td>\n",
       "      <td>NaN</td>\n",
       "    </tr>\n",
       "    <tr>\n",
       "      <th>top</th>\n",
       "      <td>NaN</td>\n",
       "      <td>M</td>\n",
       "      <td>ASY</td>\n",
       "      <td>NaN</td>\n",
       "      <td>NaN</td>\n",
       "      <td>NaN</td>\n",
       "      <td>Normal</td>\n",
       "      <td>NaN</td>\n",
       "      <td>N</td>\n",
       "      <td>NaN</td>\n",
       "      <td>Flat</td>\n",
       "      <td>NaN</td>\n",
       "    </tr>\n",
       "    <tr>\n",
       "      <th>freq</th>\n",
       "      <td>NaN</td>\n",
       "      <td>725</td>\n",
       "      <td>496</td>\n",
       "      <td>NaN</td>\n",
       "      <td>NaN</td>\n",
       "      <td>NaN</td>\n",
       "      <td>552</td>\n",
       "      <td>NaN</td>\n",
       "      <td>547</td>\n",
       "      <td>NaN</td>\n",
       "      <td>460</td>\n",
       "      <td>NaN</td>\n",
       "    </tr>\n",
       "    <tr>\n",
       "      <th>mean</th>\n",
       "      <td>53.510893</td>\n",
       "      <td>NaN</td>\n",
       "      <td>NaN</td>\n",
       "      <td>132.396514</td>\n",
       "      <td>198.799564</td>\n",
       "      <td>0.233115</td>\n",
       "      <td>NaN</td>\n",
       "      <td>136.809368</td>\n",
       "      <td>NaN</td>\n",
       "      <td>0.887364</td>\n",
       "      <td>NaN</td>\n",
       "      <td>0.553377</td>\n",
       "    </tr>\n",
       "    <tr>\n",
       "      <th>std</th>\n",
       "      <td>9.432617</td>\n",
       "      <td>NaN</td>\n",
       "      <td>NaN</td>\n",
       "      <td>18.514154</td>\n",
       "      <td>109.384145</td>\n",
       "      <td>0.423046</td>\n",
       "      <td>NaN</td>\n",
       "      <td>25.460334</td>\n",
       "      <td>NaN</td>\n",
       "      <td>1.066570</td>\n",
       "      <td>NaN</td>\n",
       "      <td>0.497414</td>\n",
       "    </tr>\n",
       "    <tr>\n",
       "      <th>min</th>\n",
       "      <td>28.000000</td>\n",
       "      <td>NaN</td>\n",
       "      <td>NaN</td>\n",
       "      <td>0.000000</td>\n",
       "      <td>0.000000</td>\n",
       "      <td>0.000000</td>\n",
       "      <td>NaN</td>\n",
       "      <td>60.000000</td>\n",
       "      <td>NaN</td>\n",
       "      <td>-2.600000</td>\n",
       "      <td>NaN</td>\n",
       "      <td>0.000000</td>\n",
       "    </tr>\n",
       "    <tr>\n",
       "      <th>25%</th>\n",
       "      <td>47.000000</td>\n",
       "      <td>NaN</td>\n",
       "      <td>NaN</td>\n",
       "      <td>120.000000</td>\n",
       "      <td>173.250000</td>\n",
       "      <td>0.000000</td>\n",
       "      <td>NaN</td>\n",
       "      <td>120.000000</td>\n",
       "      <td>NaN</td>\n",
       "      <td>0.000000</td>\n",
       "      <td>NaN</td>\n",
       "      <td>0.000000</td>\n",
       "    </tr>\n",
       "    <tr>\n",
       "      <th>50%</th>\n",
       "      <td>54.000000</td>\n",
       "      <td>NaN</td>\n",
       "      <td>NaN</td>\n",
       "      <td>130.000000</td>\n",
       "      <td>223.000000</td>\n",
       "      <td>0.000000</td>\n",
       "      <td>NaN</td>\n",
       "      <td>138.000000</td>\n",
       "      <td>NaN</td>\n",
       "      <td>0.600000</td>\n",
       "      <td>NaN</td>\n",
       "      <td>1.000000</td>\n",
       "    </tr>\n",
       "    <tr>\n",
       "      <th>75%</th>\n",
       "      <td>60.000000</td>\n",
       "      <td>NaN</td>\n",
       "      <td>NaN</td>\n",
       "      <td>140.000000</td>\n",
       "      <td>267.000000</td>\n",
       "      <td>0.000000</td>\n",
       "      <td>NaN</td>\n",
       "      <td>156.000000</td>\n",
       "      <td>NaN</td>\n",
       "      <td>1.500000</td>\n",
       "      <td>NaN</td>\n",
       "      <td>1.000000</td>\n",
       "    </tr>\n",
       "    <tr>\n",
       "      <th>max</th>\n",
       "      <td>77.000000</td>\n",
       "      <td>NaN</td>\n",
       "      <td>NaN</td>\n",
       "      <td>200.000000</td>\n",
       "      <td>603.000000</td>\n",
       "      <td>1.000000</td>\n",
       "      <td>NaN</td>\n",
       "      <td>202.000000</td>\n",
       "      <td>NaN</td>\n",
       "      <td>6.200000</td>\n",
       "      <td>NaN</td>\n",
       "      <td>1.000000</td>\n",
       "    </tr>\n",
       "  </tbody>\n",
       "</table>\n",
       "</div>"
      ],
      "text/plain": [
       "               Age  Sex ChestPainType   RestingBP  Cholesterol   FastingBS  \\\n",
       "count   918.000000  918           918  918.000000   918.000000  918.000000   \n",
       "unique         NaN    2             4         NaN          NaN         NaN   \n",
       "top            NaN    M           ASY         NaN          NaN         NaN   \n",
       "freq           NaN  725           496         NaN          NaN         NaN   \n",
       "mean     53.510893  NaN           NaN  132.396514   198.799564    0.233115   \n",
       "std       9.432617  NaN           NaN   18.514154   109.384145    0.423046   \n",
       "min      28.000000  NaN           NaN    0.000000     0.000000    0.000000   \n",
       "25%      47.000000  NaN           NaN  120.000000   173.250000    0.000000   \n",
       "50%      54.000000  NaN           NaN  130.000000   223.000000    0.000000   \n",
       "75%      60.000000  NaN           NaN  140.000000   267.000000    0.000000   \n",
       "max      77.000000  NaN           NaN  200.000000   603.000000    1.000000   \n",
       "\n",
       "       RestingECG       MaxHR ExerciseAngina     Oldpeak ST_Slope  \\\n",
       "count         918  918.000000            918  918.000000      918   \n",
       "unique          3         NaN              2         NaN        3   \n",
       "top        Normal         NaN              N         NaN     Flat   \n",
       "freq          552         NaN            547         NaN      460   \n",
       "mean          NaN  136.809368            NaN    0.887364      NaN   \n",
       "std           NaN   25.460334            NaN    1.066570      NaN   \n",
       "min           NaN   60.000000            NaN   -2.600000      NaN   \n",
       "25%           NaN  120.000000            NaN    0.000000      NaN   \n",
       "50%           NaN  138.000000            NaN    0.600000      NaN   \n",
       "75%           NaN  156.000000            NaN    1.500000      NaN   \n",
       "max           NaN  202.000000            NaN    6.200000      NaN   \n",
       "\n",
       "        HeartDisease  \n",
       "count     918.000000  \n",
       "unique           NaN  \n",
       "top              NaN  \n",
       "freq             NaN  \n",
       "mean        0.553377  \n",
       "std         0.497414  \n",
       "min         0.000000  \n",
       "25%         0.000000  \n",
       "50%         1.000000  \n",
       "75%         1.000000  \n",
       "max         1.000000  "
      ]
     },
     "execution_count": 107,
     "metadata": {},
     "output_type": "execute_result"
    }
   ],
   "source": [
    "data = pd.read_csv(\"./Lab10_data.csv\", delimiter=\",\")\n",
    "data.describe(include=\"all\")"
   ]
  },
  {
   "cell_type": "markdown",
   "metadata": {},
   "source": [
    "One-hot encode the categorical values"
   ]
  },
  {
   "cell_type": "code",
   "execution_count": 108,
   "metadata": {},
   "outputs": [],
   "source": [
    "data_one_hot = pd.get_dummies(data, columns=[\"Sex\",\"ChestPainType\",\"RestingECG\",\"ExerciseAngina\",\"ST_Slope\"])\n",
    "\n",
    "x = data_one_hot.drop(columns=\"HeartDisease\")\n",
    "y = data_one_hot[[\"HeartDisease\"]]\n",
    "\n",
    "x_train, x_val, y_train, y_val = train_test_split(x, y, test_size=0.8)"
   ]
  },
  {
   "cell_type": "markdown",
   "metadata": {},
   "source": [
    "### SKLearn DecisionTreeClassifier"
   ]
  },
  {
   "cell_type": "code",
   "execution_count": 109,
   "metadata": {},
   "outputs": [],
   "source": [
    "min_samples_split = [2, 10, 30, 50, 100, 200, 300, 700]\n",
    "max_depth = [1, 2, 3, 4, 8, 16, 32, 64, None]"
   ]
  },
  {
   "cell_type": "markdown",
   "metadata": {},
   "source": [
    "Sampling with replacement \n",
    "- the <i>min_samples_split</i> parameter stops a node from being split if there are less than <i>min_samples_split</i> samples in that node"
   ]
  },
  {
   "cell_type": "code",
   "execution_count": 110,
   "metadata": {},
   "outputs": [
    {
     "data": {
      "text/plain": [
       "<matplotlib.legend.Legend at 0x1289b75d0>"
      ]
     },
     "execution_count": 110,
     "metadata": {},
     "output_type": "execute_result"
    },
    {
     "data": {
      "image/png": "[encoded data removed]",
      "text/plain": [
       "<Figure size 400x400 with 1 Axes>"
      ]
     },
     "metadata": {},
     "output_type": "display_data"
    }
   ],
   "source": [
    "accuracy = [] # [train, val]\n",
    "\n",
    "for sample in min_samples_split:\n",
    "\n",
    "    tree_instance = DecisionTreeClassifier(min_samples_split=sample, random_state=RANDOM_STATE)\n",
    "\n",
    "    tree_instance.fit(x_train, y_train)\n",
    "\n",
    "    prediction = tree_instance.predict(x_train)\n",
    "    acc1 = accuracy_score(y_train, prediction)\n",
    "\n",
    "    prediction = tree_instance.predict(x_val)\n",
    "    acc2 = accuracy_score(y_val, prediction)\n",
    "\n",
    "    accuracy.append([acc1, acc2])\n",
    "\n",
    "accuracy = np.array(accuracy)\n",
    "\n",
    "\n",
    "fig, ax = plt.subplots(figsize = (4,4))\n",
    "ax.plot(min_samples_split, accuracy[:,0], c='b', label=\"train\")\n",
    "ax.plot(min_samples_split, accuracy[:,1], c='r', label=\"validation\")\n",
    "ax.set_xticks(min_samples_split)\n",
    "ax.set_xlabel(\"min_samples_split\")\n",
    "ax.set_ylabel(\"accuracy\")\n",
    "plt.title(\"Min samples in a leaf\")\n",
    "plt.legend()"
   ]
  },
  {
   "cell_type": "markdown",
   "metadata": {},
   "source": [
    "Tree depth"
   ]
  },
  {
   "cell_type": "code",
   "execution_count": 111,
   "metadata": {},
   "outputs": [
    {
     "data": {
      "text/plain": [
       "<matplotlib.legend.Legend at 0x12a41f510>"
      ]
     },
     "execution_count": 111,
     "metadata": {},
     "output_type": "execute_result"
    },
    {
     "data": {
      "image/png": "[encoded data removed]",
      "text/plain": [
       "<Figure size 400x400 with 1 Axes>"
      ]
     },
     "metadata": {},
     "output_type": "display_data"
    }
   ],
   "source": [
    "accuracy = [] # [train, val]\n",
    "\n",
    "for depth in max_depth:\n",
    "\n",
    "    tree_instance = DecisionTreeClassifier(max_depth=depth, random_state=RANDOM_STATE)\n",
    "\n",
    "    tree_instance.fit(x_train, y_train)\n",
    "\n",
    "    prediction = tree_instance.predict(x_train)\n",
    "    acc1 = accuracy_score(y_train, prediction)\n",
    "\n",
    "    prediction = tree_instance.predict(x_val)\n",
    "    acc2 = accuracy_score(y_val, prediction)\n",
    "\n",
    "    accuracy.append([acc1, acc2])\n",
    "\n",
    "accuracy = np.array(accuracy)\n",
    "\n",
    "\n",
    "\n",
    "fig, ax = plt.subplots(figsize = (4,4))\n",
    "ax.plot(max_depth, accuracy[:,0], c='b', label=\"train\")\n",
    "ax.plot(max_depth, accuracy[:,1], c='r', label=\"validation\")\n",
    "ax.set_xticks(ticks=max_depth[:-1])\n",
    "ax.set_xlabel(\"max_depth\")\n",
    "ax.set_ylabel(\"accuracy\")\n",
    "plt.title(\"Tree depth sizes\")\n",
    "plt.legend()"
   ]
  },
  {
   "cell_type": "markdown",
   "metadata": {},
   "source": [
    "Best tree"
   ]
  },
  {
   "cell_type": "code",
   "execution_count": 112,
   "metadata": {},
   "outputs": [
    {
     "name": "stdout",
     "output_type": "stream",
     "text": [
      "Metrics train: \n",
      "\t Accuracy score: 0.8415\n",
      "Metrics validation: \n",
      "\t Accuracy score: 0.7741\n"
     ]
    },
    {
     "data": {
      "image/svg+xml": [
       "<?xml version=\"1.0\" encoding=\"UTF-8\" standalone=\"no\"?>\n",
       "<!DOCTYPE svg PUBLIC \"-//W3C//DTD SVG 1.1//EN\"\n",
       " \"http://www.w3.org/Graphics/SVG/1.1/DTD/svg11.dtd\">\n",
       "<!-- Generated by graphviz version 9.0.0 (20230911.1827)\n",
       " -->\n",
       "<!-- Title: Tree Pages: 1 -->\n",
       "<svg width=\"545pt\" height=\"433pt\"\n",
       " viewBox=\"0.00 0.00 544.75 433.00\" xmlns=\"http://www.w3.org/2000/svg\" xmlns:xlink=\"http://www.w3.org/1999/xlink\">\n",
       "<g id=\"graph0\" class=\"graph\" transform=\"scale(1 1) rotate(0) translate(4 429)\">\n",
       "<title>Tree</title>\n",
       "<polygon fill=\"white\" stroke=\"none\" points=\"-4,4 -4,-429 540.75,-429 540.75,4 -4,4\"/>\n",
       "<!-- 0 -->\n",
       "<g id=\"node1\" class=\"node\">\n",
       "<title>0</title>\n",
       "<path fill=\"#ecf6fd\" stroke=\"black\" d=\"M339.75,-425C339.75,-425 230,-425 230,-425 224,-425 218,-419 218,-413 218,-413 218,-354 218,-354 218,-348 224,-342 230,-342 230,-342 339.75,-342 339.75,-342 345.75,-342 351.75,-348 351.75,-354 351.75,-354 351.75,-413 351.75,-413 351.75,-419 345.75,-425 339.75,-425\"/>\n",
       "<text text-anchor=\"start\" x=\"226\" y=\"-407.7\" font-family=\"Helvetica,sans-Serif\" font-size=\"14.00\">ST_Slope_Up ≤ 0.5</text>\n",
       "<text text-anchor=\"start\" x=\"249.62\" y=\"-392.7\" font-family=\"Helvetica,sans-Serif\" font-size=\"14.00\">gini = 0.499</text>\n",
       "<text text-anchor=\"start\" x=\"240.25\" y=\"-377.7\" font-family=\"Helvetica,sans-Serif\" font-size=\"14.00\">samples = 183</text>\n",
       "<text text-anchor=\"start\" x=\"238.38\" y=\"-362.7\" font-family=\"Helvetica,sans-Serif\" font-size=\"14.00\">value = [87, 96]</text>\n",
       "<text text-anchor=\"start\" x=\"257.88\" y=\"-347.7\" font-family=\"Helvetica,sans-Serif\" font-size=\"14.00\">class = 1</text>\n",
       "</g>\n",
       "<!-- 1 -->\n",
       "<g id=\"node2\" class=\"node\">\n",
       "<title>1</title>\n",
       "<path fill=\"#73baed\" stroke=\"black\" d=\"M246.38,-306C246.38,-306 161.38,-306 161.38,-306 155.38,-306 149.38,-300 149.38,-294 149.38,-294 149.38,-235 149.38,-235 149.38,-229 155.38,-223 161.38,-223 161.38,-223 246.38,-223 246.38,-223 252.38,-223 258.38,-229 258.38,-235 258.38,-235 258.38,-294 258.38,-294 258.38,-300 252.38,-306 246.38,-306\"/>\n",
       "<text text-anchor=\"start\" x=\"165.62\" y=\"-288.7\" font-family=\"Helvetica,sans-Serif\" font-size=\"14.00\">Sex_M ≤ 0.5</text>\n",
       "<text text-anchor=\"start\" x=\"168.62\" y=\"-273.7\" font-family=\"Helvetica,sans-Serif\" font-size=\"14.00\">gini = 0.349</text>\n",
       "<text text-anchor=\"start\" x=\"159.25\" y=\"-258.7\" font-family=\"Helvetica,sans-Serif\" font-size=\"14.00\">samples = 102</text>\n",
       "<text text-anchor=\"start\" x=\"157.38\" y=\"-243.7\" font-family=\"Helvetica,sans-Serif\" font-size=\"14.00\">value = [23, 79]</text>\n",
       "<text text-anchor=\"start\" x=\"176.88\" y=\"-228.7\" font-family=\"Helvetica,sans-Serif\" font-size=\"14.00\">class = 1</text>\n",
       "</g>\n",
       "<!-- 0&#45;&gt;1 -->\n",
       "<g id=\"edge1\" class=\"edge\">\n",
       "<title>0&#45;&gt;1</title>\n",
       "<path fill=\"none\" stroke=\"black\" d=\"M256.55,-341.58C250.72,-333.16 244.52,-324.2 238.49,-315.5\"/>\n",
       "<polygon fill=\"black\" stroke=\"black\" points=\"241.48,-313.67 232.91,-307.44 235.73,-317.66 241.48,-313.67\"/>\n",
       "<text text-anchor=\"middle\" x=\"227.58\" y=\"-325\" font-family=\"Helvetica,sans-Serif\" font-size=\"14.00\">True</text>\n",
       "</g>\n",
       "<!-- 6 -->\n",
       "<g id=\"node7\" class=\"node\">\n",
       "<title>6</title>\n",
       "<path fill=\"#eca26e\" stroke=\"black\" d=\"M409.88,-306C409.88,-306 321.88,-306 321.88,-306 315.88,-306 309.88,-300 309.88,-294 309.88,-294 309.88,-235 309.88,-235 309.88,-229 315.88,-223 321.88,-223 321.88,-223 409.88,-223 409.88,-223 415.88,-223 421.88,-229 421.88,-235 421.88,-235 421.88,-294 421.88,-294 421.88,-300 415.88,-306 409.88,-306\"/>\n",
       "<text text-anchor=\"start\" x=\"317.88\" y=\"-288.7\" font-family=\"Helvetica,sans-Serif\" font-size=\"14.00\">FastingBS ≤ 0.5</text>\n",
       "<text text-anchor=\"start\" x=\"330.62\" y=\"-273.7\" font-family=\"Helvetica,sans-Serif\" font-size=\"14.00\">gini = 0.332</text>\n",
       "<text text-anchor=\"start\" x=\"325\" y=\"-258.7\" font-family=\"Helvetica,sans-Serif\" font-size=\"14.00\">samples = 81</text>\n",
       "<text text-anchor=\"start\" x=\"319.38\" y=\"-243.7\" font-family=\"Helvetica,sans-Serif\" font-size=\"14.00\">value = [64, 17]</text>\n",
       "<text text-anchor=\"start\" x=\"338.88\" y=\"-228.7\" font-family=\"Helvetica,sans-Serif\" font-size=\"14.00\">class = 0</text>\n",
       "</g>\n",
       "<!-- 0&#45;&gt;6 -->\n",
       "<g id=\"edge6\" class=\"edge\">\n",
       "<title>0&#45;&gt;6</title>\n",
       "<path fill=\"none\" stroke=\"black\" d=\"M313.2,-341.58C319.03,-333.16 325.23,-324.2 331.26,-315.5\"/>\n",
       "<polygon fill=\"black\" stroke=\"black\" points=\"334.02,-317.66 336.84,-307.44 328.27,-313.67 334.02,-317.66\"/>\n",
       "<text text-anchor=\"middle\" x=\"342.17\" y=\"-325\" font-family=\"Helvetica,sans-Serif\" font-size=\"14.00\">False</text>\n",
       "</g>\n",
       "<!-- 2 -->\n",
       "<g id=\"node3\" class=\"node\">\n",
       "<title>2</title>\n",
       "<path fill=\"#eca06a\" stroke=\"black\" d=\"M85.75,-179.5C85.75,-179.5 12,-179.5 12,-179.5 6,-179.5 0,-173.5 0,-167.5 0,-167.5 0,-123.5 0,-123.5 0,-117.5 6,-111.5 12,-111.5 12,-111.5 85.75,-111.5 85.75,-111.5 91.75,-111.5 97.75,-117.5 97.75,-123.5 97.75,-123.5 97.75,-167.5 97.75,-167.5 97.75,-173.5 91.75,-179.5 85.75,-179.5\"/>\n",
       "<text text-anchor=\"start\" x=\"17.38\" y=\"-162.2\" font-family=\"Helvetica,sans-Serif\" font-size=\"14.00\">gini = 0.32</text>\n",
       "<text text-anchor=\"start\" x=\"8\" y=\"-147.2\" font-family=\"Helvetica,sans-Serif\" font-size=\"14.00\">samples = 10</text>\n",
       "<text text-anchor=\"start\" x=\"9.88\" y=\"-132.2\" font-family=\"Helvetica,sans-Serif\" font-size=\"14.00\">value = [8, 2]</text>\n",
       "<text text-anchor=\"start\" x=\"21.88\" y=\"-117.2\" font-family=\"Helvetica,sans-Serif\" font-size=\"14.00\">class = 0</text>\n",
       "</g>\n",
       "<!-- 1&#45;&gt;2 -->\n",
       "<g id=\"edge2\" class=\"edge\">\n",
       "<title>1&#45;&gt;2</title>\n",
       "<path fill=\"none\" stroke=\"black\" d=\"M149.66,-222.58C134.19,-210.9 117.36,-198.19 101.95,-186.57\"/>\n",
       "<polygon fill=\"black\" stroke=\"black\" points=\"104.37,-184 94.28,-180.77 100.15,-189.59 104.37,-184\"/>\n",
       "</g>\n",
       "<!-- 3 -->\n",
       "<g id=\"node4\" class=\"node\">\n",
       "<title>3</title>\n",
       "<path fill=\"#60b0ea\" stroke=\"black\" d=\"M280.12,-187C280.12,-187 127.62,-187 127.62,-187 121.62,-187 115.62,-181 115.62,-175 115.62,-175 115.62,-116 115.62,-116 115.62,-110 121.62,-104 127.62,-104 127.62,-104 280.12,-104 280.12,-104 286.12,-104 292.12,-110 292.12,-116 292.12,-116 292.12,-175 292.12,-175 292.12,-181 286.12,-187 280.12,-187\"/>\n",
       "<text text-anchor=\"start\" x=\"123.62\" y=\"-169.7\" font-family=\"Helvetica,sans-Serif\" font-size=\"14.00\">ChestPainType_ASY ≤ 0.5</text>\n",
       "<text text-anchor=\"start\" x=\"168.62\" y=\"-154.7\" font-family=\"Helvetica,sans-Serif\" font-size=\"14.00\">gini = 0.273</text>\n",
       "<text text-anchor=\"start\" x=\"163\" y=\"-139.7\" font-family=\"Helvetica,sans-Serif\" font-size=\"14.00\">samples = 92</text>\n",
       "<text text-anchor=\"start\" x=\"157.38\" y=\"-124.7\" font-family=\"Helvetica,sans-Serif\" font-size=\"14.00\">value = [15, 77]</text>\n",
       "<text text-anchor=\"start\" x=\"176.88\" y=\"-109.7\" font-family=\"Helvetica,sans-Serif\" font-size=\"14.00\">class = 1</text>\n",
       "</g>\n",
       "<!-- 1&#45;&gt;3 -->\n",
       "<g id=\"edge3\" class=\"edge\">\n",
       "<title>1&#45;&gt;3</title>\n",
       "<path fill=\"none\" stroke=\"black\" d=\"M203.88,-222.58C203.88,-214.79 203.88,-206.53 203.88,-198.45\"/>\n",
       "<polygon fill=\"black\" stroke=\"black\" points=\"207.38,-198.71 203.88,-188.71 200.38,-198.71 207.38,-198.71\"/>\n",
       "</g>\n",
       "<!-- 4 -->\n",
       "<g id=\"node5\" class=\"node\">\n",
       "<title>4</title>\n",
       "<path fill=\"#acd6f4\" stroke=\"black\" d=\"M133.38,-68C133.38,-68 48.38,-68 48.38,-68 42.38,-68 36.38,-62 36.38,-56 36.38,-56 36.38,-12 36.38,-12 36.38,-6 42.38,0 48.38,0 48.38,0 133.38,0 133.38,0 139.38,0 145.38,-6 145.38,-12 145.38,-12 145.38,-56 145.38,-56 145.38,-62 139.38,-68 133.38,-68\"/>\n",
       "<text text-anchor=\"start\" x=\"55.62\" y=\"-50.7\" font-family=\"Helvetica,sans-Serif\" font-size=\"14.00\">gini = 0.464</text>\n",
       "<text text-anchor=\"start\" x=\"50\" y=\"-35.7\" font-family=\"Helvetica,sans-Serif\" font-size=\"14.00\">samples = 30</text>\n",
       "<text text-anchor=\"start\" x=\"44.38\" y=\"-20.7\" font-family=\"Helvetica,sans-Serif\" font-size=\"14.00\">value = [11, 19]</text>\n",
       "<text text-anchor=\"start\" x=\"63.88\" y=\"-5.7\" font-family=\"Helvetica,sans-Serif\" font-size=\"14.00\">class = 1</text>\n",
       "</g>\n",
       "<!-- 3&#45;&gt;4 -->\n",
       "<g id=\"edge4\" class=\"edge\">\n",
       "<title>3&#45;&gt;4</title>\n",
       "<path fill=\"none\" stroke=\"black\" d=\"M161.8,-103.73C152.48,-94.7 142.6,-85.12 133.27,-76.08\"/>\n",
       "<polygon fill=\"black\" stroke=\"black\" points=\"135.94,-73.8 126.33,-69.35 131.07,-78.83 135.94,-73.8\"/>\n",
       "</g>\n",
       "<!-- 5 -->\n",
       "<g id=\"node6\" class=\"node\">\n",
       "<title>5</title>\n",
       "<path fill=\"#47a4e7\" stroke=\"black\" d=\"M252.62,-68C252.62,-68 175.12,-68 175.12,-68 169.12,-68 163.12,-62 163.12,-56 163.12,-56 163.12,-12 163.12,-12 163.12,-6 169.12,0 175.12,0 175.12,0 252.62,0 252.62,0 258.62,0 264.62,-6 264.62,-12 264.62,-12 264.62,-56 264.62,-56 264.62,-62 258.62,-68 252.62,-68\"/>\n",
       "<text text-anchor=\"start\" x=\"178.62\" y=\"-50.7\" font-family=\"Helvetica,sans-Serif\" font-size=\"14.00\">gini = 0.121</text>\n",
       "<text text-anchor=\"start\" x=\"173\" y=\"-35.7\" font-family=\"Helvetica,sans-Serif\" font-size=\"14.00\">samples = 62</text>\n",
       "<text text-anchor=\"start\" x=\"171.12\" y=\"-20.7\" font-family=\"Helvetica,sans-Serif\" font-size=\"14.00\">value = [4, 58]</text>\n",
       "<text text-anchor=\"start\" x=\"186.88\" y=\"-5.7\" font-family=\"Helvetica,sans-Serif\" font-size=\"14.00\">class = 1</text>\n",
       "</g>\n",
       "<!-- 3&#45;&gt;5 -->\n",
       "<g id=\"edge5\" class=\"edge\">\n",
       "<title>3&#45;&gt;5</title>\n",
       "<path fill=\"none\" stroke=\"black\" d=\"M207.6,-103.73C208.31,-95.88 209.07,-87.63 209.8,-79.67\"/>\n",
       "<polygon fill=\"black\" stroke=\"black\" points=\"213.27,-80.08 210.7,-69.81 206.3,-79.45 213.27,-80.08\"/>\n",
       "</g>\n",
       "<!-- 7 -->\n",
       "<g id=\"node8\" class=\"node\">\n",
       "<title>7</title>\n",
       "<path fill=\"#e99659\" stroke=\"black\" d=\"M409.12,-187C409.12,-187 322.62,-187 322.62,-187 316.62,-187 310.62,-181 310.62,-175 310.62,-175 310.62,-116 310.62,-116 310.62,-110 316.62,-104 322.62,-104 322.62,-104 409.12,-104 409.12,-104 415.12,-104 421.12,-110 421.12,-116 421.12,-116 421.12,-175 421.12,-175 421.12,-181 415.12,-187 409.12,-187\"/>\n",
       "<text text-anchor=\"start\" x=\"318.62\" y=\"-169.7\" font-family=\"Helvetica,sans-Serif\" font-size=\"14.00\">MaxHR ≤ 180.5</text>\n",
       "<text text-anchor=\"start\" x=\"330.62\" y=\"-154.7\" font-family=\"Helvetica,sans-Serif\" font-size=\"14.00\">gini = 0.242</text>\n",
       "<text text-anchor=\"start\" x=\"325\" y=\"-139.7\" font-family=\"Helvetica,sans-Serif\" font-size=\"14.00\">samples = 71</text>\n",
       "<text text-anchor=\"start\" x=\"319.38\" y=\"-124.7\" font-family=\"Helvetica,sans-Serif\" font-size=\"14.00\">value = [61, 10]</text>\n",
       "<text text-anchor=\"start\" x=\"338.88\" y=\"-109.7\" font-family=\"Helvetica,sans-Serif\" font-size=\"14.00\">class = 0</text>\n",
       "</g>\n",
       "<!-- 6&#45;&gt;7 -->\n",
       "<g id=\"edge7\" class=\"edge\">\n",
       "<title>6&#45;&gt;7</title>\n",
       "<path fill=\"none\" stroke=\"black\" d=\"M365.88,-222.58C365.88,-214.79 365.88,-206.53 365.88,-198.45\"/>\n",
       "<polygon fill=\"black\" stroke=\"black\" points=\"369.38,-198.71 365.88,-188.71 362.38,-198.71 369.38,-198.71\"/>\n",
       "</g>\n",
       "<!-- 10 -->\n",
       "<g id=\"node11\" class=\"node\">\n",
       "<title>10</title>\n",
       "<path fill=\"#8ec7f0\" stroke=\"black\" d=\"M524.75,-179.5C524.75,-179.5 451,-179.5 451,-179.5 445,-179.5 439,-173.5 439,-167.5 439,-167.5 439,-123.5 439,-123.5 439,-117.5 445,-111.5 451,-111.5 451,-111.5 524.75,-111.5 524.75,-111.5 530.75,-111.5 536.75,-117.5 536.75,-123.5 536.75,-123.5 536.75,-167.5 536.75,-167.5 536.75,-173.5 530.75,-179.5 524.75,-179.5\"/>\n",
       "<text text-anchor=\"start\" x=\"456.38\" y=\"-162.2\" font-family=\"Helvetica,sans-Serif\" font-size=\"14.00\">gini = 0.42</text>\n",
       "<text text-anchor=\"start\" x=\"447\" y=\"-147.2\" font-family=\"Helvetica,sans-Serif\" font-size=\"14.00\">samples = 10</text>\n",
       "<text text-anchor=\"start\" x=\"448.88\" y=\"-132.2\" font-family=\"Helvetica,sans-Serif\" font-size=\"14.00\">value = [3, 7]</text>\n",
       "<text text-anchor=\"start\" x=\"460.88\" y=\"-117.2\" font-family=\"Helvetica,sans-Serif\" font-size=\"14.00\">class = 1</text>\n",
       "</g>\n",
       "<!-- 6&#45;&gt;10 -->\n",
       "<g id=\"edge10\" class=\"edge\">\n",
       "<title>6&#45;&gt;10</title>\n",
       "<path fill=\"none\" stroke=\"black\" d=\"M408.54,-222.58C420.38,-211.23 433.23,-198.9 445.07,-187.55\"/>\n",
       "<polygon fill=\"black\" stroke=\"black\" points=\"447.2,-190.36 452,-180.91 442.36,-185.3 447.2,-190.36\"/>\n",
       "</g>\n",
       "<!-- 8 -->\n",
       "<g id=\"node9\" class=\"node\">\n",
       "<title>8</title>\n",
       "<path fill=\"#e89253\" stroke=\"black\" d=\"M393.62,-68C393.62,-68 316.12,-68 316.12,-68 310.12,-68 304.12,-62 304.12,-56 304.12,-56 304.12,-12 304.12,-12 304.12,-6 310.12,0 316.12,0 316.12,0 393.62,0 393.62,0 399.62,0 405.62,-6 405.62,-12 405.62,-12 405.62,-56 405.62,-56 405.62,-62 399.62,-68 393.62,-68\"/>\n",
       "<text text-anchor=\"start\" x=\"319.62\" y=\"-50.7\" font-family=\"Helvetica,sans-Serif\" font-size=\"14.00\">gini = 0.208</text>\n",
       "<text text-anchor=\"start\" x=\"314\" y=\"-35.7\" font-family=\"Helvetica,sans-Serif\" font-size=\"14.00\">samples = 68</text>\n",
       "<text text-anchor=\"start\" x=\"312.12\" y=\"-20.7\" font-family=\"Helvetica,sans-Serif\" font-size=\"14.00\">value = [60, 8]</text>\n",
       "<text text-anchor=\"start\" x=\"327.88\" y=\"-5.7\" font-family=\"Helvetica,sans-Serif\" font-size=\"14.00\">class = 0</text>\n",
       "</g>\n",
       "<!-- 7&#45;&gt;8 -->\n",
       "<g id=\"edge8\" class=\"edge\">\n",
       "<title>7&#45;&gt;8</title>\n",
       "<path fill=\"none\" stroke=\"black\" d=\"M361.78,-103.73C360.99,-95.88 360.16,-87.63 359.36,-79.67\"/>\n",
       "<polygon fill=\"black\" stroke=\"black\" points=\"362.85,-79.41 358.37,-69.81 355.89,-80.11 362.85,-79.41\"/>\n",
       "</g>\n",
       "<!-- 9 -->\n",
       "<g id=\"node10\" class=\"node\">\n",
       "<title>9</title>\n",
       "<path fill=\"#9ccef2\" stroke=\"black\" d=\"M505.88,-68C505.88,-68 435.88,-68 435.88,-68 429.88,-68 423.88,-62 423.88,-56 423.88,-56 423.88,-12 423.88,-12 423.88,-6 429.88,0 435.88,0 435.88,0 505.88,0 505.88,0 511.88,0 517.88,-6 517.88,-12 517.88,-12 517.88,-56 517.88,-56 517.88,-62 511.88,-68 505.88,-68\"/>\n",
       "<text text-anchor=\"start\" x=\"435.62\" y=\"-50.7\" font-family=\"Helvetica,sans-Serif\" font-size=\"14.00\">gini = 0.444</text>\n",
       "<text text-anchor=\"start\" x=\"433.75\" y=\"-35.7\" font-family=\"Helvetica,sans-Serif\" font-size=\"14.00\">samples = 3</text>\n",
       "<text text-anchor=\"start\" x=\"431.88\" y=\"-20.7\" font-family=\"Helvetica,sans-Serif\" font-size=\"14.00\">value = [1, 2]</text>\n",
       "<text text-anchor=\"start\" x=\"443.88\" y=\"-5.7\" font-family=\"Helvetica,sans-Serif\" font-size=\"14.00\">class = 1</text>\n",
       "</g>\n",
       "<!-- 7&#45;&gt;9 -->\n",
       "<g id=\"edge9\" class=\"edge\">\n",
       "<title>7&#45;&gt;9</title>\n",
       "<path fill=\"none\" stroke=\"black\" d=\"M404.97,-103.73C413.54,-94.79 422.63,-85.32 431.22,-76.36\"/>\n",
       "<polygon fill=\"black\" stroke=\"black\" points=\"433.5,-79.03 437.9,-69.39 428.45,-74.19 433.5,-79.03\"/>\n",
       "</g>\n",
       "</g>\n",
       "</svg>\n"
      ],
      "text/plain": [
       "<graphviz.sources.Source at 0x127ce8e90>"
      ]
     },
     "execution_count": 112,
     "metadata": {},
     "output_type": "execute_result"
    }
   ],
   "source": [
    "best_tree = DecisionTreeClassifier(min_samples_split=50, max_depth=3)\n",
    "\n",
    "best_tree.fit(x_train, y_train)\n",
    "\n",
    "print(f\"Metrics train: \\n\\t Accuracy score: {accuracy_score(best_tree.predict(x_train),y_train):.4f}\")\n",
    "print(f\"Metrics validation: \\n\\t Accuracy score: {accuracy_score(best_tree.predict(x_val),y_val):.4f}\")\n",
    "\n",
    "# generate a plot of the decision tree\n",
    "dot_data = tree.export_graphviz(best_tree, out_file=None, \n",
    "                     feature_names=np.array(x.columns),  \n",
    "                     class_names=[\"0\",\"1\"],  \n",
    "                     filled=True, rounded=True,  \n",
    "                     special_characters=True)  \n",
    "graph = graphviz.Source(dot_data)  \n",
    "\n",
    "graph"
   ]
  },
  {
   "cell_type": "markdown",
   "metadata": {},
   "source": [
    "### Random Forest - SKLearn RandomForestClassifier"
   ]
  },
  {
   "cell_type": "markdown",
   "metadata": {},
   "source": [
    "Min_sample_split"
   ]
  },
  {
   "cell_type": "code",
   "execution_count": 113,
   "metadata": {},
   "outputs": [
    {
     "data": {
      "text/plain": [
       "<matplotlib.legend.Legend at 0x12a4c75d0>"
      ]
     },
     "execution_count": 113,
     "metadata": {},
     "output_type": "execute_result"
    },
    {
     "data": {
      "image/png": "[encoded data removed]",
      "text/plain": [
       "<Figure size 400x400 with 1 Axes>"
      ]
     },
     "metadata": {},
     "output_type": "display_data"
    }
   ],
   "source": [
    "accuracy = [] # [train, val]\n",
    "\n",
    "for sample in min_samples_split:\n",
    "\n",
    "    tree_instance = RandomForestClassifier(min_samples_split=sample, random_state=RANDOM_STATE)\n",
    "\n",
    "    tree_instance.fit(x_train, y_train.values.ravel())\n",
    "\n",
    "    prediction = tree_instance.predict(x_train)\n",
    "    acc1 = accuracy_score(y_train, prediction)\n",
    "\n",
    "    prediction = tree_instance.predict(x_val)\n",
    "    acc2 = accuracy_score(y_val, prediction)\n",
    "\n",
    "    accuracy.append([acc1, acc2])\n",
    "\n",
    "accuracy = np.array(accuracy)\n",
    "\n",
    "\n",
    "fig, ax = plt.subplots(figsize = (4,4))\n",
    "ax.plot(min_samples_split, accuracy[:,0], c='b', label=\"train\")\n",
    "ax.plot(min_samples_split, accuracy[:,1], c='r', label=\"validation\")\n",
    "\n",
    "ax.set_xticks(min_samples_split)\n",
    "ax.set_xticklabels(min_samples_split)\n",
    "ax.set_xlabel(\"min_samples_split\")\n",
    "ax.set_ylabel(\"accuracy\")\n",
    "plt.title(\"Min samples in a leaf\")\n",
    "plt.legend()"
   ]
  },
  {
   "cell_type": "markdown",
   "metadata": {},
   "source": [
    "Max_depth"
   ]
  },
  {
   "cell_type": "code",
   "execution_count": 114,
   "metadata": {},
   "outputs": [
    {
     "data": {
      "text/plain": [
       "<matplotlib.legend.Legend at 0x1289a75d0>"
      ]
     },
     "execution_count": 114,
     "metadata": {},
     "output_type": "execute_result"
    },
    {
     "data": {
      "image/png": "[encoded data removed]",
      "text/plain": [
       "<Figure size 400x400 with 1 Axes>"
      ]
     },
     "metadata": {},
     "output_type": "display_data"
    }
   ],
   "source": [
    "accuracy = [] # [train, val]\n",
    "\n",
    "for depth in max_depth:\n",
    "\n",
    "    tree_instance = RandomForestClassifier(max_depth=depth, random_state=RANDOM_STATE)\n",
    "\n",
    "    tree_instance.fit(x_train, y_train.values.ravel())\n",
    "\n",
    "    prediction = tree_instance.predict(x_train)\n",
    "    acc1 = accuracy_score(y_train, prediction)\n",
    "\n",
    "    prediction = tree_instance.predict(x_val)\n",
    "    acc2 = accuracy_score(y_val, prediction)\n",
    "\n",
    "    accuracy.append([acc1, acc2])\n",
    "\n",
    "accuracy = np.array(accuracy)\n",
    "\n",
    "\n",
    "\n",
    "fig, ax = plt.subplots(figsize = (4,4))\n",
    "ax.plot(max_depth, accuracy[:,0], c='b', label=\"train\")\n",
    "ax.plot(max_depth, accuracy[:,1], c='r', label=\"validation\")\n",
    "\n",
    "ax.set_xticks(max_depth[:-1])\n",
    "ax.set_xticklabels(max_depth[:-1])\n",
    "ax.set_xlabel(\"max_depth\")\n",
    "ax.set_ylabel(\"accuracy\")\n",
    "plt.title(\"Max depth sizes\")\n",
    "plt.legend()"
   ]
  },
  {
   "cell_type": "markdown",
   "metadata": {},
   "source": [
    "N_estimators"
   ]
  },
  {
   "cell_type": "code",
   "execution_count": 115,
   "metadata": {},
   "outputs": [],
   "source": [
    "n_estimators = [10, 50, 100, 500, 1000]"
   ]
  },
  {
   "cell_type": "code",
   "execution_count": 116,
   "metadata": {},
   "outputs": [
    {
     "data": {
      "text/plain": [
       "<matplotlib.legend.Legend at 0x12a5c25d0>"
      ]
     },
     "execution_count": 116,
     "metadata": {},
     "output_type": "execute_result"
    },
    {
     "data": {
      "image/png": "[encoded data removed]",
      "text/plain": [
       "<Figure size 400x400 with 1 Axes>"
      ]
     },
     "metadata": {},
     "output_type": "display_data"
    }
   ],
   "source": [
    "accuracy = [] # [train, val]\n",
    "\n",
    "for estimator in n_estimators:\n",
    "\n",
    "    tree_instance = RandomForestClassifier(n_estimators=estimator, random_state=RANDOM_STATE)\n",
    "\n",
    "    tree_instance.fit(x_train, y_train.values.ravel())\n",
    "\n",
    "    prediction = tree_instance.predict(x_train)\n",
    "    acc1 = accuracy_score(y_train, prediction)\n",
    "\n",
    "    prediction = tree_instance.predict(x_val)\n",
    "    acc2 = accuracy_score(y_val, prediction)\n",
    "\n",
    "    accuracy.append([acc1, acc2])\n",
    "\n",
    "accuracy = np.array(accuracy)\n",
    "\n",
    "\n",
    "\n",
    "fig, ax = plt.subplots(figsize = (4,4))\n",
    "ax.plot(n_estimators, accuracy[:,0], c='b', label=\"train\")\n",
    "ax.plot(n_estimators, accuracy[:,1], c='r', label=\"validation\")\n",
    "ax.set_xticks(ticks=n_estimators)\n",
    "ax.set_xlabel(\"n_estimators\")\n",
    "ax.set_ylabel(\"accuracy\")\n",
    "plt.title(\"Trees in a forest qty\")\n",
    "plt.legend()"
   ]
  },
  {
   "cell_type": "markdown",
   "metadata": {},
   "source": [
    "Best Forest"
   ]
  },
  {
   "cell_type": "code",
   "execution_count": 117,
   "metadata": {},
   "outputs": [
    {
     "name": "stdout",
     "output_type": "stream",
     "text": [
      "Metrics train:\n",
      "\tAccuracy score: 0.8852\n",
      "Metrics test:\n",
      "\tAccuracy score: 0.8721\n"
     ]
    }
   ],
   "source": [
    "best_forest = RandomForestClassifier(n_estimators = 500,\n",
    "                                             max_depth = 3,\n",
    "                                             min_samples_split = 10).fit(x_train,y_train.values.ravel())\n",
    "\n",
    "print(f\"Metrics train:\\n\\tAccuracy score: {accuracy_score(best_forest.predict(x_train),y_train):.4f}\\nMetrics test:\\n\\tAccuracy score: {accuracy_score(best_forest.predict(x_val),y_val):.4f}\")"
   ]
  },
  {
   "cell_type": "markdown",
   "metadata": {},
   "source": [
    "### Random Forest - XGBoost"
   ]
  },
  {
   "cell_type": "markdown",
   "metadata": {},
   "source": [
    "Instead of building uncorrelated trees, XTGBoost focuses every next tree on fails in previous tree predictions.\n",
    "* XTGBooost uses same parameters with additional learning rate $\\lambda$"
   ]
  },
  {
   "cell_type": "code",
   "execution_count": 118,
   "metadata": {},
   "outputs": [],
   "source": [
    "import xgboost as xgb"
   ]
  },
  {
   "cell_type": "code",
   "execution_count": 119,
   "metadata": {},
   "outputs": [
    {
     "name": "stdout",
     "output_type": "stream",
     "text": [
      "[0]\tvalidation_0-logloss:0.67692\n",
      "[1]\tvalidation_0-logloss:0.65358\n",
      "[2]\tvalidation_0-logloss:0.62835\n",
      "[3]\tvalidation_0-logloss:0.60490\n",
      "[4]\tvalidation_0-logloss:0.59783\n",
      "[5]\tvalidation_0-logloss:0.58406\n",
      "[6]\tvalidation_0-logloss:0.57169\n",
      "[7]\tvalidation_0-logloss:0.56540\n",
      "[8]\tvalidation_0-logloss:0.56486\n",
      "[9]\tvalidation_0-logloss:0.55597\n",
      "[10]\tvalidation_0-logloss:0.54886\n",
      "[11]\tvalidation_0-logloss:0.54077\n",
      "[12]\tvalidation_0-logloss:0.53471\n"
     ]
    },
    {
     "name": "stdout",
     "output_type": "stream",
     "text": [
      "[13]\tvalidation_0-logloss:0.53077\n",
      "[14]\tvalidation_0-logloss:0.52546\n",
      "[15]\tvalidation_0-logloss:0.52096\n",
      "[16]\tvalidation_0-logloss:0.52602\n",
      "[17]\tvalidation_0-logloss:0.52364\n",
      "[18]\tvalidation_0-logloss:0.51843\n",
      "[19]\tvalidation_0-logloss:0.51892\n",
      "[20]\tvalidation_0-logloss:0.51795\n",
      "[21]\tvalidation_0-logloss:0.51853\n",
      "[22]\tvalidation_0-logloss:0.51492\n",
      "[23]\tvalidation_0-logloss:0.51919\n",
      "[24]\tvalidation_0-logloss:0.52679\n",
      "[25]\tvalidation_0-logloss:0.53158\n",
      "[26]\tvalidation_0-logloss:0.52905\n",
      "[27]\tvalidation_0-logloss:0.53179\n",
      "[28]\tvalidation_0-logloss:0.52864\n",
      "[29]\tvalidation_0-logloss:0.53306\n",
      "[30]\tvalidation_0-logloss:0.53900\n",
      "[31]\tvalidation_0-logloss:0.53825\n",
      "[32]\tvalidation_0-logloss:0.54329\n"
     ]
    },
    {
     "data": {
      "text/html": [
       "<style>#sk-container-id-13 {color: black;}#sk-container-id-13 pre{padding: 0;}#sk-container-id-13 div.sk-toggleable {background-color: white;}#sk-container-id-13 label.sk-toggleable__label {cursor: pointer;display: block;width: 100%;margin-bottom: 0;padding: 0.3em;box-sizing: border-box;text-align: center;}#sk-container-id-13 label.sk-toggleable__label-arrow:before {content: \"▸\";float: left;margin-right: 0.25em;color: #696969;}#sk-container-id-13 label.sk-toggleable__label-arrow:hover:before {color: black;}#sk-container-id-13 div.sk-estimator:hover label.sk-toggleable__label-arrow:before {color: black;}#sk-container-id-13 div.sk-toggleable__content {max-height: 0;max-width: 0;overflow: hidden;text-align: left;background-color: #f0f8ff;}#sk-container-id-13 div.sk-toggleable__content pre {margin: 0.2em;color: black;border-radius: 0.25em;background-color: #f0f8ff;}#sk-container-id-13 input.sk-toggleable__control:checked~div.sk-toggleable__content {max-height: 200px;max-width: 100%;overflow: auto;}#sk-container-id-13 input.sk-toggleable__control:checked~label.sk-toggleable__label-arrow:before {content: \"▾\";}#sk-container-id-13 div.sk-estimator input.sk-toggleable__control:checked~label.sk-toggleable__label {background-color: #d4ebff;}#sk-container-id-13 div.sk-label input.sk-toggleable__control:checked~label.sk-toggleable__label {background-color: #d4ebff;}#sk-container-id-13 input.sk-hidden--visually {border: 0;clip: rect(1px 1px 1px 1px);clip: rect(1px, 1px, 1px, 1px);height: 1px;margin: -1px;overflow: hidden;padding: 0;position: absolute;width: 1px;}#sk-container-id-13 div.sk-estimator {font-family: monospace;background-color: #f0f8ff;border: 1px dotted black;border-radius: 0.25em;box-sizing: border-box;margin-bottom: 0.5em;}#sk-container-id-13 div.sk-estimator:hover {background-color: #d4ebff;}#sk-container-id-13 div.sk-parallel-item::after {content: \"\";width: 100%;border-bottom: 1px solid gray;flex-grow: 1;}#sk-container-id-13 div.sk-label:hover label.sk-toggleable__label {background-color: #d4ebff;}#sk-container-id-13 div.sk-serial::before {content: \"\";position: absolute;border-left: 1px solid gray;box-sizing: border-box;top: 0;bottom: 0;left: 50%;z-index: 0;}#sk-container-id-13 div.sk-serial {display: flex;flex-direction: column;align-items: center;background-color: white;padding-right: 0.2em;padding-left: 0.2em;position: relative;}#sk-container-id-13 div.sk-item {position: relative;z-index: 1;}#sk-container-id-13 div.sk-parallel {display: flex;align-items: stretch;justify-content: center;background-color: white;position: relative;}#sk-container-id-13 div.sk-item::before, #sk-container-id-13 div.sk-parallel-item::before {content: \"\";position: absolute;border-left: 1px solid gray;box-sizing: border-box;top: 0;bottom: 0;left: 50%;z-index: -1;}#sk-container-id-13 div.sk-parallel-item {display: flex;flex-direction: column;z-index: 1;position: relative;background-color: white;}#sk-container-id-13 div.sk-parallel-item:first-child::after {align-self: flex-end;width: 50%;}#sk-container-id-13 div.sk-parallel-item:last-child::after {align-self: flex-start;width: 50%;}#sk-container-id-13 div.sk-parallel-item:only-child::after {width: 0;}#sk-container-id-13 div.sk-dashed-wrapped {border: 1px dashed gray;margin: 0 0.4em 0.5em 0.4em;box-sizing: border-box;padding-bottom: 0.4em;background-color: white;}#sk-container-id-13 div.sk-label label {font-family: monospace;font-weight: bold;display: inline-block;line-height: 1.2em;}#sk-container-id-13 div.sk-label-container {text-align: center;}#sk-container-id-13 div.sk-container {/* jupyter's `normalize.less` sets `[hidden] { display: none; }` but bootstrap.min.css set `[hidden] { display: none !important; }` so we also need the `!important` here to be able to override the default hidden behavior on the sphinx rendered scikit-learn.org. See: https://github.com/scikit-learn/scikit-learn/issues/21755 */display: inline-block !important;position: relative;}#sk-container-id-13 div.sk-text-repr-fallback {display: none;}</style><div id=\"sk-container-id-13\" class=\"sk-top-container\"><div class=\"sk-text-repr-fallback\"><pre>XGBClassifier(base_score=None, booster=None, callbacks=None,\n",
       "              colsample_bylevel=None, colsample_bynode=None,\n",
       "              colsample_bytree=None, device=None, early_stopping_rounds=10,\n",
       "              enable_categorical=False, eval_metric=None, feature_types=None,\n",
       "              gamma=None, grow_policy=None, importance_type=None,\n",
       "              interaction_constraints=None, learning_rate=0.1, max_bin=None,\n",
       "              max_cat_threshold=None, max_cat_to_onehot=None,\n",
       "              max_delta_step=None, max_depth=None, max_leaves=None,\n",
       "              min_child_weight=None, missing=nan, monotone_constraints=None,\n",
       "              multi_strategy=None, n_estimators=500, n_jobs=None,\n",
       "              num_parallel_tree=None, random_state=55, ...)</pre><b>In a Jupyter environment, please rerun this cell to show the HTML representation or trust the notebook. <br />On GitHub, the HTML representation is unable to render, please try loading this page with nbviewer.org.</b></div><div class=\"sk-container\" hidden><div class=\"sk-item\"><div class=\"sk-estimator sk-toggleable\"><input class=\"sk-toggleable__control sk-hidden--visually\" id=\"sk-estimator-id-13\" type=\"checkbox\" checked><label for=\"sk-estimator-id-13\" class=\"sk-toggleable__label sk-toggleable__label-arrow\">XGBClassifier</label><div class=\"sk-toggleable__content\"><pre>XGBClassifier(base_score=None, booster=None, callbacks=None,\n",
       "              colsample_bylevel=None, colsample_bynode=None,\n",
       "              colsample_bytree=None, device=None, early_stopping_rounds=10,\n",
       "              enable_categorical=False, eval_metric=None, feature_types=None,\n",
       "              gamma=None, grow_policy=None, importance_type=None,\n",
       "              interaction_constraints=None, learning_rate=0.1, max_bin=None,\n",
       "              max_cat_threshold=None, max_cat_to_onehot=None,\n",
       "              max_delta_step=None, max_depth=None, max_leaves=None,\n",
       "              min_child_weight=None, missing=nan, monotone_constraints=None,\n",
       "              multi_strategy=None, n_estimators=500, n_jobs=None,\n",
       "              num_parallel_tree=None, random_state=55, ...)</pre></div></div></div></div></div>"
      ],
      "text/plain": [
       "XGBClassifier(base_score=None, booster=None, callbacks=None,\n",
       "              colsample_bylevel=None, colsample_bynode=None,\n",
       "              colsample_bytree=None, device=None, early_stopping_rounds=10,\n",
       "              enable_categorical=False, eval_metric=None, feature_types=None,\n",
       "              gamma=None, grow_policy=None, importance_type=None,\n",
       "              interaction_constraints=None, learning_rate=0.1, max_bin=None,\n",
       "              max_cat_threshold=None, max_cat_to_onehot=None,\n",
       "              max_delta_step=None, max_depth=None, max_leaves=None,\n",
       "              min_child_weight=None, missing=nan, monotone_constraints=None,\n",
       "              multi_strategy=None, n_estimators=500, n_jobs=None,\n",
       "              num_parallel_tree=None, random_state=55, ...)"
      ]
     },
     "execution_count": 119,
     "metadata": {},
     "output_type": "execute_result"
    }
   ],
   "source": [
    "xgboost = xgb.XGBClassifier(learning_rate = 0.1, \n",
    "                            n_estimators=500,\n",
    "                            verbosity=1,\n",
    "                            early_stopping_rounds=10,\n",
    "                            random_state=RANDOM_STATE)\n",
    "\n",
    "n = int(len(x_train)*0.8)\n",
    "\n",
    "x_train_fit, x_train_eval, y_train_fit, y_train_eval = x_train[:n], x_train[n:], y_train[:n], y_train[n:]\n",
    "\n",
    "xgboost.fit(x_train_fit, y_train_fit, eval_set=[(x_train_eval, y_train_eval)])"
   ]
  },
  {
   "cell_type": "code",
   "execution_count": 120,
   "metadata": {},
   "outputs": [
    {
     "data": {
      "text/plain": [
       "22"
      ]
     },
     "execution_count": 120,
     "metadata": {},
     "output_type": "execute_result"
    }
   ],
   "source": [
    "xgboost.best_iteration"
   ]
  },
  {
   "cell_type": "code",
   "execution_count": 121,
   "metadata": {},
   "outputs": [
    {
     "name": "stdout",
     "output_type": "stream",
     "text": [
      "Metrics train:\n",
      "\tAccuracy score: 0.9235\n",
      "Metrics test:\n",
      "\tAccuracy score: 0.8054\n"
     ]
    }
   ],
   "source": [
    "print(f\"Metrics train:\\n\\tAccuracy score: {accuracy_score(xgboost.predict(x_train),y_train):.4f}\\nMetrics test:\\n\\tAccuracy score: {accuracy_score(xgboost.predict(x_val),y_val):.4f}\")"
   ]
  },
  {
   "cell_type": "markdown",
   "metadata": {},
   "source": [
    "Comparison"
   ]
  },
  {
   "cell_type": "markdown",
   "metadata": {},
   "source": [
    "| Model         | Accuracy (Train Set)  | Accuracy (Test Set) |\n",
    "| ------------- | -----------------     | -----------------   |\n",
    "| DecisionTree  |     0.8689           |    0.8082           |\n",
    "| RandomForest (searching best fit)  |     0.9016           |    0.8558           |\n",
    "| XGBoost       |     0.9617           |    0.8068           |"
   ]
  }
 ],
 "metadata": {
  "kernelspec": {
   "display_name": ".venv",
   "language": "python",
   "name": "python3"
  },
  "language_info": {
   "codemirror_mode": {
    "name": "ipython",
    "version": 3
   },
   "file_extension": ".py",
   "mimetype": "text/x-python",
   "name": "python",
   "nbconvert_exporter": "python",
   "pygments_lexer": "ipython3",
   "version": "3.11.6"
  }
 },
 "nbformat": 4,
 "nbformat_minor": 2
}

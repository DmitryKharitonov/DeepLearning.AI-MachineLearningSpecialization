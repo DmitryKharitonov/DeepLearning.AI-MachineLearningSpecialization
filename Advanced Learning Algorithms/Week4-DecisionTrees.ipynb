{
 "cells": [
  {
   "cell_type": "code",
   "execution_count": 1,
   "metadata": {},
   "outputs": [],
   "source": [
    "import numpy as np\n",
    "import matplotlib.pyplot as plt"
   ]
  },
  {
   "cell_type": "markdown",
   "metadata": {},
   "source": [
    "# Entropy - measure of impurity"
   ]
  },
  {
   "cell_type": "code",
   "execution_count": 2,
   "metadata": {},
   "outputs": [],
   "source": [
    "#p = target class, so 1-p = not-target class\n",
    "#if p=0 the funciton should return 0\n",
    "\n",
    "def entropy(p):\n",
    "    if p.sum()==0 or p.sum()==1:\n",
    "        return 0\n",
    "    else:\n",
    "        return -p * np.log2(p) - (1-p) * np.log2(1-p)\n"
   ]
  },
  {
   "cell_type": "code",
   "execution_count": 3,
   "metadata": {},
   "outputs": [
    {
     "data": {
      "text/plain": [
       "Text(0, 0.5, 'Entropy')"
      ]
     },
     "execution_count": 3,
     "metadata": {},
     "output_type": "execute_result"
    },
    {
     "data": {
      "image/png": "[encoded data removed]",
      "text/plain": [
       "<Figure size 400x400 with 1 Axes>"
      ]
     },
     "metadata": {},
     "output_type": "display_data"
    }
   ],
   "source": [
    "p_ = np.array(range(1,100,1))/100\n",
    "\n",
    "fig, ax = plt.subplots(figsize=(4,4))\n",
    "ax.plot(p_,entropy(p_))\n",
    "ax.set_xlabel(\"ratio p\")\n",
    "ax.set_ylabel(\"Entropy\")"
   ]
  },
  {
   "cell_type": "markdown",
   "metadata": {},
   "source": [
    "# Information Gain (purity)"
   ]
  },
  {
   "cell_type": "code",
   "execution_count": 4,
   "metadata": {},
   "outputs": [],
   "source": [
    "def InformationGain(left_right_arrays):\n",
    "    \"\"\"\n",
    "    inputs:\n",
    "        left_right_arrays = array of 2 lists depending on a target features, ex. target(1) = cat:\n",
    "            left_arr = np.array([1, 0, 0]) ~ 1 cat and 2 dogs\n",
    "            right_arr = np.array([0, 1, 1, 1, 0]) ~ 3 cats and 2 dogs\n",
    "    outputs:\n",
    "        information gain, higher = better\n",
    "    \"\"\"\n",
    "\n",
    "    left_arr = left_right_arrays[0]\n",
    "    right_arr = left_right_arrays[1]\n",
    "\n",
    "    left_impurity = entropy(left_arr.sum() / len(left_arr))\n",
    "    right_impurity = entropy(right_arr.sum() / len(right_arr))\n",
    "\n",
    "    total_cnt = len(left_arr) + len(right_arr)\n",
    "    left_weight = len(left_arr) / total_cnt\n",
    "    right_weight = len(right_arr) / total_cnt\n",
    "\n",
    "    InformationLoss = left_impurity * left_weight + right_impurity * right_weight\n",
    "    InformationGain = entropy(np.array([0.5])) - InformationLoss\n",
    "\n",
    "    return InformationGain"
   ]
  },
  {
   "cell_type": "markdown",
   "metadata": {},
   "source": [
    "# Binary Classification example"
   ]
  },
  {
   "cell_type": "markdown",
   "metadata": {},
   "source": [
    "## Data (one-hot encoded)"
   ]
  },
  {
   "cell_type": "code",
   "execution_count": 5,
   "metadata": {},
   "outputs": [
    {
     "data": {
      "text/plain": [
       "((10, 3), (10,))"
      ]
     },
     "execution_count": 5,
     "metadata": {},
     "output_type": "execute_result"
    }
   ],
   "source": [
    "x_train = np.array([\n",
    " [1, 1, 1],\n",
    " [0, 0, 1],\n",
    " [0, 1, 0],\n",
    " [1, 0, 1],\n",
    " [1, 1, 1],\n",
    " [1, 1, 0],\n",
    " [0, 0, 0],\n",
    " [1, 1, 0],\n",
    " [0, 1, 0],\n",
    " [0, 1, 0]])\n",
    "\n",
    "y_train = np.array([1, 1, 0, 0, 1, 1, 0, 1, 0, 0])\n",
    "\n",
    "x_train.shape, y_train.shape"
   ]
  },
  {
   "cell_type": "markdown",
   "metadata": {},
   "source": [
    "## Finding decision tree root"
   ]
  },
  {
   "cell_type": "code",
   "execution_count": 6,
   "metadata": {},
   "outputs": [
    {
     "name": "stdout",
     "output_type": "stream",
     "text": [
      "feature 0 gain = [0.27807191]\n",
      " feature 1 gain = [0.03485155]\n",
      " feature 2 gain = [0.12451125]\n"
     ]
    }
   ],
   "source": [
    "target = 1\n",
    "features_qty = x_train.shape[1]\n",
    "features_information_gain = []\n",
    "\n",
    "for feature in range(features_qty):\n",
    "    \n",
    "    #split into targets and others\n",
    "    left_selection = y_train[x_train[0:,feature]==target]\n",
    "    right_selection = y_train[x_train[0:,feature]!=target]\n",
    "\n",
    "    IG = InformationGain([left_selection, right_selection])\n",
    "    features_information_gain.append(IG)\n",
    "\n",
    "print(f\"feature 0 gain = {features_information_gain[0]}\\n \\\n",
    "feature 1 gain = {features_information_gain[1]}\\n \\\n",
    "feature 2 gain = {features_information_gain[2]}\")"
   ]
  },
  {
   "cell_type": "markdown",
   "metadata": {},
   "source": [
    "## Visualization\n",
    "<img src=\"./images/Screenshot 2023-07-28 at 21.16.10.png\"></img>"
   ]
  },
  {
   "cell_type": "markdown",
   "metadata": {},
   "source": [
    "# Recursive full-depth algo"
   ]
  },
  {
   "cell_type": "code",
   "execution_count": 7,
   "metadata": {},
   "outputs": [],
   "source": [
    "target = 1\n",
    "\n",
    "def next_best_feature(x_train, y_train, features_to_use, indepth_index, decision_tree):\n",
    "\n",
    "    best_feature = []\n",
    "    features_ig = np.zeros(x_train.shape[1])\n",
    "\n",
    "    #assess Information Gain for every feature in x_train, and pick the highest\n",
    "\n",
    "    for feature in range(x_train.shape[1]):\n",
    "        if feature in features_to_use:\n",
    "            left_selection = y_train[x_train[:,feature]==target]\n",
    "            right_selection = y_train[x_train[:,feature]!=target]\n",
    "            IG = InformationGain([left_selection, right_selection])\n",
    "            features_ig[feature]=IG\n",
    "        else:\n",
    "            continue\n",
    "\n",
    "    best_feature = np.argmax(features_ig)\n",
    "    decision_tree.append([indepth_index, best_feature])\n",
    "    #print(f\"depth index = {indepth_index}, ig assessment = {features_ig}, best_feature - {best_feature}\")\n",
    "\n",
    "    # exclude best feature from future analysis\n",
    "\n",
    "    left_features = [i for i in features_to_use if i != best_feature]\n",
    "\n",
    "    # exit case 1 - all features were assessed\n",
    "\n",
    "    if len(left_features)<=1:\n",
    "        #print(\"reached the root\")\n",
    "        return \"exit\"\n",
    "\n",
    "    # exit case 2 - no information gain anymore\n",
    "\n",
    "    if np.sum(features_ig)==0:\n",
    "        #print(\"no further improvement\")\n",
    "        return \"exit\"\n",
    "\n",
    "        #left branch subset\n",
    "\n",
    "    reduced_x_left = x_train[x_train[:,best_feature]==target]\n",
    "    reduced_y_left = y_train[x_train[:,best_feature]==target]\n",
    "\n",
    "    next_best_feature(reduced_x_left, reduced_y_left, left_features, indepth_index + 1, decision_tree)\n",
    "\n",
    "        # right branch subset\n",
    "\n",
    "    reduced_x_right = x_train[x_train[:,best_feature]!=target]\n",
    "    reduced_y_right = y_train[x_train[:,best_feature]!=target]\n",
    "\n",
    "    next_best_feature(reduced_x_right, reduced_y_right, left_features, indepth_index + 1, decision_tree)\n",
    "\n",
    "    return best_feature, reduced_x_left, reduced_y_left, reduced_x_right, reduced_y_right, left_features, decision_tree"
   ]
  },
  {
   "cell_type": "markdown",
   "metadata": {},
   "source": [
    "## Generate decision tree"
   ]
  },
  {
   "cell_type": "code",
   "execution_count": 8,
   "metadata": {},
   "outputs": [],
   "source": [
    "def decision_tree(x_train, y_train):\n",
    "    \n",
    "    decision_tree = np.array([])\n",
    "    features_to_assess = np.arange(x_train.shape[1])\n",
    "    \n",
    "    best_feature, reduced_x_left, reduced_y_left, reduced_x_right, reduced_y_right, features_to_use, decision_tree = next_best_feature(x_train, y_train, features_to_assess, indepth_index = 0, decision_tree = [])\n",
    "\n",
    "    t = np.array(decision_tree)\n",
    "    t[t[:,0].argsort()][:,1]\n",
    "\n",
    "    level = []\n",
    "\n",
    "    for i in np.unique(t[:,0]):\n",
    "        level.append(t[t[:,0]==i][:,1])\n",
    "\n",
    "    return level\n"
   ]
  },
  {
   "cell_type": "markdown",
   "metadata": {},
   "source": [
    "## Testing the algorithm"
   ]
  },
  {
   "cell_type": "markdown",
   "metadata": {},
   "source": [
    "Example 1 (same as in lection)"
   ]
  },
  {
   "cell_type": "code",
   "execution_count": 9,
   "metadata": {},
   "outputs": [
    {
     "data": {
      "text/plain": [
       "[array([0]), array([1, 2])]"
      ]
     },
     "execution_count": 9,
     "metadata": {},
     "output_type": "execute_result"
    }
   ],
   "source": [
    "decision_tree(x_train, y_train)"
   ]
  },
  {
   "cell_type": "markdown",
   "metadata": {},
   "source": [
    "Example 2 (larger dataset)"
   ]
  },
  {
   "cell_type": "code",
   "execution_count": 10,
   "metadata": {},
   "outputs": [],
   "source": [
    "x_ = np.random.uniform(low=0, high=1, size=(500,7))\n",
    "x_test = np.round(x_,0)\n",
    "y_ = np.random.uniform(low=0, high=1, size=(500,1))\n",
    "y_test = np.round(y_,0)"
   ]
  },
  {
   "cell_type": "code",
   "execution_count": 11,
   "metadata": {},
   "outputs": [
    {
     "data": {
      "text/plain": [
       "[array([5]),\n",
       " array([4, 0]),\n",
       " array([0, 1, 2, 4]),\n",
       " array([6, 3, 3, 6, 1, 4, 3, 6]),\n",
       " array([3, 3, 1, 2, 6, 2, 2, 2, 3, 6, 1, 6, 2, 2, 1, 1]),\n",
       " array([1, 2, 1, 1, 2, 2, 1, 1, 2, 2, 0, 0, 0, 3, 0, 3, 6, 6, 4, 4, 6, 6,\n",
       "        3, 1, 6, 1, 6, 1, 2, 2, 2, 2])]"
      ]
     },
     "execution_count": 11,
     "metadata": {},
     "output_type": "execute_result"
    }
   ],
   "source": [
    "decision_tree(x_test, y_test)"
   ]
  },
  {
   "cell_type": "code",
   "execution_count": null,
   "metadata": {},
   "outputs": [],
   "source": []
  }
 ],
 "metadata": {
  "kernelspec": {
   "display_name": "Python 3",
   "language": "python",
   "name": "python3"
  },
  "language_info": {
   "codemirror_mode": {
    "name": "ipython",
    "version": 3
   },
   "file_extension": ".py",
   "mimetype": "text/x-python",
   "name": "python",
   "nbconvert_exporter": "python",
   "pygments_lexer": "ipython3",
   "version": "3.9.13"
  },
  "orig_nbformat": 4
 },
 "nbformat": 4,
 "nbformat_minor": 2
}

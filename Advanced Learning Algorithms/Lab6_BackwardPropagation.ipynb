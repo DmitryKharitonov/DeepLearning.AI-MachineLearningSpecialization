{
 "cells": [
  {
   "cell_type": "markdown",
   "metadata": {},
   "source": [
    "# Given\n",
    "\n",
    "Train data\n",
    "\n",
    "|x|y|\n",
    "|-|-|\n",
    "|1|5|\n",
    "\n",
    "and TF model with 1 hidden layer and 1 output layer:\n",
    "\n",
    "* 1 hidden layer $a_1$\n",
    "    *   relu activation, $w_1 = 2$, $b_1 = 0$ \n",
    "* 1 output layer\n",
    "    *   relu acivation, $w_2 = 3$, $b_1 = 1$ \n",
    "\n",
    "*No Regularization\n",
    "\n",
    "# Calculate\n",
    "\n",
    "Backwards propagation, i.e. adjustment to weights \n",
    "* $\\frac{dJ}{dw_1}$ and $\\frac{dJ}{db_1}$\n",
    "* $\\frac{dJ}{dw_2}$ and $\\frac{dJ}{db_2}$"
   ]
  },
  {
   "cell_type": "markdown",
   "metadata": {},
   "source": [
    "# Solution"
   ]
  },
  {
   "cell_type": "code",
   "execution_count": 17,
   "metadata": {},
   "outputs": [],
   "source": [
    "import numpy as np\n",
    "\n",
    "x = 1\n",
    "y = 5\n",
    "w1, b1 = 2, 0\n",
    "w2, b2 = 3, 1"
   ]
  },
  {
   "cell_type": "markdown",
   "metadata": {},
   "source": [
    "### Forward propagation"
   ]
  },
  {
   "cell_type": "code",
   "execution_count": 18,
   "metadata": {},
   "outputs": [
    {
     "name": "stdout",
     "output_type": "stream",
     "text": [
      "a1: 2 -> a2: 7\n",
      "Cost J: 2.0\n"
     ]
    }
   ],
   "source": [
    "def relu(a):\n",
    "    return(np.maximum(0,a))\n",
    "\n",
    "\n",
    "a1 = w1 * x + b1\n",
    "activated_a1 = relu(a1)\n",
    "a2 = w2 * activated_a1 + b2\n",
    "activated_a2 = relu(a2)\n",
    "\n",
    "print(f\"a1: {activated_a1} -> a2: {activated_a2}\")\n",
    "\n",
    "# Cost\n",
    "J = 1/2 * (activated_a2 - y) ** 2\n",
    "\n",
    "print(f\"Cost J: {J}\")"
   ]
  },
  {
   "cell_type": "markdown",
   "metadata": {},
   "source": [
    "### Backward Propagation"
   ]
  },
  {
   "cell_type": "markdown",
   "metadata": {},
   "source": [
    "##### Layer 2"
   ]
  },
  {
   "cell_type": "markdown",
   "metadata": {},
   "source": [
    "Formulas:\n",
    "\n",
    "$$\n",
    "\\begin{cases}\n",
    "\\frac{\\partial J}{\\partial w_2} = \\frac{\\partial J}{\\partial a^{activated}_2} \\cdot \\frac{\\partial a^{activated}_2}{\\partial a_2} \\cdot \\frac{\\partial a_2}{\\partial w_2} \\\\[1em]\n",
    "\\frac{\\partial J}{\\partial b_2} = \\frac{\\partial J}{\\partial a^{activated}_2} \\cdot \\frac{\\partial a^{activated}_2}{\\partial a_2} \\cdot \\frac{\\partial a_2}{\\partial b_2}\n",
    "\\end{cases}\n",
    "$$\n",
    "\n",
    "\n",
    "Solution:\n",
    "\n",
    "$$\n",
    "\\begin{align*}\n",
    "\n",
    "    J = \\frac{1}{2} \\cdot (a^{activated}_2 - y)^2 => \\frac{\\partial J}{\\partial a^{activated}_2} = \\frac{\\partial {(\\frac{1}{2}\\cdot (a^{activated}_2 - y)^2)}}{\\partial a^{activated}_2} = a^{activated}_2 - y = 7 - 5 = 2\\\\\n",
    "\n",
    "\n",
    "    \\frac{\\partial a^{activated}_2}{\\partial a_2} = (1|7 \\geq 0) \\\\\n",
    "\n",
    "\n",
    "    a_2 = w_2 \\cdot a^{activated}_1 + b_2 =>\n",
    "\n",
    "    \\begin{cases}\n",
    "        \\frac{\\partial a_2}{\\partial w_2} = a^{activated}_1 = 2 \\\\\n",
    "        \\frac{\\partial a_2}{\\partial b_2} = 1\n",
    "    \\end{cases}\n",
    "\n",
    "\\end{align*}\n",
    "\n",
    "=>\n",
    "\n",
    "\\begin{cases}\n",
    "\n",
    "    \\frac{\\partial J}{\\partial w_2} = 2 * 1 * 2 = 4 \\\\\n",
    "    \\frac{\\partial J}{\\partial w_2} = 2 * 1 * 1 = 2\n",
    "\n",
    "\\end{cases}\n",
    "\n",
    "$$"
   ]
  },
  {
   "cell_type": "markdown",
   "metadata": {},
   "source": [
    "##### Layer 1"
   ]
  },
  {
   "cell_type": "markdown",
   "metadata": {},
   "source": [
    "Formulas:\n",
    "\n",
    "$$\n",
    "\\begin{cases}\n",
    "\\frac{\\partial J}{\\partial w_1} = \\frac{\\partial J}{\\partial a^{activated}_2} \\cdot \\frac{\\partial a^{activated}_2}{\\partial a_2} \\cdot \\frac{\\partial a_2}{\\partial a^{activated}_1} \\cdot \\frac{\\partial a^{activated}_1}{\\partial a_1} \\cdot \\frac{\\partial a_1}{\\partial w_1}  \\\\[1em]\n",
    "\\frac{\\partial J}{\\partial b_1} = \\frac{\\partial J}{\\partial a^{activated}_2} \\cdot \\frac{\\partial a^{activated}_2}{\\partial a_2} \\cdot \\frac{\\partial a_2}{\\partial a^{activated}_1} \\cdot \\frac{\\partial a^{activated}_1}{\\partial a_1} \\cdot \\frac{\\partial a_1}{\\partial b_1}  \n",
    "\\end{cases}\n",
    "$$\n",
    "\n",
    "\n",
    "Solution:\n",
    "\n",
    "$$\n",
    "\n",
    "\\begin{cases}\n",
    "    \\frac{\\partial J}{\\partial a^{activated}_2} \\cdot \\frac{\\partial a^{activated}_2}{\\partial a_2} = 2 \\cdot 1 = 2 \\text{ (solved above)} \\\\\n",
    "    a_2 = w_2 \\cdot a^{activated}_1 + b_2 => \\frac{\\partial a_2}{\\partial a^{activated}_1} = w_2 = 3 \\\\\n",
    "    \\frac{\\partial a^{activated}_1}{\\partial a_1} = (1|a_1 = 2 \\geq 0) \\\\\n",
    "    a_1 = w_1 * x + b_1 => \\frac{\\partial a_1}{\\partial w_1} = x = 1 \\\\\n",
    "\\end{cases}\n",
    "\n",
    "    =>\n",
    "\n",
    "\\frac{\\partial J}{\\partial w_1} = 2 \\cdot 3 \\cdot 1 \\cdot 1 = 6 \\\\\n",
    "\n",
    "\\\\[2em]\n",
    "\\\\\n",
    "\n",
    "\\begin{cases}\n",
    "\\frac{\\partial J}{\\partial a^{activated}_2} \\cdot \\frac{\\partial a^{activated}_2}{\\partial a_2} = 2 \\cdot 1 = 2 \\\\\n",
    "\\frac{\\partial a_2}{\\partial a^{activated}_1} = w_2 = 3 \\text{ (solved step before)} \\\\\n",
    "\\frac{\\partial a^{activated}_1}{\\partial a_1} = 1 \\text{ (solved step before)} \\\\\n",
    "\\frac{\\partial a_1}{\\partial b_1} = 1\n",
    "\\end{cases}\n",
    "\n",
    "    =>\n",
    "\n",
    "\\frac{\\partial J}{\\partial b_1} = 2 \\cdot 3 \\cdot 1 \\cdot 1 = 6\\\\\n",
    "\n",
    "$$"
   ]
  },
  {
   "cell_type": "markdown",
   "metadata": {},
   "source": [
    "### Sympy solver"
   ]
  },
  {
   "cell_type": "code",
   "execution_count": 94,
   "metadata": {},
   "outputs": [],
   "source": [
    "import numpy as np\n",
    "from sympy import symbols, diff, lambdify, Max, pprint\n",
    "\n",
    "def relu(a):\n",
    "    return Max(0, a)\n",
    "\n",
    "# Define the symbols\n",
    "w1, w2, b1, b2, x, y = symbols('w1 w2 b1 b2 x y')\n",
    "\n",
    "# Define the equations\n",
    "a1 = w1 * x + b1\n",
    "activated_a1 = relu(a1)\n",
    "a2 = w2 * activated_a1 + b2\n",
    "activated_a2 = relu(a2)\n",
    "\n",
    "# Define the cost function\n",
    "J = 1/2 * (activated_a2 - y)**2\n",
    "\n",
    "# Calculate the derivatives\n",
    "dJ_dw2 = diff(J, w2)\n",
    "dJ_db2 = diff(J, b2)\n",
    "dJ_dw1 = diff(J, w1)\n",
    "dJ_db1 = diff(J, b1)"
   ]
  },
  {
   "cell_type": "code",
   "execution_count": 97,
   "metadata": {},
   "outputs": [
    {
     "name": "stdout",
     "output_type": "stream",
     "text": [
      "1.0⋅(-y + Max(0, b2 + w2*Max(0, b1 + w1*x)))⋅θ(b₂ + w₂⋅Max(0, b1 + w1*x))⋅Max(\n",
      "0, b1 + w1*x)\n"
     ]
    }
   ],
   "source": [
    "pprint(dJ_dw2)"
   ]
  },
  {
   "cell_type": "code",
   "execution_count": 98,
   "metadata": {},
   "outputs": [
    {
     "name": "stdout",
     "output_type": "stream",
     "text": [
      "1.0⋅(-y + Max(0, b2 + w2*Max(0, b1 + w1*x)))⋅θ(b₂ + w₂⋅Max(0, b1 + w1*x))\n"
     ]
    }
   ],
   "source": [
    "pprint(dJ_db2)"
   ]
  },
  {
   "cell_type": "code",
   "execution_count": 99,
   "metadata": {},
   "outputs": [
    {
     "name": "stdout",
     "output_type": "stream",
     "text": [
      "1.0⋅w₂⋅x⋅(-y + Max(0, b2 + w2*Max(0, b1 + w1*x)))⋅θ(b₁ + w₁⋅x)⋅θ(b₂ + w₂⋅Max(0\n",
      ", b1 + w1*x))\n"
     ]
    }
   ],
   "source": [
    "pprint(dJ_dw1)"
   ]
  },
  {
   "cell_type": "code",
   "execution_count": 100,
   "metadata": {},
   "outputs": [
    {
     "name": "stdout",
     "output_type": "stream",
     "text": [
      "1.0⋅w₂⋅(-y + Max(0, b2 + w2*Max(0, b1 + w1*x)))⋅θ(b₁ + w₁⋅x)⋅θ(b₂ + w₂⋅Max(0, \n",
      "b1 + w1*x))\n"
     ]
    }
   ],
   "source": [
    "pprint(dJ_db1)"
   ]
  },
  {
   "cell_type": "code",
   "execution_count": 89,
   "metadata": {},
   "outputs": [
    {
     "name": "stdout",
     "output_type": "stream",
     "text": [
      "dJ/dw2 = 4.0\n",
      "dJ/db2 = 2.0\n"
     ]
    }
   ],
   "source": [
    "# Create functions to evaluate the derivatives\n",
    "calc_dJ_dw2 = lambdify([w1, w2, b1, b2, x, y], dJ_dw2)\n",
    "calc_dJ_db2 = lambdify([w1, w2, b1, b2, x, y], dJ_db2)\n",
    "\n",
    "# Example usage\n",
    "w1_val = 2\n",
    "w2_val = 3\n",
    "b1_val = 0\n",
    "b2_val = 1\n",
    "x_val = 1\n",
    "y_val = 5\n",
    "\n",
    "result_dJ_dw2 = calc_dJ_dw2(w1_val, w2_val, b1_val, b2_val, x_val, y_val)\n",
    "result_dJ_db2 = calc_dJ_db2(w1_val, w2_val, b1_val, b2_val, x_val, y_val)\n",
    "\n",
    "print(\"dJ/dw2 =\", result_dJ_dw2)\n",
    "print(\"dJ/db2 =\", result_dJ_db2)"
   ]
  },
  {
   "cell_type": "code",
   "execution_count": 90,
   "metadata": {},
   "outputs": [
    {
     "name": "stdout",
     "output_type": "stream",
     "text": [
      "dJ/dw1 = 6.0\n",
      "dJ/db1 = 6.0\n"
     ]
    }
   ],
   "source": [
    "# Create functions to evaluate the derivatives\n",
    "calc_dJ_dw1 = lambdify([w1, w2, b1, b2, x, y], dJ_dw1)\n",
    "calc_dJ_db1 = lambdify([w1, w2, b1, b2, x, y], dJ_db1)\n",
    "\n",
    "# Example usage\n",
    "w1_val = 2\n",
    "w2_val = 3\n",
    "b1_val = 0\n",
    "b2_val = 1\n",
    "x_val = 1\n",
    "y_val = 5\n",
    "\n",
    "result_dJ_dw1 = calc_dJ_dw1(w1_val, w2_val, b1_val, b2_val, x_val, y_val)\n",
    "result_dJ_db1 = calc_dJ_db1(w1_val, w2_val, b1_val, b2_val, x_val, y_val)\n",
    "\n",
    "print(\"dJ/dw1 =\", result_dJ_dw1)\n",
    "print(\"dJ/db1 =\", result_dJ_db1)"
   ]
  }
 ],
 "metadata": {
  "kernelspec": {
   "display_name": ".venv",
   "language": "python",
   "name": "python3"
  },
  "language_info": {
   "codemirror_mode": {
    "name": "ipython",
    "version": 3
   },
   "file_extension": ".py",
   "mimetype": "text/x-python",
   "name": "python",
   "nbconvert_exporter": "python",
   "pygments_lexer": "ipython3",
   "version": "3.11.6"
  }
 },
 "nbformat": 4,
 "nbformat_minor": 2
}

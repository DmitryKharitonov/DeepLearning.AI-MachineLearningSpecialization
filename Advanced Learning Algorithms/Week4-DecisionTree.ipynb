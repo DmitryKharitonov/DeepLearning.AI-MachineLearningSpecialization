{
 "cells": [
  {
   "cell_type": "code",
   "execution_count": 1,
   "metadata": {},
   "outputs": [],
   "source": [
    "import numpy as np"
   ]
  },
  {
   "cell_type": "code",
   "execution_count": 2,
   "metadata": {},
   "outputs": [],
   "source": [
    "def entropy(y):\n",
    "\n",
    "    \"\"\"\n",
    "    also known as level of impurity\n",
    "\n",
    "    node = array of targets in a feature branch (left or right or parent), ex. [0,1,0,0,1]\n",
    "    \"\"\"\n",
    "\n",
    "    zero_length = len(y) == 0\n",
    "    all_zeros = np.sum(y) == 0\n",
    "    all_ones = np.sum(y) == len(y)\n",
    "\n",
    "    if zero_length or all_zeros or all_ones:\n",
    "        return 0\n",
    "    else:\n",
    "    \n",
    "        p1 = np.sum(y) / len(y)\n",
    "        entropy = -p1 * np.log2(p1) - (1-p1) * np.log2(1-p1)\n",
    "\n",
    "    return entropy\n"
   ]
  },
  {
   "cell_type": "code",
   "execution_count": 3,
   "metadata": {},
   "outputs": [],
   "source": [
    "def split_feature(node_to_split, rows_considered, feature_id):\n",
    "\n",
    "    \"\"\"\n",
    "    Scans values for feature_id and walks by available rows in rows_for_splitting. \n",
    "    Function groups 1's and puts indices in the left_branch, and 0's indices to the right_branch\n",
    "    \n",
    "    rows_for_splitting will be recursively reducing for each sub_branch\n",
    "    \"\"\"\n",
    "\n",
    "    left_branch = []\n",
    "    right_branch = []\n",
    "\n",
    "    for row in rows_considered:\n",
    "        if node_to_split[row,feature_id] == 1:\n",
    "            left_branch.append(row)\n",
    "        else:\n",
    "            right_branch.append(row)\n",
    "\n",
    "    return left_branch, right_branch"
   ]
  },
  {
   "cell_type": "code",
   "execution_count": 4,
   "metadata": {},
   "outputs": [],
   "source": [
    "def InformationGain(x, y, rows_considered, feature_id):\n",
    "\n",
    "    \"\"\"\n",
    "    Function will calculate feature information gain using all x, all y, and subset of rows into consideration\n",
    "    \n",
    "    \"\"\"\n",
    "\n",
    "    left_indices, right_indices = split_feature(x, rows_considered, feature_id)\n",
    "\n",
    "    y_left, y_right = y[left_indices], y[right_indices]\n",
    "    \n",
    "    entropy_parent, entropy_left, entropy_right = entropy(y), entropy(y_left), entropy(y_right)\n",
    "\n",
    "    len_total = len(y_left) + len(y_right)\n",
    "    len_left = len(y_left)\n",
    "    len_right = len(y_right)\n",
    "\n",
    "    left_weight, right_weight = len_left / len_total, len_right / len_total\n",
    "\n",
    "    ig = entropy_parent - (left_weight * entropy_left + right_weight * entropy_right)\n",
    "\n",
    "    return ig"
   ]
  },
  {
   "cell_type": "markdown",
   "metadata": {},
   "source": [
    "## Find best feature to split"
   ]
  },
  {
   "cell_type": "code",
   "execution_count": 5,
   "metadata": {},
   "outputs": [],
   "source": [
    "def next_split(x, y, rows_considered):\n",
    "\n",
    "    \"\"\"\n",
    "    returns the optimal feature to split from limited samples list\n",
    "    \n",
    "    \"\"\"\n",
    "\n",
    "    # stop if \n",
    "\n",
    "    zero_length = len(rows_considered) == 0\n",
    "    all_zeros = np.sum(y[rows_considered]) == 0\n",
    "    all_ones = np.sum(y[rows_considered]) == len(y[rows_considered])\n",
    "\n",
    "    if zero_length or all_zeros or all_ones:\n",
    "        return -1\n",
    "\n",
    "    # code\n",
    "\n",
    "    features_total = x.shape[1]\n",
    "    best_feature = -1\n",
    "\n",
    "    ig = []\n",
    "\n",
    "    for feature in range(features_total):\n",
    "        ig.append(InformationGain(x,y,rows_considered=rows_considered,feature_id=feature))\n",
    "\n",
    "    np_ig = np.array(ig)\n",
    "    best_feature = np_ig.argmax()\n",
    "\n",
    "    return best_feature"
   ]
  },
  {
   "cell_type": "markdown",
   "metadata": {},
   "source": [
    "## Recursively generating tree"
   ]
  },
  {
   "cell_type": "code",
   "execution_count": 6,
   "metadata": {},
   "outputs": [],
   "source": [
    "def build_tree_recursive(x, y, rows_considered, current_depth, tree):\n",
    "    current_depth += 1\n",
    "\n",
    "    max_depth = x.shape[1]\n",
    "\n",
    "    if current_depth == max_depth:\n",
    "        return \"reached max depth\"\n",
    "\n",
    "    best_feature = next_split(x, y, rows_considered)\n",
    "\n",
    "    left_indices, right_indices = split_feature(x, rows_considered, best_feature)\n",
    "\n",
    "    if len(left_indices) == 0 or len(right_indices) == 0:\n",
    "        return -1\n",
    "\n",
    "    tree.append((left_indices, right_indices, best_feature))\n",
    "    \n",
    "    build_tree_recursive(x, y, left_indices, current_depth, tree)\n",
    "    build_tree_recursive(x, y, right_indices, current_depth, tree)"
   ]
  },
  {
   "cell_type": "markdown",
   "metadata": {},
   "source": [
    "# Example"
   ]
  },
  {
   "cell_type": "code",
   "execution_count": 7,
   "metadata": {},
   "outputs": [
    {
     "data": {
      "text/plain": [
       "(array([[1, 1, 1],\n",
       "        [1, 0, 1],\n",
       "        [1, 0, 0],\n",
       "        [1, 0, 0],\n",
       "        [1, 1, 1],\n",
       "        [0, 1, 1],\n",
       "        [0, 0, 0],\n",
       "        [1, 0, 1],\n",
       "        [0, 1, 0],\n",
       "        [1, 0, 0]]),\n",
       " array([1, 1, 0, 0, 1, 0, 0, 1, 1, 0]))"
      ]
     },
     "execution_count": 7,
     "metadata": {},
     "output_type": "execute_result"
    }
   ],
   "source": [
    "x_train = np.array([[1,1,1],[1,0,1],[1,0,0],[1,0,0],[1,1,1],[0,1,1],[0,0,0],[1,0,1],[0,1,0],[1,0,0]])\n",
    "y_train = np.array([1,1,0,0,1,0,0,1,1,0])\n",
    "\n",
    "x_train, y_train"
   ]
  },
  {
   "cell_type": "code",
   "execution_count": 8,
   "metadata": {},
   "outputs": [
    {
     "name": "stdout",
     "output_type": "stream",
     "text": [
      "Information Gain from splitting the root on brown cap:  0.034851554559677034\n",
      "Information Gain from splitting the root on tapering stalk shape:  0.12451124978365313\n",
      "Information Gain from splitting the root on solitary:  0.2780719051126377\n"
     ]
    }
   ],
   "source": [
    "root_indices = np.arange(len(y_train))\n",
    "\n",
    "\n",
    "info_gain0 = InformationGain(x_train, y_train, root_indices, feature_id=0)\n",
    "print(\"Information Gain from splitting the root on brown cap: \", info_gain0)\n",
    "\n",
    "info_gain1 = InformationGain(x_train, y_train, root_indices, feature_id=1)\n",
    "print(\"Information Gain from splitting the root on tapering stalk shape: \", info_gain1)\n",
    "\n",
    "info_gain2 = InformationGain(x_train, y_train, root_indices, feature_id=2)\n",
    "print(\"Information Gain from splitting the root on solitary: \", info_gain2)\n"
   ]
  },
  {
   "cell_type": "markdown",
   "metadata": {},
   "source": [
    "<img src=\"./images/Screenshot 2023-07-28 at 21.16.10.png\"></img>"
   ]
  },
  {
   "cell_type": "code",
   "execution_count": 9,
   "metadata": {},
   "outputs": [
    {
     "name": "stdout",
     "output_type": "stream",
     "text": [
      "Best feature to split on: 2\n"
     ]
    }
   ],
   "source": [
    "best_feature = next_split(x_train, y_train, root_indices)\n",
    "print(\"Best feature to split on: %d\" % best_feature)"
   ]
  },
  {
   "cell_type": "code",
   "execution_count": 10,
   "metadata": {},
   "outputs": [],
   "source": [
    "decision_tree = []\n",
    "build_tree_recursive(x_train, y_train, root_indices, current_depth=0, tree = decision_tree)"
   ]
  },
  {
   "cell_type": "code",
   "execution_count": 11,
   "metadata": {},
   "outputs": [
    {
     "data": {
      "text/plain": [
       "[([0, 1, 4, 5, 7], [2, 3, 6, 8, 9], 2),\n",
       " ([0, 1, 4, 7], [5], 0),\n",
       " ([8], [2, 3, 6, 9], 1)]"
      ]
     },
     "execution_count": 11,
     "metadata": {},
     "output_type": "execute_result"
    }
   ],
   "source": [
    "decision_tree"
   ]
  },
  {
   "cell_type": "markdown",
   "metadata": {},
   "source": [
    "<img src=\"./images/Screenshot 2023-07-31 at 14.40.23.png\"></img>"
   ]
  }
 ],
 "metadata": {
  "kernelspec": {
   "display_name": "Python 3",
   "language": "python",
   "name": "python3"
  },
  "language_info": {
   "codemirror_mode": {
    "name": "ipython",
    "version": 3
   },
   "file_extension": ".py",
   "mimetype": "text/x-python",
   "name": "python",
   "nbconvert_exporter": "python",
   "pygments_lexer": "ipython3",
   "version": "3.9.13"
  },
  "orig_nbformat": 4
 },
 "nbformat": 4,
 "nbformat_minor": 2
}

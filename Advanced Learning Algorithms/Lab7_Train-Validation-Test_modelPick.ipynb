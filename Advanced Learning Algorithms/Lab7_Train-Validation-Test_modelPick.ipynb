{
 "cells": [
  {
   "cell_type": "markdown",
   "metadata": {},
   "source": [
    "# Given\n",
    "\n",
    "2 datasets - one for Regression task, and another for Classification task\n",
    "\n",
    "# Find \n",
    "\n",
    "Within SKLearn generate polynoms and find the best fitting model. For Tensorflow assess 3 different networks and pick the best fist.\n",
    "Compare both.\n",
    "\n",
    "While doing that:\n",
    "\n",
    "* split train into train, cross_validation, test - 60%/20%/20%\n",
    "* create multiple models\n",
    "    * sklearn linear regression\n",
    "    * sklearn polynomial regression\n",
    "    * tensorflow regression\n",
    "* assess cross validation accuracy\n",
    "* pick the configuration with the lowest cv loss\n",
    "* assess accuracy on a test set\n",
    "* comparison mean squared error for"
   ]
  },
  {
   "cell_type": "markdown",
   "metadata": {},
   "source": [
    "# Solution"
   ]
  },
  {
   "cell_type": "code",
   "execution_count": 252,
   "metadata": {},
   "outputs": [],
   "source": [
    "import numpy as np\n",
    "import matplotlib.pyplot as plt\n",
    "from sklearn.model_selection import train_test_split\n",
    "from sklearn.preprocessing import StandardScaler, PolynomialFeatures\n",
    "from sklearn.linear_model import LinearRegression, LogisticRegression\n",
    "from sklearn.metrics import mean_squared_error\n",
    "\n",
    "import tensorflow as tf"
   ]
  },
  {
   "cell_type": "markdown",
   "metadata": {},
   "source": [
    "### Linear regression"
   ]
  },
  {
   "cell_type": "code",
   "execution_count": 253,
   "metadata": {},
   "outputs": [
    {
     "data": {
      "text/plain": [
       "((50,), (50,))"
      ]
     },
     "execution_count": 253,
     "metadata": {},
     "output_type": "execute_result"
    }
   ],
   "source": [
    "data = np.loadtxt(\"./Lab7_RegressionData.csv\", delimiter=\",\")\n",
    "x = data[:,0]\n",
    "y = data[:,1]\n",
    "x.shape, y.shape"
   ]
  },
  {
   "cell_type": "code",
   "execution_count": 254,
   "metadata": {},
   "outputs": [
    {
     "data": {
      "text/plain": [
       "<matplotlib.collections.PathCollection at 0x1420d3d10>"
      ]
     },
     "execution_count": 254,
     "metadata": {},
     "output_type": "execute_result"
    },
    {
     "data": {
      "image/png": "[encoded data removed]",
      "text/plain": [
       "<Figure size 400x400 with 1 Axes>"
      ]
     },
     "metadata": {},
     "output_type": "display_data"
    }
   ],
   "source": [
    "fig, ax = plt.subplots(figsize=(4,4))\n",
    "ax.scatter(x,y)"
   ]
  },
  {
   "cell_type": "markdown",
   "metadata": {},
   "source": [
    "Split to Train - Test - Validation sets"
   ]
  },
  {
   "cell_type": "code",
   "execution_count": 255,
   "metadata": {},
   "outputs": [
    {
     "data": {
      "text/plain": [
       "((30,), (30,), (10,), (10,), (10,), (10,))"
      ]
     },
     "execution_count": 255,
     "metadata": {},
     "output_type": "execute_result"
    }
   ],
   "source": [
    "x_train, x_test, y_train, y_test = train_test_split(x, y, test_size=0.4, random_state=42) # 60%/40%\n",
    "x_val, x_test, y_val, y_test = train_test_split(x_test, y_test, test_size=0.5, random_state=42) # 40% -> 50%/50%\n",
    "\n",
    "x_train.shape, y_train.shape, x_test.shape, y_test.shape, x_val.shape, y_val.shape"
   ]
  },
  {
   "cell_type": "markdown",
   "metadata": {},
   "source": [
    "Scale feature"
   ]
  },
  {
   "cell_type": "code",
   "execution_count": 256,
   "metadata": {},
   "outputs": [],
   "source": [
    "regr_scaler = StandardScaler()\n",
    "x_train_scaled = regr_scaler.fit_transform(x_train.reshape(-1,1))\n",
    "x_test_scaled = regr_scaler.transform(x_test.reshape(-1,1))\n",
    "x_val_scaled = regr_scaler.transform(x_val.reshape(-1,1))"
   ]
  },
  {
   "cell_type": "markdown",
   "metadata": {},
   "source": [
    "##### SKLearn"
   ]
  },
  {
   "cell_type": "code",
   "execution_count": 257,
   "metadata": {},
   "outputs": [
    {
     "name": "stdout",
     "output_type": "stream",
     "text": [
      "Weights: [137.65658362], bias: 714.4873215937363\n"
     ]
    }
   ],
   "source": [
    "LinearModel = LinearRegression()\n",
    "LinearModel.fit(x_train_scaled, y_train)\n",
    "print(f\"Weights: {LinearModel.coef_}, bias: {LinearModel.intercept_}\")"
   ]
  },
  {
   "cell_type": "markdown",
   "metadata": {},
   "source": [
    "Loss calculated according Lab1 in previous course: \n",
    "\n",
    "$$Loss_i(w,b) = f_{w,b}(x_{i}) - y_{i}$$\n",
    "$$J(w,b) = \\frac{1}{2m}\\sum\\limits^{m} Loss_i(w,b)^2$$"
   ]
  },
  {
   "cell_type": "code",
   "execution_count": 258,
   "metadata": {},
   "outputs": [
    {
     "name": "stdout",
     "output_type": "stream",
     "text": [
      "Validation cost = 209.78616333563227, mean squared error = 209.78616333563227\n"
     ]
    }
   ],
   "source": [
    "prediction = LinearModel.predict(x_val_scaled)\n",
    "cost = np.mean((y_val - prediction)**2) / 2\n",
    "print(f\"Validation cost = {cost}, mean squared error = {mean_squared_error(y_val, prediction) / 2}\")"
   ]
  },
  {
   "cell_type": "markdown",
   "metadata": {},
   "source": [
    "Test"
   ]
  },
  {
   "cell_type": "code",
   "execution_count": 259,
   "metadata": {},
   "outputs": [
    {
     "name": "stdout",
     "output_type": "stream",
     "text": [
      "Test cost = 840.6261521733807\n"
     ]
    }
   ],
   "source": [
    "prediction = LinearModel.predict(x_test_scaled)\n",
    "print(f\"Test cost = {mean_squared_error(y_test, prediction) / 2}\")"
   ]
  },
  {
   "cell_type": "markdown",
   "metadata": {},
   "source": [
    "### Linear Regression (polynom)"
   ]
  },
  {
   "cell_type": "markdown",
   "metadata": {},
   "source": [
    "$$\n",
    "\\begin{align*}\n",
    "1. f_{w,b}(\\vec{x}) &= w_1 \\cdot x + b \\\\\n",
    "2. f_{w,b}(\\vec{x}) &= w_1 \\cdot x + w_2 \\cdot x^2 + b \\\\\n",
    "4. f_{w,b}(\\vec{x}) &= w_1 \\cdot x + w_2 \\cdot x^2 + w_3 \\cdot x^3 + b \\\\\n",
    "5. f_{w,b}(\\vec{x}) &= w_1 \\cdot x + w_2 \\cdot x^2 + w_3 \\cdot x^3 + w_4 \\cdot x^4 + b \\\\\n",
    "&\\cdots \\\\\n",
    "10. f_{w,b}(x) &= w_1 \\cdot x + w_2 \\cdot x^2 + \\cdots + w_{10} \\cdot x^{10} + b \\\\\n",
    "\\end{align*}\n",
    "$$\n"
   ]
  },
  {
   "cell_type": "code",
   "execution_count": 260,
   "metadata": {},
   "outputs": [],
   "source": [
    "cost = []\n",
    "\n",
    "for i in range(10):\n",
    "    \n",
    "    polynom = PolynomialFeatures(degree=i)\n",
    "    x_train_poly = polynom.fit_transform(x_train_scaled)\n",
    "    x_val_poly = polynom.transform(x_val_scaled)\n",
    "\n",
    "    LinearModel = LinearRegression()\n",
    "    LinearModel.fit(x_train_poly, y_train)\n",
    "\n",
    "    prediction_train = LinearModel.predict(x_train_poly)\n",
    "    prediction_val = LinearModel.predict(x_val_poly)\n",
    "\n",
    "    train_ith_cost = mean_squared_error(y_train, prediction_train) / 2\n",
    "    val_ith_cost = mean_squared_error(y_val, prediction_val) / 2\n",
    "\n",
    "    cost.append([i, train_ith_cost, val_ith_cost])\n",
    "\n",
    "cost = np.array(cost[1:])"
   ]
  },
  {
   "cell_type": "code",
   "execution_count": 261,
   "metadata": {},
   "outputs": [
    {
     "data": {
      "text/plain": [
       "<matplotlib.legend.Legend at 0x142208990>"
      ]
     },
     "execution_count": 261,
     "metadata": {},
     "output_type": "execute_result"
    },
    {
     "data": {
      "image/png": "[encoded data removed]",
      "text/plain": [
       "<Figure size 400x400 with 1 Axes>"
      ]
     },
     "metadata": {},
     "output_type": "display_data"
    }
   ],
   "source": [
    "fig, ax = plt.subplots(figsize=(4,4))\n",
    "ax.plot(cost[:,0], cost[:,1], label=\"train error\")\n",
    "ax.plot(cost[:,0], cost[:,2], label = \"validation error\")\n",
    "ax.set_title(\"Cost over Iterations\")\n",
    "ax.set_xlabel(\"Iterations\")\n",
    "ax.set_ylabel(\"Cost\")\n",
    "ax.legend()"
   ]
  },
  {
   "cell_type": "markdown",
   "metadata": {},
   "source": [
    "Score"
   ]
  },
  {
   "cell_type": "code",
   "execution_count": 262,
   "metadata": {},
   "outputs": [
    {
     "name": "stdout",
     "output_type": "stream",
     "text": [
      "SKLearn Linear Regression - polynom 2 = 94.00712051107176\n"
     ]
    },
    {
     "data": {
      "text/plain": [
       "<matplotlib.collections.PathCollection at 0x142296d10>"
      ]
     },
     "execution_count": 262,
     "metadata": {},
     "output_type": "execute_result"
    },
    {
     "data": {
      "image/png": "[encoded data removed]",
      "text/plain": [
       "<Figure size 400x400 with 1 Axes>"
      ]
     },
     "metadata": {},
     "output_type": "display_data"
    }
   ],
   "source": [
    "best_polynom = 2\n",
    "\n",
    "polynom = PolynomialFeatures(best_polynom, include_bias=False)\n",
    "x_train_scaled_polynom = polynom.fit_transform(x_train_scaled, y_train)\n",
    "x_val_scaled_polynom = polynom.transform(x_val_scaled)\n",
    "x_test_scaled_polynom = polynom.transform(x_test_scaled)\n",
    "\n",
    "model = LinearRegression()\n",
    "model.fit(x_train_scaled_polynom, y_train)\n",
    "\n",
    "prediction = model.predict(x_test_scaled_polynom)\n",
    "\n",
    "cost = mean_squared_error(y_test, prediction) / 2\n",
    "print(f\"SKLearn Linear Regression - polynom {best_polynom} = {cost}\")\n",
    "\n",
    "fig, ax = plt.subplots(figsize=(4,4))\n",
    "ax.scatter(x_test, y_test, c='b')\n",
    "ax.scatter(x_test, prediction, c='r')"
   ]
  },
  {
   "cell_type": "markdown",
   "metadata": {},
   "source": [
    "##### Tensorflow\n",
    "\n",
    "Assess these 3 compositions:\n",
    "\n",
    "<img src='images/Lab7_NN_compositions.png' width=300 height=300>"
   ]
  },
  {
   "cell_type": "code",
   "execution_count": 268,
   "metadata": {},
   "outputs": [
    {
     "name": "stdout",
     "output_type": "stream",
     "text": [
      "Model: \"sequential_18\"\n",
      "_________________________________________________________________\n",
      " Layer (type)                Output Shape              Param #   \n",
      "=================================================================\n",
      " L1 (Dense)                  (None, 25)                75        \n",
      "                                                                 \n",
      " L2 (Dense)                  (None, 15)                390       \n",
      "                                                                 \n",
      " L_out (Dense)               (None, 1)                 16        \n",
      "                                                                 \n",
      "=================================================================\n",
      "Total params: 481 (1.88 KB)\n",
      "Trainable params: 481 (1.88 KB)\n",
      "Non-trainable params: 0 (0.00 Byte)\n",
      "_________________________________________________________________\n"
     ]
    }
   ],
   "source": [
    "model1 = tf.keras.Sequential([\n",
    "    tf.keras.layers.Dense(units=25, activation=\"relu\", input_dim=2, name=\"L1\"),\n",
    "    tf.keras.layers.Dense(units=15, activation=\"relu\", name=\"L2\"),\n",
    "    tf.keras.layers.Dense(units=1, activation=\"linear\", name=\"L_out\"),\n",
    "])\n",
    "\n",
    "model1.summary()"
   ]
  },
  {
   "cell_type": "code",
   "execution_count": 269,
   "metadata": {},
   "outputs": [
    {
     "name": "stdout",
     "output_type": "stream",
     "text": [
      "Model: \"sequential_19\"\n",
      "_________________________________________________________________\n",
      " Layer (type)                Output Shape              Param #   \n",
      "=================================================================\n",
      " L1 (Dense)                  (None, 20)                60        \n",
      "                                                                 \n",
      " L2 (Dense)                  (None, 12)                252       \n",
      "                                                                 \n",
      " L3 (Dense)                  (None, 12)                156       \n",
      "                                                                 \n",
      " L4 (Dense)                  (None, 20)                260       \n",
      "                                                                 \n",
      " L5 (Dense)                  (None, 12)                252       \n",
      "                                                                 \n",
      " L_out (Dense)               (None, 1)                 13        \n",
      "                                                                 \n",
      "=================================================================\n",
      "Total params: 993 (3.88 KB)\n",
      "Trainable params: 993 (3.88 KB)\n",
      "Non-trainable params: 0 (0.00 Byte)\n",
      "_________________________________________________________________\n"
     ]
    }
   ],
   "source": [
    "model2 = tf.keras.Sequential([\n",
    "    tf.keras.layers.Dense(units=20, activation=\"relu\", input_dim=2, name=\"L1\"),\n",
    "    tf.keras.layers.Dense(units=12, activation=\"relu\", name=\"L2\"),\n",
    "    tf.keras.layers.Dense(units=12, activation=\"relu\", name=\"L3\"),\n",
    "    tf.keras.layers.Dense(units=20, activation=\"relu\", name=\"L4\"),\n",
    "    tf.keras.layers.Dense(units=12, activation=\"relu\", name=\"L5\"),\n",
    "    tf.keras.layers.Dense(units=1, activation=\"linear\", name=\"L_out\"),\n",
    "])\n",
    "\n",
    "model2.summary()"
   ]
  },
  {
   "cell_type": "code",
   "execution_count": 270,
   "metadata": {},
   "outputs": [
    {
     "name": "stdout",
     "output_type": "stream",
     "text": [
      "Model: \"sequential_20\"\n",
      "_________________________________________________________________\n",
      " Layer (type)                Output Shape              Param #   \n",
      "=================================================================\n",
      " L1 (Dense)                  (None, 32)                96        \n",
      "                                                                 \n",
      " L2 (Dense)                  (None, 16)                528       \n",
      "                                                                 \n",
      " L3 (Dense)                  (None, 8)                 136       \n",
      "                                                                 \n",
      " L4 (Dense)                  (None, 4)                 36        \n",
      "                                                                 \n",
      " L_out (Dense)               (None, 1)                 5         \n",
      "                                                                 \n",
      "=================================================================\n",
      "Total params: 801 (3.13 KB)\n",
      "Trainable params: 801 (3.13 KB)\n",
      "Non-trainable params: 0 (0.00 Byte)\n",
      "_________________________________________________________________\n"
     ]
    }
   ],
   "source": [
    "model3 = tf.keras.Sequential([\n",
    "    tf.keras.layers.Dense(units=32, activation=\"relu\", input_dim=2, name=\"L1\"),\n",
    "    tf.keras.layers.Dense(units=16, activation=\"relu\", name=\"L2\"),\n",
    "    tf.keras.layers.Dense(units=8, activation=\"relu\", name=\"L3\"),\n",
    "    tf.keras.layers.Dense(units=4, activation=\"relu\", name=\"L4\"),\n",
    "    tf.keras.layers.Dense(units=1, activation=\"linear\", name=\"L_out\"),\n",
    "])\n",
    "\n",
    "model3.summary()"
   ]
  },
  {
   "cell_type": "markdown",
   "metadata": {},
   "source": [
    "Prediction"
   ]
  },
  {
   "cell_type": "code",
   "execution_count": 271,
   "metadata": {},
   "outputs": [
    {
     "name": "stdout",
     "output_type": "stream",
     "text": [
      "1/1 [==============================] - 0s 109ms/step\n",
      "1/1 [==============================] - 1s 535ms/step\n",
      "1/1 [==============================] - 0s 122ms/step\n"
     ]
    },
    {
     "data": {
      "text/plain": [
       "[58.58526496961444, 66.02986371704782, 54.91065575894648]"
      ]
     },
     "execution_count": 271,
     "metadata": {},
     "output_type": "execute_result"
    }
   ],
   "source": [
    "models = [model1, model2, model3]\n",
    "accuracy = []\n",
    "\n",
    "\n",
    "for model in models:\n",
    "\n",
    "    model.compile(\n",
    "        optimizer=tf.optimizers.Adam(learning_rate=0.1),\n",
    "        loss=tf.losses.mean_squared_error\n",
    "    )\n",
    "\n",
    "    model.fit(x_train_scaled_polynom, y=y_train,\n",
    "              epochs=300,\n",
    "              verbose=0)\n",
    "    \n",
    "    prediction = model.predict(x_val_scaled_polynom)\n",
    "\n",
    "    accuracy.append(mean_squared_error(prediction, y_val) / 2)\n",
    "\n",
    "accuracy\n"
   ]
  },
  {
   "cell_type": "markdown",
   "metadata": {},
   "source": [
    "Score"
   ]
  },
  {
   "cell_type": "code",
   "execution_count": 272,
   "metadata": {},
   "outputs": [
    {
     "name": "stdout",
     "output_type": "stream",
     "text": [
      "1/1 [==============================] - 0s 82ms/step\n",
      "TF model best fist was for model#3 = 95.59004109150678\n"
     ]
    }
   ],
   "source": [
    "best_model_id = np.argmin(accuracy)\n",
    "best_model = models[best_model_id]\n",
    "\n",
    "prediction = best_model.predict(x_test_scaled_polynom)\n",
    "\n",
    "cost = mean_squared_error(y_test, prediction) / 2\n",
    "print(f\"TF model best fist was for model#{best_model_id+1} = {cost}\")"
   ]
  },
  {
   "cell_type": "code",
   "execution_count": null,
   "metadata": {},
   "outputs": [],
   "source": []
  }
 ],
 "metadata": {
  "kernelspec": {
   "display_name": ".venv",
   "language": "python",
   "name": "python3"
  },
  "language_info": {
   "codemirror_mode": {
    "name": "ipython",
    "version": 3
   },
   "file_extension": ".py",
   "mimetype": "text/x-python",
   "name": "python",
   "nbconvert_exporter": "python",
   "pygments_lexer": "ipython3",
   "version": "3.11.6"
  }
 },
 "nbformat": 4,
 "nbformat_minor": 2
}

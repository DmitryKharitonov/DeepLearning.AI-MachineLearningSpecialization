{
 "cells": [
  {
   "cell_type": "markdown",
   "metadata": {},
   "source": [
    "# Given\n",
    "\n",
    "Let's suppose you have following training dataset:\n",
    "- The input variable `X` is a numpy array which has 6 training examples, each with two features\n",
    "- The output variable `y` is also a numpy array with 6 examples, and `y` is either `0` or `1`\n",
    "\n",
    "# Find\n",
    "\n",
    "Build the decision boundary and classify points in 2 groups"
   ]
  },
  {
   "cell_type": "markdown",
   "metadata": {},
   "source": [
    "# Solution"
   ]
  },
  {
   "cell_type": "code",
   "execution_count": 1,
   "metadata": {},
   "outputs": [],
   "source": [
    "import numpy as np\n",
    "import matplotlib.pyplot as plt"
   ]
  },
  {
   "cell_type": "code",
   "execution_count": 2,
   "metadata": {},
   "outputs": [],
   "source": [
    "x = np.array([[0.5, 1.5], [1, 1], [1.5, 0.5], [3, 0.5], [2, 2], [1, 2.5]])\n",
    "y = np.array([0, 0, 0, 1, 1, 1])\n",
    "\n",
    "m = x.shape[0]"
   ]
  },
  {
   "cell_type": "markdown",
   "metadata": {},
   "source": [
    "### Define model"
   ]
  },
  {
   "cell_type": "markdown",
   "metadata": {},
   "source": [
    "Sigmoid function:\n",
    "$$g(z) = \\frac{1}{1+e^{-z}}$$\n",
    "\n",
    "A Logistic Regression model applies Sigmoid function to Linear Regerssion model:\n",
    "$$ f_{\\mathbf{w},b}(\\mathbf{x}) = \\mathbf{w} \\cdot \\mathbf{x} + b  \\tag{2} $$\n",
    "\n",
    "Resulted Logistics Regression model:\n",
    "$$g(f_{\\mathbf{w},b}(x)) = gf_{\\mathbf{w},b}(x) = \\frac{1}{1+e^{-(w \\cdot x + b)}}$$"
   ]
  },
  {
   "cell_type": "code",
   "execution_count": 3,
   "metadata": {},
   "outputs": [],
   "source": [
    "sigmoid = lambda x, w, b : 1 / (1 + np.exp(-1 * (np.dot(x, w) + b) ) )"
   ]
  },
  {
   "cell_type": "markdown",
   "metadata": {},
   "source": [
    "### Define loss and cost"
   ]
  },
  {
   "cell_type": "markdown",
   "metadata": {},
   "source": [
    "Loss on a single data point is defined as distance from predicted to actual:\n",
    "\n",
    "$$\n",
    "  Loss(f_{\\mathbf{w},b}(\\mathbf{x}_i), y_i) = \\begin{cases}\n",
    "    - \\log\\left(f_{\\mathbf{w},b}\\left( \\mathbf{x}_i \\right) \\right) & \\text{if $y_i=1$}\\\\\n",
    "    - \\log \\left( 1 - f_{\\mathbf{w},b}\\left( \\mathbf{x}_i \\right) \\right) & \\text{if $y_i=0$}\n",
    "  \\end{cases}\n",
    "$$\n",
    "\n",
    "Therefore, the loss and cost are:\n",
    "\n",
    "$$Loss_i(w,b) = -[y_i \\cdot log(gf_{\\mathbf{w},b}(x_i))+(1-y_i) \\cdot log(1-gf_{\\mathbf{w},b}(x_i))]$$\n",
    "$$J(w,b) = \\frac{1}{m}\\sum\\limits^{m} Loss_i(w,b)^2$$\n",
    "\n",
    "* see math in here - https://medium.com/analytics-vidhya/derivative-of-log-loss-function-for-logistic-regression-9b832f025c2d"
   ]
  },
  {
   "cell_type": "code",
   "execution_count": 4,
   "metadata": {},
   "outputs": [],
   "source": [
    "def CalculateCost(w, b):\n",
    "    \n",
    "    upper_half = - np.log(sigmoid(x, w, b))\n",
    "    lower_half = - np.log(1 - sigmoid(x, w, b))\n",
    "\n",
    "    loss = sigmoid(x, w, b) - y\n",
    "\n",
    "    cost = np.dot(y, upper_half) + np.dot((1 - y),lower_half)\n",
    "    cost = np.sum(cost) / m\n",
    "\n",
    "    return loss, cost"
   ]
  },
  {
   "cell_type": "markdown",
   "metadata": {},
   "source": [
    "### Calculate gradient vectors\n",
    "\n",
    "Derivatives are the same (see link above), so we calculate Gradients as in Linear Regression case:\n",
    "$$\\frac{\\partial J(\\mathbf{w},b)}{\\partial w}  = \\frac{1}{m} \\sum\\limits^{m} Loss_{i}(w,b) \\cdot x_{i}$$\n",
    "$$\\frac{\\partial J(\\mathbf{w},b)}{\\partial b}  = \\frac{1}{m} \\sum\\limits^{m} Loss_{i}(w,b)$$"
   ]
  },
  {
   "cell_type": "code",
   "execution_count": 5,
   "metadata": {},
   "outputs": [],
   "source": [
    "def CalculateGradient(w, b):\n",
    "    \n",
    "    loss, cost = CalculateCost(w, b)\n",
    "\n",
    "    dJ_dw = np.dot(loss, x) / m\n",
    "    dJ_db = np.sum(loss) / m\n",
    "\n",
    "    return dJ_dw, dJ_db, cost"
   ]
  },
  {
   "cell_type": "markdown",
   "metadata": {},
   "source": [
    "### GD"
   ]
  },
  {
   "cell_type": "code",
   "execution_count": 6,
   "metadata": {},
   "outputs": [],
   "source": [
    "def GD(alpha = 0.1, iterations = 10000):\n",
    "\n",
    "    # initial w & b\n",
    "\n",
    "    w = np.zeros_like(x[0])\n",
    "    b = 0\n",
    "\n",
    "    #GD\n",
    "    log = []\n",
    "\n",
    "    i = 0\n",
    "\n",
    "    for i in range(iterations):\n",
    "\n",
    "        dJ_dw, dJ_db, cost = CalculateGradient(w, b)\n",
    "\n",
    "        log.append([i, w, b, cost, dJ_dw, dJ_db])\n",
    "\n",
    "        w -= alpha * dJ_dw\n",
    "        b -= alpha * dJ_db\n",
    "\n",
    "        i += 1\n",
    "\n",
    "    log = np.array(log, dtype=\"object\")\n",
    "\n",
    "    return w, b, log"
   ]
  },
  {
   "cell_type": "markdown",
   "metadata": {},
   "source": [
    "### Answer"
   ]
  },
  {
   "cell_type": "code",
   "execution_count": 7,
   "metadata": {},
   "outputs": [
    {
     "data": {
      "text/plain": [
       "(array([5.28123029, 5.07815608]), -14.222409982019839)"
      ]
     },
     "execution_count": 7,
     "metadata": {},
     "output_type": "execute_result"
    }
   ],
   "source": [
    "w, b, log = GD()\n",
    "w, b"
   ]
  },
  {
   "cell_type": "markdown",
   "metadata": {},
   "source": [
    "### Plot the data and decision boundary"
   ]
  },
  {
   "cell_type": "code",
   "execution_count": 8,
   "metadata": {},
   "outputs": [
    {
     "data": {
      "text/plain": [
       "<matplotlib.collections.PathCollection at 0x10d3c1a90>"
      ]
     },
     "execution_count": 8,
     "metadata": {},
     "output_type": "execute_result"
    },
    {
     "data": {
      "image/png": "[encoded data removed]",
      "text/plain": [
       "<Figure size 500x400 with 1 Axes>"
      ]
     },
     "metadata": {},
     "output_type": "display_data"
    }
   ],
   "source": [
    "x_plot = np.random.uniform(0, 6, size=(100,2))\n",
    "\n",
    "fix, ax = plt.subplots(1,1,figsize=(5,4))\n",
    "ox = np.arange(0,x_plot.shape[0])\n",
    "ax.scatter(x_plot[:,0], x_plot[:,1], c=sigmoid(x_plot,w,b))"
   ]
  },
  {
   "cell_type": "markdown",
   "metadata": {},
   "source": [
    "### Plot model function"
   ]
  },
  {
   "cell_type": "code",
   "execution_count": 9,
   "metadata": {},
   "outputs": [
    {
     "data": {
      "text/plain": [
       "<matplotlib.collections.PathCollection at 0x10d751040>"
      ]
     },
     "execution_count": 9,
     "metadata": {},
     "output_type": "execute_result"
    },
    {
     "data": {
      "image/png": "[encoded data removed]",
      "text/plain": [
       "<Figure size 500x400 with 2 Axes>"
      ]
     },
     "metadata": {},
     "output_type": "display_data"
    }
   ],
   "source": [
    "x_plot = np.random.uniform(0, 6, size=(100,))\n",
    "\n",
    "fix, ax = plt.subplots(1,2,figsize=(5,4))\n",
    "ox = np.arange(0,x_plot.shape[0])\n",
    "# Plot sigmoid function with first set of weights\n",
    "ax[0].scatter(x_plot, sigmoid(x_plot,w[0],b))\n",
    "# Plot sigmoid function with second set of weights\n",
    "ax[1].scatter(x_plot, sigmoid(x_plot,w[1],b))"
   ]
  }
 ],
 "metadata": {
  "kernelspec": {
   "display_name": ".venv",
   "language": "python",
   "name": "python3"
  },
  "language_info": {
   "codemirror_mode": {
    "name": "ipython",
    "version": 3
   },
   "file_extension": ".py",
   "mimetype": "text/x-python",
   "name": "python",
   "nbconvert_exporter": "python",
   "pygments_lexer": "ipython3",
   "version": "3.12.0"
  }
 },
 "nbformat": 4,
 "nbformat_minor": 2
}

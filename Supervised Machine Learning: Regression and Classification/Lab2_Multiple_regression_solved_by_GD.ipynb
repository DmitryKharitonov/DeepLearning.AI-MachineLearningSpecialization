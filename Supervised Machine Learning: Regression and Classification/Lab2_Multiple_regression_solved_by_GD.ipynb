{
 "cells": [
  {
   "cell_type": "markdown",
   "metadata": {},
   "source": [
    "# Given\n",
    "\n",
    "The training dataset of three examples and four features (size, bedrooms, floors and, age) shown in the table below:\n",
    "\n",
    "| Size (sqft) | Number of Bedrooms  | Number of floors | Age of  Home | Price (1000s dollars)  |   \n",
    "| ----------------| ------------------- |----------------- |--------------|-------------- |  \n",
    "| 2104            | 5                   | 1                | 45           | 460           |  \n",
    "| 1416            | 3                   | 2                | 40           | 232           |  \n",
    "| 852             | 2                   | 1                | 35           | 178           |  \n",
    "\n",
    "\n",
    "# Find\n",
    "\n",
    "A linear regression model, so you can then predict the price for a house with 1200 sqft, 3 bedrooms, 1 floor, 40 years old.\n",
    "\n",
    "<b>*Ignore feature scaling in this task</b>"
   ]
  },
  {
   "cell_type": "markdown",
   "metadata": {},
   "source": [
    "# Solution"
   ]
  },
  {
   "cell_type": "code",
   "execution_count": 2,
   "metadata": {},
   "outputs": [],
   "source": [
    "import numpy as np\n",
    "import matplotlib.pyplot as plt"
   ]
  },
  {
   "cell_type": "code",
   "execution_count": 3,
   "metadata": {},
   "outputs": [],
   "source": [
    "x = np.array([[2104,5,1,45],[1416,3,2,40],[852,2,1,35]])\n",
    "y = np.array([460,232,178])\n",
    "\n",
    "m = x.shape[0]\n",
    "k = x.shape[1]"
   ]
  },
  {
   "cell_type": "markdown",
   "metadata": {},
   "source": [
    "# Solution"
   ]
  },
  {
   "cell_type": "markdown",
   "metadata": {},
   "source": [
    "Examples are stored in a matrix (m rows, n columns):\n",
    "\n",
    "$$\\mathbf{X} = \n",
    "\\begin{pmatrix}\n",
    " x_0^0 & x_0^1 & \\cdots & x_0^{n-1} \\\\ \n",
    " x_1^0 & x_1^1 & \\cdots & x_1^{n-1} \\\\\n",
    " \\cdots \\\\\n",
    " x_{m-1}^0 & x_{m-1}^1 & \\cdots & x_{m-1}^{n-1}\n",
    "\\end{pmatrix}\n",
    "$$"
   ]
  },
  {
   "cell_type": "markdown",
   "metadata": {},
   "source": [
    "$\\mathbf{w}$ is a vector with $n$ elements:\n",
    "\n",
    "$$\\mathbf{w} = \\begin{pmatrix}\n",
    "w_0 & w_1 & \\cdots & w_{n-1}\n",
    "\\end{pmatrix}\n",
    "$$\n",
    "$b$ is a scalar parameter.  "
   ]
  },
  {
   "cell_type": "markdown",
   "metadata": {},
   "source": [
    "The model's prediction in vector notation:\n",
    "$$ f_{\\mathbf{w},b}(\\mathbf{x}) = \\mathbf{w} \\cdot \\mathbf{x} + b  \\tag{2} $$\n"
   ]
  },
  {
   "cell_type": "markdown",
   "metadata": {},
   "source": [
    "### Define Loss and Cost functions"
   ]
  },
  {
   "cell_type": "markdown",
   "metadata": {},
   "source": [
    "$$Loss_i(w,b) = f_{w,b}(x_{i}) - y_{i}$$\n",
    "$$J(w,b) = \\frac{1}{2m}\\sum\\limits^{m} Loss_i(w,b)^2$$"
   ]
  },
  {
   "cell_type": "code",
   "execution_count": 4,
   "metadata": {},
   "outputs": [],
   "source": [
    "def CalculateLoss(w, b):\n",
    "    \n",
    "    loss = np.dot(x, w) + b - y\n",
    "    cost = np.sum(loss**2) / 2 / m\n",
    "    \n",
    "    return loss, cost"
   ]
  },
  {
   "cell_type": "markdown",
   "metadata": {},
   "source": [
    "### Calculate gradient vectors"
   ]
  },
  {
   "cell_type": "markdown",
   "metadata": {},
   "source": [
    "$$\\frac{\\partial J(\\mathbf{w},b)}{\\partial w^j}  = \\frac{1}{m} \\sum\\limits^{m} Loss_{i}(w^j,b) \\cdot x_{i}^{j}$$\n",
    "$$\\frac{\\partial J(\\mathbf{w},b)}{\\partial b}  = \\frac{1}{m} \\sum\\limits^{m} Loss_{i}(w,b)$$"
   ]
  },
  {
   "cell_type": "code",
   "execution_count": 5,
   "metadata": {},
   "outputs": [],
   "source": [
    "def CalculateGradient(w, b):\n",
    "    \n",
    "    loss, cost = CalculateLoss(w, b)\n",
    "\n",
    "    dJ_dw = np.dot(loss, x) / m\n",
    "    dJ_db = np.sum(loss) / m\n",
    "\n",
    "    return dJ_dw, dJ_db, cost"
   ]
  },
  {
   "cell_type": "markdown",
   "metadata": {},
   "source": [
    "### Run GD"
   ]
  },
  {
   "cell_type": "code",
   "execution_count": 6,
   "metadata": {},
   "outputs": [],
   "source": [
    "def GD(iterations = 1000, alpha = 5.0e-9):\n",
    "\n",
    "    # initial w & b\n",
    "\n",
    "    w = np.zeros_like(x[0])\n",
    "    b = 0\n",
    "\n",
    "    # GD\n",
    "    log = []\n",
    "\n",
    "    i = 0\n",
    "\n",
    "    while i < iterations:\n",
    "\n",
    "        dJ_dw, dJ_db, cost = CalculateGradient(w, b)\n",
    "\n",
    "        log.append([i, w, b, cost, dJ_dw, dJ_db])\n",
    "\n",
    "        w = w - alpha * dJ_dw\n",
    "        b = b - alpha * dJ_db\n",
    "\n",
    "        i += 1\n",
    "\n",
    "    log = np.array(log, dtype=\"object\")\n",
    "\n",
    "    return w, b, log"
   ]
  },
  {
   "cell_type": "markdown",
   "metadata": {},
   "source": [
    "# Answer"
   ]
  },
  {
   "cell_type": "markdown",
   "metadata": {},
   "source": [
    "### Model"
   ]
  },
  {
   "cell_type": "code",
   "execution_count": 7,
   "metadata": {},
   "outputs": [
    {
     "name": "stdout",
     "output_type": "stream",
     "text": [
      "Multiple Linear regression: y = x * [2.02183456e-01 4.98188783e-04 4.85538721e-05 4.39074080e-03] + 9.93445650863749e-05\n"
     ]
    }
   ],
   "source": [
    "w, b, log = GD()\n",
    "\n",
    "print(f\"Multiple Linear regression: y = x * {w.astype(\"float\")} + {b}\")"
   ]
  },
  {
   "cell_type": "markdown",
   "metadata": {},
   "source": [
    "### Prediction"
   ]
  },
  {
   "cell_type": "code",
   "execution_count": 8,
   "metadata": {},
   "outputs": [
    {
     "name": "stdout",
     "output_type": "stream",
     "text": [
      "1200 sqft, 3 bedrooms, 1 floor, 40 years old will cost 242.79741940772269\n"
     ]
    }
   ],
   "source": [
    "# 1200 sqft, 3 bedrooms, 1 floor, 40 years old.\n",
    "prediction = np.array([1200, 3, 1, 40])\n",
    "price = np.dot(prediction, w) + b\n",
    "\n",
    "print (f\"1200 sqft, 3 bedrooms, 1 floor, 40 years old will cost {price}\")"
   ]
  },
  {
   "cell_type": "markdown",
   "metadata": {},
   "source": [
    "### Precision"
   ]
  },
  {
   "cell_type": "code",
   "execution_count": 9,
   "metadata": {},
   "outputs": [
    {
     "name": "stdout",
     "output_type": "stream",
     "text": [
      "Final sq error is still high without feature scaling: 696.9719764219686\n"
     ]
    }
   ],
   "source": [
    "print(f\"Final sq error is still high without feature scaling: {log[-1,3]}\")"
   ]
  },
  {
   "cell_type": "markdown",
   "metadata": {},
   "source": [
    "### Convergence"
   ]
  },
  {
   "cell_type": "code",
   "execution_count": 10,
   "metadata": {},
   "outputs": [
    {
     "data": {
      "text/plain": [
       "Text(0, 0.5, 'Cost')"
      ]
     },
     "execution_count": 10,
     "metadata": {},
     "output_type": "execute_result"
    },
    {
     "data": {
      "image/png": "[encoded data removed]",
      "text/plain": [
       "<Figure size 640x480 with 1 Axes>"
      ]
     },
     "metadata": {},
     "output_type": "display_data"
    }
   ],
   "source": [
    "fig, ax = plt.subplots()\n",
    "ax.scatter(log[:,0], log[:,3])\n",
    "ax.set_xlabel(\"i\")\n",
    "ax.set_ylabel(\"Cost\")"
   ]
  }
 ],
 "metadata": {
  "kernelspec": {
   "display_name": ".venv",
   "language": "python",
   "name": "python3"
  },
  "language_info": {
   "codemirror_mode": {
    "name": "ipython",
    "version": 3
   },
   "file_extension": ".py",
   "mimetype": "text/x-python",
   "name": "python",
   "nbconvert_exporter": "python",
   "pygments_lexer": "ipython3",
   "version": "3.12.0"
  }
 },
 "nbformat": 4,
 "nbformat_minor": 2
}

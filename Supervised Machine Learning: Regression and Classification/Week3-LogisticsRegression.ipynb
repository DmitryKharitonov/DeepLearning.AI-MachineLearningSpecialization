{
 "cells": [
  {
   "cell_type": "code",
   "execution_count": 91,
   "metadata": {},
   "outputs": [],
   "source": [
    "import numpy as np\n",
    "import matplotlib.pyplot as plt"
   ]
  },
  {
   "attachments": {},
   "cell_type": "markdown",
   "metadata": {},
   "source": [
    "# Logistic Regression"
   ]
  },
  {
   "attachments": {},
   "cell_type": "markdown",
   "metadata": {},
   "source": [
    "Sigmoid $g(z) = \\frac{1}{1+e^{-z}}$\n",
    "\n",
    "$g(f(x)) = gf(x) = \\frac{1}{1+e^{-(w * x + b)}}$"
   ]
  },
  {
   "attachments": {},
   "cell_type": "markdown",
   "metadata": {},
   "source": [
    "Loss function is different:\n",
    "$-\\frac{1}{m}\\sum[y_i * log(gf(x_i,w_{new},b_{new}))+(1-y_i) * log(1-gf(x_i,w_{new},b_{new}))]$"
   ]
  },
  {
   "attachments": {},
   "cell_type": "markdown",
   "metadata": {},
   "source": [
    "But Gradient Descend will remain the same - see math in here - https://medium.com/analytics-vidhya/derivative-of-log-loss-function-for-logistic-regression-9b832f025c2d"
   ]
  },
  {
   "cell_type": "code",
   "execution_count": 116,
   "metadata": {},
   "outputs": [],
   "source": [
    "def GradientDescend(x, y, alpha = 0.01, iterations = 1000):\n",
    "\n",
    "    def gfx(x,w,b):\n",
    "        return 1 / (1+np.exp(-(np.dot(x,w)+b)))\n",
    "\n",
    "\n",
    "    def CostFunction(x,y,w,b):\n",
    "        m = x.shape[0]\n",
    "\n",
    "        cost_first_log = np.log(gfx(x,w,b))\n",
    "        \n",
    "        cost_second_log = np.log(1 - gfx(x,w,b))\n",
    "\n",
    "        cost_sum = np.dot(y,cost_first_log) + np.dot((1-y),cost_second_log)\n",
    "        cost = - cost_sum / m\n",
    "\n",
    "        return cost\n",
    "\n",
    "\n",
    "    def ComputeGradient(x,y,w,b):\n",
    "\n",
    "        loss = gfx(x,w,b) - y\n",
    "        dJ_dw = np.dot(loss,x) / m\n",
    "        dJ_db = np.sum(loss) / m\n",
    "\n",
    "        return dJ_dw, dJ_db\n",
    "\n",
    "    if x.ndim == 1:\n",
    "        m = x.shape[0]\n",
    "        k = 1\n",
    "    elif x.ndim == 2:\n",
    "        m,k = x.shape # m samples, k featuress\n",
    "\n",
    "    if k == 1:\n",
    "        w_new = 0\n",
    "    elif k == 2:\n",
    "        w_new = np.zeros_like(x[0])\n",
    "    else:\n",
    "        print(\"Too many dimensions in the train data\")\n",
    "\n",
    "    b_new = 0\n",
    "\n",
    "    i = 0\n",
    "\n",
    "    log = []\n",
    "\n",
    "    while i < iterations:\n",
    "\n",
    "        dJ_dw, dJ_db = ComputeGradient(x, y, w_new, b_new)\n",
    "\n",
    "        w_new = w_new - alpha * dJ_dw\n",
    "        b_new = b_new - alpha * dJ_db\n",
    "        cost = CostFunction(x,y,w_new,b_new)\n",
    "\n",
    "        log.append([i,[w_new,b_new],[dJ_dw,dJ_db],cost])\n",
    "\n",
    "        i += 1\n",
    "    \n",
    "    return w_new, b_new, cost, log\n"
   ]
  },
  {
   "attachments": {},
   "cell_type": "markdown",
   "metadata": {},
   "source": [
    "# Train data"
   ]
  },
  {
   "cell_type": "code",
   "execution_count": 102,
   "metadata": {},
   "outputs": [
    {
     "data": {
      "text/plain": [
       "<matplotlib.collections.PathCollection at 0x1129d2ee0>"
      ]
     },
     "execution_count": 102,
     "metadata": {},
     "output_type": "execute_result"
    },
    {
     "data": {
      "image/png": "[encoded data removed]",
      "text/plain": [
       "<Figure size 400x300 with 1 Axes>"
      ]
     },
     "metadata": {},
     "output_type": "display_data"
    }
   ],
   "source": [
    "x_train = np.array([[0.5,1.5],[1,1],[1.5,0.5],[3,0.5],[2,2],[1,2.5]])\n",
    "y_train = np.array([0,0,0,1,1,1])\n",
    "\n",
    "fig, ax = plt.subplots(1,1,figsize=(4,3))\n",
    "ax.scatter(x_train[:,0],x_train[:,1],c=y_train)"
   ]
  },
  {
   "cell_type": "code",
   "execution_count": 104,
   "metadata": {},
   "outputs": [
    {
     "data": {
      "text/plain": [
       "(array([5.28123029, 5.07815608]), -14.222409982019839, 0.017117768890292925)"
      ]
     },
     "execution_count": 104,
     "metadata": {},
     "output_type": "execute_result"
    }
   ],
   "source": [
    "w_new, b_new, cost, log = GradientDescend(x_train,y_train, iterations = 10000, alpha = 0.1)\n",
    "\n",
    "w_new, b_new, cost"
   ]
  },
  {
   "attachments": {},
   "cell_type": "markdown",
   "metadata": {},
   "source": [
    "# Predictions"
   ]
  },
  {
   "cell_type": "code",
   "execution_count": 108,
   "metadata": {},
   "outputs": [
    {
     "data": {
      "text/plain": [
       "<matplotlib.collections.PathCollection at 0x11a9c8040>"
      ]
     },
     "execution_count": 108,
     "metadata": {},
     "output_type": "execute_result"
    },
    {
     "data": {
      "image/png": "[encoded data removed]",
      "text/plain": [
       "<Figure size 400x300 with 1 Axes>"
      ]
     },
     "metadata": {},
     "output_type": "display_data"
    }
   ],
   "source": [
    "x_test = np.array([[0.5,1.5],[1,1],[1.5,0.5],[3,0.5],[2,2],[1,2.5],[0,0],[5,5],[2,7],[8,1],[4,4],[-1,-1]])\n",
    "\n",
    "fig, ax = plt.subplots(1,1,figsize=(4,3))\n",
    "ax.scatter(x_test[:,0],x_test[:,1],c= 1 / (1+np.exp(-(np.dot(x_test,w_new)+b_new))))"
   ]
  },
  {
   "attachments": {},
   "cell_type": "markdown",
   "metadata": {},
   "source": [
    "# Test on another set"
   ]
  },
  {
   "cell_type": "code",
   "execution_count": 123,
   "metadata": {},
   "outputs": [
    {
     "data": {
      "text/plain": [
       "Text(0, 0.5, 'If_milignant')"
      ]
     },
     "execution_count": 123,
     "metadata": {},
     "output_type": "execute_result"
    },
    {
     "data": {
      "image/png": "[encoded data removed]",
      "text/plain": [
       "<Figure size 400x300 with 1 Axes>"
      ]
     },
     "metadata": {},
     "output_type": "display_data"
    }
   ],
   "source": [
    "x_train = np.array([0.,1,2,3,4,5])\n",
    "y_train = np.array([0,0,0,1,1,1])\n",
    "\n",
    "fig, ax = plt.subplots(1,1,figsize=(4,3))\n",
    "ax.scatter(x_train,y_train)\n",
    "ax.set_xlabel(\"Tumor size\")\n",
    "ax.set_ylabel(\"If_milignant\")"
   ]
  },
  {
   "cell_type": "code",
   "execution_count": 118,
   "metadata": {},
   "outputs": [
    {
     "data": {
      "text/plain": [
       "(5.119873496232877, -12.609503113679205, 0.02538226757815515)"
      ]
     },
     "execution_count": 118,
     "metadata": {},
     "output_type": "execute_result"
    }
   ],
   "source": [
    "w_new, b_new, cost, log = GradientDescend(x_train,y_train, iterations = 10000, alpha = 0.1)\n",
    "\n",
    "w_new, b_new, cost"
   ]
  },
  {
   "cell_type": "code",
   "execution_count": 124,
   "metadata": {},
   "outputs": [
    {
     "data": {
      "text/plain": [
       "Text(0, 0.5, 'If_milignant')"
      ]
     },
     "execution_count": 124,
     "metadata": {},
     "output_type": "execute_result"
    },
    {
     "data": {
      "image/png": "[encoded data removed]",
      "text/plain": [
       "<Figure size 400x300 with 1 Axes>"
      ]
     },
     "metadata": {},
     "output_type": "display_data"
    }
   ],
   "source": [
    "x_test = np.array([0.,0.5,1,1.5,2,2.1,2.2,2.3,2.4,2.5,2.6,2.7,2.8,2.9,3,3.5,4,4.5,5])\n",
    "\n",
    "fig, ax = plt.subplots(1,1,figsize=(4,3))\n",
    "ax.scatter(x_test,1 / (1+np.exp(-(np.dot(x_test,w_new)+b_new))))\n",
    "ax.set_xlabel(\"Tumor size\")\n",
    "ax.set_ylabel(\"If_milignant\")"
   ]
  },
  {
   "cell_type": "code",
   "execution_count": null,
   "metadata": {},
   "outputs": [],
   "source": []
  }
 ],
 "metadata": {
  "kernelspec": {
   "display_name": "Python 3",
   "language": "python",
   "name": "python3"
  },
  "language_info": {
   "codemirror_mode": {
    "name": "ipython",
    "version": 3
   },
   "file_extension": ".py",
   "mimetype": "text/x-python",
   "name": "python",
   "nbconvert_exporter": "python",
   "pygments_lexer": "ipython3",
   "version": "3.9.13"
  },
  "orig_nbformat": 4
 },
 "nbformat": 4,
 "nbformat_minor": 2
}

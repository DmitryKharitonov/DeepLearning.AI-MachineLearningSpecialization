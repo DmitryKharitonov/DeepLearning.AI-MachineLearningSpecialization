{
 "cells": [
  {
   "cell_type": "markdown",
   "metadata": {},
   "source": [
    "# Given\n",
    "\n",
    "An overfitting example for linear and logistics regression each\n",
    "\n",
    "# Find\n",
    "\n",
    "Implement regularization of a cost function"
   ]
  },
  {
   "cell_type": "markdown",
   "metadata": {},
   "source": [
    "# Solution"
   ]
  },
  {
   "cell_type": "code",
   "execution_count": 2,
   "metadata": {},
   "outputs": [],
   "source": [
    "import numpy as np"
   ]
  },
  {
   "cell_type": "markdown",
   "metadata": {},
   "source": [
    "## Define regularized cost function"
   ]
  },
  {
   "cell_type": "markdown",
   "metadata": {},
   "source": [
    "Regression cost: $$J(\\mathbf{w},b) = \\frac{1}{2m} \\sum\\limits^m (f_{\\mathbf{w},b}(\\mathbf{x}_i) - y_i)^2  + \\frac{\\lambda}{2m}  \\sum^n w_j^2$$ "
   ]
  },
  {
   "cell_type": "code",
   "execution_count": 14,
   "metadata": {},
   "outputs": [],
   "source": [
    "def ComputeCost_RegressionRegularized(x, y, w, b, lambda_ = 1):\n",
    "\n",
    "    m = x.shape[0]\n",
    "\n",
    "    loss = np.dot(x, w) + b - y\n",
    "    cost_norm = np.sum(loss**2) / 2 / m\n",
    "    cost_reg = lambda_ * np.sum(w**2) / 2 / m\n",
    "\n",
    "    total_cost = cost_norm + cost_reg\n",
    "\n",
    "    return loss, total_cost"
   ]
  },
  {
   "cell_type": "markdown",
   "metadata": {},
   "source": [
    "Test against course book:"
   ]
  },
  {
   "cell_type": "code",
   "execution_count": 15,
   "metadata": {},
   "outputs": [
    {
     "name": "stdout",
     "output_type": "stream",
     "text": [
      "Regularized cost: 0.07917239320214275\n"
     ]
    }
   ],
   "source": [
    "np.random.seed(1)\n",
    "X_tmp = np.random.rand(5,6)\n",
    "y_tmp = np.array([0,1,0,1,0])\n",
    "w_tmp = np.random.rand(X_tmp.shape[1]).reshape(-1,)-0.5\n",
    "b_tmp = 0.5\n",
    "lambda_tmp = 0.7\n",
    "_, cost_tmp = ComputeCost_RegressionRegularized(X_tmp, y_tmp, w_tmp, b_tmp, lambda_tmp)\n",
    "\n",
    "print(\"Regularized cost:\", cost_tmp)"
   ]
  },
  {
   "cell_type": "markdown",
   "metadata": {},
   "source": [
    "Classification cost:"
   ]
  },
  {
   "cell_type": "markdown",
   "metadata": {},
   "source": [
    "$$Loss_i(w,b) = -[y_i * log(gf_{\\mathbf{w},b}(x_i))+(1-y_i) * log(1-gf_{\\mathbf{w},b}(x_i))] + \\frac{\\lambda}{2m}  \\sum^n w_j^2$$"
   ]
  },
  {
   "cell_type": "code",
   "execution_count": 16,
   "metadata": {},
   "outputs": [],
   "source": [
    "sigmoid = lambda x, w, b : 1 / (1 + np.exp(-1 * (np.dot(x, w) + b) ) )\n",
    "\n",
    "def ComputeCost_ClassificationRegularized(x, y, w, b, lambda_ = 1):\n",
    "\n",
    "    m = x.shape[0]\n",
    "\n",
    "    upper_half = - np.log(sigmoid(x, w, b))\n",
    "    lower_half = - np.log(1 - sigmoid(x, w, b))\n",
    "\n",
    "    cost_norm = np.dot(y, upper_half) + np.dot((1 - y),lower_half)\n",
    "    cost_norm = np.sum(cost_norm) / m\n",
    "\n",
    "    cost_reg = lambda_ * np.sum(w**2) / 2 / m\n",
    "    total_cost = cost_norm + cost_reg\n",
    "\n",
    "    loss = sigmoid(x, w, b) - y\n",
    "\n",
    "    return loss, total_cost"
   ]
  },
  {
   "cell_type": "markdown",
   "metadata": {},
   "source": [
    "Test against course book:"
   ]
  },
  {
   "cell_type": "code",
   "execution_count": 17,
   "metadata": {},
   "outputs": [
    {
     "name": "stdout",
     "output_type": "stream",
     "text": [
      "Regularized cost: 0.6850849138741671\n"
     ]
    }
   ],
   "source": [
    "np.random.seed(1)\n",
    "X_tmp = np.random.rand(5,6)\n",
    "y_tmp = np.array([0,1,0,1,0])\n",
    "w_tmp = np.random.rand(X_tmp.shape[1]).reshape(-1,)-0.5\n",
    "b_tmp = 0.5\n",
    "lambda_tmp = 0.7\n",
    "_, cost_tmp = ComputeCost_ClassificationRegularized(X_tmp, y_tmp, w_tmp, b_tmp, lambda_tmp)\n",
    "\n",
    "print(\"Regularized cost:\", cost_tmp)"
   ]
  },
  {
   "cell_type": "markdown",
   "metadata": {},
   "source": [
    "## Calculate gradient vectors"
   ]
  },
  {
   "cell_type": "markdown",
   "metadata": {},
   "source": [
    "$$\\begin{align*}\n",
    "\\frac{\\partial J(\\mathbf{w},b)}{\\partial w_j}  &= \\frac{1}{m} \\sum\\limits^m (f_{\\mathbf{w},b}(\\mathbf{x}_i) - y_i)x^j_i  +  \\frac{\\lambda}{m} w_j  \\\\\n",
    "\\frac{\\partial J(\\mathbf{w},b)}{\\partial b}  &= \\frac{1}{m} \\sum\\limits^m (f_{\\mathbf{w},b}(\\mathbf{x}_i) - y_i)\n",
    "\\end{align*}$$"
   ]
  },
  {
   "cell_type": "code",
   "execution_count": 18,
   "metadata": {},
   "outputs": [],
   "source": [
    "def CalculateGradient(x, y, w, b, lambda_ = 1, method = \"regression\"):\n",
    "    m = x.shape[0]  # Number of training instances\n",
    "\n",
    "    # Calculate the loss and cost using the CalculateLoss function\n",
    "    if method == \"regression\":\n",
    "        loss, cost = ComputeCost_RegressionRegularized(x, y, w, b)\n",
    "    else:\n",
    "        loss, cost = ComputeCost_ClassificationRegularized(x, y, w, b)\n",
    "\n",
    "    # Calculate the gradients of the parameter values by performing a dot product of the loss and input features\n",
    "    dJ_dw = np.dot(loss, x) / m + lambda_ * w / m\n",
    "\n",
    "    # Calculate the gradient of the bias value by summing the loss values\n",
    "    dJ_db = np.sum(loss) / m\n",
    "\n",
    "    return dJ_dw, dJ_db, cost"
   ]
  },
  {
   "cell_type": "markdown",
   "metadata": {},
   "source": [
    "Test against course book:"
   ]
  },
  {
   "cell_type": "code",
   "execution_count": 20,
   "metadata": {},
   "outputs": [
    {
     "name": "stdout",
     "output_type": "stream",
     "text": [
      "dj_db: [0.29653215 0.49116796 0.21645878]\n",
      "Regularized dj_dw:\n",
      " 0.6648774569425726\n"
     ]
    }
   ],
   "source": [
    "np.random.seed(1)\n",
    "X_tmp = np.random.rand(5,3)\n",
    "y_tmp = np.array([0,1,0,1,0])\n",
    "w_tmp = np.random.rand(X_tmp.shape[1])\n",
    "b_tmp = 0.5\n",
    "lambda_tmp = 0.7\n",
    "dj_db_tmp, dj_dw_tmp, cost =  CalculateGradient(x = X_tmp, y = y_tmp, w = w_tmp, b = b_tmp, lambda_ = lambda_tmp, method = \"regression\")\n",
    "\n",
    "print(f\"dj_db: {dj_db_tmp}\", )\n",
    "print(f\"Regularized dj_dw:\\n {dj_dw_tmp.tolist()}\", )"
   ]
  },
  {
   "cell_type": "code",
   "execution_count": 21,
   "metadata": {},
   "outputs": [
    {
     "name": "stdout",
     "output_type": "stream",
     "text": [
      "dj_db: [0.17380013 0.32007508 0.10776313]\n",
      "Regularized dj_dw:\n",
      " 0.341798994972791\n"
     ]
    }
   ],
   "source": [
    "np.random.seed(1)\n",
    "X_tmp = np.random.rand(5,3)\n",
    "y_tmp = np.array([0,1,0,1,0])\n",
    "w_tmp = np.random.rand(X_tmp.shape[1])\n",
    "b_tmp = 0.5\n",
    "lambda_tmp = 0.7\n",
    "dj_db_tmp, dj_dw_tmp, cost =  CalculateGradient(x = X_tmp, y = y_tmp, w = w_tmp, b = b_tmp, lambda_ = lambda_tmp, method = \"classification\")\n",
    "\n",
    "print(f\"dj_db: {dj_db_tmp}\", )\n",
    "print(f\"Regularized dj_dw:\\n {dj_dw_tmp.tolist()}\", )"
   ]
  }
 ],
 "metadata": {
  "kernelspec": {
   "display_name": ".venv",
   "language": "python",
   "name": "python3"
  },
  "language_info": {
   "codemirror_mode": {
    "name": "ipython",
    "version": 3
   },
   "file_extension": ".py",
   "mimetype": "text/x-python",
   "name": "python",
   "nbconvert_exporter": "python",
   "pygments_lexer": "ipython3",
   "version": "3.12.0"
  }
 },
 "nbformat": 4,
 "nbformat_minor": 2
}

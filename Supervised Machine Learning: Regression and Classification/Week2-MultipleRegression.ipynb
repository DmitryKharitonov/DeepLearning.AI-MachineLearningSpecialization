{
 "cells": [
  {
   "attachments": {},
   "cell_type": "markdown",
   "metadata": {},
   "source": [
    "# Given\n",
    "\n",
    "The training dataset contains three examples with four features (size, bedrooms, floors and, age) shown in the table below. \n",
    "\n",
    "| Size (sqft) | Number of Bedrooms  | Number of floors | Age of  Home | Price (1000s dollars)  |   \n",
    "| ----------------| ------------------- |----------------- |--------------|-------------- |  \n",
    "| 2104            | 5                   | 1                | 45           | 460           |  \n",
    "| 1416            | 3                   | 2                | 40           | 232           |  \n",
    "| 852             | 2                   | 1                | 35           | 178           |  \n",
    "\n",
    "\n",
    "# Find\n",
    "\n",
    "A linear regression model using these values so you can then predict the price for other houses. For example, a house with 1200 sqft, 3 bedrooms, 1 floor, 40 years old.\n",
    "\n",
    "*Ignore feature scaling in this task"
   ]
  },
  {
   "attachments": {},
   "cell_type": "markdown",
   "metadata": {},
   "source": [
    "# Solution"
   ]
  },
  {
   "cell_type": "code",
   "execution_count": 95,
   "metadata": {},
   "outputs": [],
   "source": [
    "import numpy as np"
   ]
  },
  {
   "attachments": {},
   "cell_type": "markdown",
   "metadata": {},
   "source": [
    "Examples are stored in a matrix (m rows, n columns).\n",
    "\n",
    "$$\\mathbf{X} = \n",
    "\\begin{pmatrix}\n",
    " x^{(0)}_0 & x^{(0)}_1 & \\cdots & x^{(0)}_{n-1} \\\\ \n",
    " x^{(1)}_0 & x^{(1)}_1 & \\cdots & x^{(1)}_{n-1} \\\\\n",
    " \\cdots \\\\\n",
    " x^{(m-1)}_0 & x^{(m-1)}_1 & \\cdots & x^{(m-1)}_{n-1} \n",
    "\\end{pmatrix}\n",
    "$$"
   ]
  },
  {
   "attachments": {},
   "cell_type": "markdown",
   "metadata": {},
   "source": [
    "$\\mathbf{w}$ is a vector with $n$ elements.\n",
    "\n",
    "$$\\mathbf{w} = \\begin{pmatrix}\n",
    "w_0 \\\\ \n",
    "w_1 \\\\\n",
    "\\cdots\\\\\n",
    "w_{n-1}\n",
    "\\end{pmatrix}\n",
    "$$\n",
    "$b$ is a scalar parameter.  "
   ]
  },
  {
   "attachments": {},
   "cell_type": "markdown",
   "metadata": {},
   "source": [
    "The model's prediction with multiple variables is given by the linear model:\n",
    "\n",
    "$$ f_{\\mathbf{w},b}(\\mathbf{x}) =  w_0x_0 + w_1x_1 +... + w_{n-1}x_{n-1} + b \\tag{1}$$\n",
    "or in vector notation:\n",
    "$$ f_{\\mathbf{w},b}(\\mathbf{x}) = \\mathbf{w} \\cdot \\mathbf{x} + b  \\tag{2} $$\n"
   ]
  },
  {
   "cell_type": "code",
   "execution_count": 96,
   "metadata": {},
   "outputs": [],
   "source": [
    "x_train = np.array([[2104,5,1,45],[1416,3,2,40],[852,2,1,35]])\n",
    "y_train = np.array([460,232,178])"
   ]
  },
  {
   "cell_type": "code",
   "execution_count": 97,
   "metadata": {},
   "outputs": [],
   "source": [
    "b_init = 0\n",
    "w_init = np.zeros(shape=(4,))"
   ]
  },
  {
   "attachments": {},
   "cell_type": "markdown",
   "metadata": {},
   "source": [
    "Compute Cost"
   ]
  },
  {
   "attachments": {},
   "cell_type": "markdown",
   "metadata": {},
   "source": [
    "$$J(\\mathbf{w},b) = \\frac{1}{2m} \\sum\\limits_{i = 0}^{m-1} (f_{\\mathbf{w},b}(\\mathbf{x}^{(i)}) - y^{(i)})^2 \\tag{3}$$ \n",
    "where:\n",
    "$$ f_{\\mathbf{w},b}(\\mathbf{x}^{(i)}) = \\mathbf{w} \\cdot \\mathbf{x}^{(i)} + b  \\tag{4} $$ "
   ]
  },
  {
   "cell_type": "code",
   "execution_count": 98,
   "metadata": {},
   "outputs": [],
   "source": [
    "def CalculateLoss(x,y,w,b):\n",
    "    \n",
    "    m = np.shape(x)[0] #3 rows\n",
    "    \n",
    "    error = ( np.dot(x,w) + b - y )**2\n",
    "    cost = np.sum(error) / 2 / m\n",
    "    \n",
    "    return cost"
   ]
  },
  {
   "attachments": {},
   "cell_type": "markdown",
   "metadata": {},
   "source": [
    "Compute Gradient"
   ]
  },
  {
   "attachments": {},
   "cell_type": "markdown",
   "metadata": {},
   "source": [
    "$$\\begin{align} w_j = w_j -  \\alpha \\frac{\\partial J(\\mathbf{w},b)}{\\partial w_j} \\tag{5}  \\; & \\text{, for j = 0..n-1}\\newline\n",
    "&b\\ \\ = b -  \\alpha \\frac{\\partial J(\\mathbf{w},b)}{\\partial b}  \\newline\n",
    "\\end{align}$$\n",
    "\n",
    "where, n is the number of features, parameters $w_j$,  $b$, are updated simultaneously and where  \n",
    "\n",
    "$$\n",
    "\\begin{align}\n",
    "\\frac{\\partial J(\\mathbf{w},b)}{\\partial w_j}  &= \\frac{1}{m} \\sum\\limits_{i = 0}^{m-1} (f_{\\mathbf{w},b}(\\mathbf{x}^{(i)}) - y^{(i)})x_{j}^{(i)} \\tag{6}  \\\\\n",
    "\\frac{\\partial J(\\mathbf{w},b)}{\\partial b}  &= \\frac{1}{m} \\sum\\limits_{i = 0}^{m-1} (f_{\\mathbf{w},b}(\\mathbf{x}^{(i)}) - y^{(i)}) \\tag{7}\n",
    "\\end{align}\n",
    "$$\n",
    "* m is the number of training examples in the data set"
   ]
  },
  {
   "cell_type": "code",
   "execution_count": 99,
   "metadata": {},
   "outputs": [],
   "source": [
    "def ComputeGradient(x,y,w,b):\n",
    "\n",
    "    m = np.shape(x)[0] #3 rows\n",
    "    k = np.shape(x)[1] #4 attributes\n",
    "\n",
    "    dJ_dw = np.zeros(k)\n",
    "    dJ_db = 0\n",
    "\n",
    "    error = ( np.dot(x,w) + b - y ) # shape 3x1\n",
    "    dJ_dw = np.dot (error, x) / m\n",
    "    dJ_db = np.sum(error) / m\n",
    "\n",
    "    return dJ_dw, dJ_db"
   ]
  },
  {
   "attachments": {},
   "cell_type": "markdown",
   "metadata": {},
   "source": [
    "Gradient Descent"
   ]
  },
  {
   "cell_type": "code",
   "execution_count": 100,
   "metadata": {},
   "outputs": [],
   "source": [
    "def GD(x,y,w,b):\n",
    "\n",
    "    w_new = w.copy()\n",
    "    b_new = b\n",
    "\n",
    "    alpha = 5.0e-9 #learning rate\n",
    "    iterations = 1000\n",
    "\n",
    "    log = [[0, w, b, CalculateLoss(x,y,w,b)]]\n",
    "\n",
    "    i = 0\n",
    "    while i < iterations:\n",
    "\n",
    "        dJ_dw, dJ_db = ComputeGradient(x,y,w_new,b_new)\n",
    "        w_new -= alpha * dJ_dw\n",
    "        b_new -= alpha * dJ_db\n",
    "\n",
    "        i += 1\n",
    "        log.append([i, w_new, b_new, CalculateLoss(x,y,w_new,b_new)])\n",
    "\n",
    "    log = np.array(log)\n",
    "\n",
    "    return w_new,b_new,log"
   ]
  },
  {
   "attachments": {},
   "cell_type": "markdown",
   "metadata": {},
   "source": [
    "Execute"
   ]
  },
  {
   "cell_type": "code",
   "execution_count": 101,
   "metadata": {},
   "outputs": [
    {
     "name": "stderr",
     "output_type": "stream",
     "text": [
      "/var/folders/nr/pxyxhh4s2vl120p6__1g3z2c0000gn/T/ipykernel_71898/3530227982.py:21: VisibleDeprecationWarning: Creating an ndarray from ragged nested sequences (which is a list-or-tuple of lists-or-tuples-or ndarrays with different lengths or shapes) is deprecated. If you meant to do this, you must specify 'dtype=object' when creating the ndarray.\n",
      "  log = np.array(log)\n"
     ]
    },
    {
     "data": {
      "text/plain": [
       "array([[0, array([0., 0., 0., 0.]), 0, 49518.0],\n",
       "       [1,\n",
       "        array([2.02183456e-01, 4.98188783e-04, 4.85538721e-05, 4.39074080e-03]),\n",
       "        1.45e-06, 48359.372799640616],\n",
       "       [2,\n",
       "        array([2.02183456e-01, 4.98188783e-04, 4.85538721e-05, 4.39074080e-03]),\n",
       "        2.8824025646833338e-06, 47228.24235157323],\n",
       "       ...,\n",
       "       [998,\n",
       "        array([2.02183456e-01, 4.98188783e-04, 4.85538721e-05, 4.39074080e-03]),\n",
       "        9.939282623758559e-05, 696.9720847587805],\n",
       "       [999,\n",
       "        array([2.02183456e-01, 4.98188783e-04, 4.85538721e-05, 4.39074080e-03]),\n",
       "        9.936869571114249e-05, 696.9719764219686],\n",
       "       [1000,\n",
       "        array([2.02183456e-01, 4.98188783e-04, 4.85538721e-05, 4.39074080e-03]),\n",
       "        9.93445650863749e-05, 696.9718680863228]], dtype=object)"
      ]
     },
     "execution_count": 101,
     "metadata": {},
     "output_type": "execute_result"
    }
   ],
   "source": [
    "w_final,b_final,log = GD(x_train,y_train,w_init,b_init)\n",
    "\n",
    "log"
   ]
  },
  {
   "attachments": {},
   "cell_type": "markdown",
   "metadata": {},
   "source": [
    "Visualize convergence"
   ]
  },
  {
   "cell_type": "code",
   "execution_count": 109,
   "metadata": {},
   "outputs": [
    {
     "data": {
      "image/png": "[encoded data removed]",
      "text/plain": [
       "<Figure size 640x480 with 1 Axes>"
      ]
     },
     "metadata": {},
     "output_type": "display_data"
    }
   ],
   "source": [
    "import matplotlib.pyplot as plt\n",
    "\n",
    "plt.scatter(x=log[:,0], y=log[:,3])\n",
    "plt.plot(log[:,0], log[:,3])\n",
    "plt.show()"
   ]
  },
  {
   "attachments": {},
   "cell_type": "markdown",
   "metadata": {},
   "source": [
    "# Answer"
   ]
  },
  {
   "cell_type": "code",
   "execution_count": 112,
   "metadata": {},
   "outputs": [
    {
     "name": "stdout",
     "output_type": "stream",
     "text": [
      "w = [2.02183456e-01 4.98188783e-04 4.85538721e-05 4.39074080e-03]\n",
      "b = 9.93445650863749e-05\n",
      "Error = 696.9718680863228\n"
     ]
    }
   ],
   "source": [
    "print(f\"w = {w_final}\")\n",
    "print(f\"b = {b_final}\")\n",
    "print(f\"Error = {log[:,3][-1]}\")"
   ]
  },
  {
   "attachments": {},
   "cell_type": "markdown",
   "metadata": {},
   "source": [
    "Conclusion: The model doesn't work well without feature scaling"
   ]
  }
 ],
 "metadata": {
  "kernelspec": {
   "display_name": "Python 3",
   "language": "python",
   "name": "python3"
  },
  "language_info": {
   "codemirror_mode": {
    "name": "ipython",
    "version": 3
   },
   "file_extension": ".py",
   "mimetype": "text/x-python",
   "name": "python",
   "nbconvert_exporter": "python",
   "pygments_lexer": "ipython3",
   "version": "3.9.13"
  },
  "orig_nbformat": 4
 },
 "nbformat": 4,
 "nbformat_minor": 2
}

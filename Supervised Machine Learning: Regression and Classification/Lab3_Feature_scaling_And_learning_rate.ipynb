{
 "cells": [
  {
   "cell_type": "markdown",
   "metadata": {},
   "source": [
    "# Given\n",
    "\n",
    "The house prices training dataset, which looks similar to previous lab, but larger:\n",
    "\n",
    "| Size (sqft) | Number of Bedrooms  | Number of floors | Age of  Home | Price (1000s dollars)  |   \n",
    "| ----------------| ------------------- |----------------- |--------------|----------------------- |  \n",
    "| 952             | 2                   | 1                | 65           | 271.5                  |  \n",
    "| 1244            | 3                   | 2                | 64           | 232                    |  \n",
    "| 1947            | 3                   | 2                | 17           | 509.8                  |  \n",
    "| ...             | ...                 | ...              | ...          | ...                    |\n",
    "\n",
    "\n",
    "# Find\n",
    "\n",
    "A linear regression model, so you can then predict the price for a house with 1200 sqft, 3 bedrooms, 1 floor, 40 years old.\n",
    "\n",
    "Feature scaling:\n",
    "* 1 - off\n",
    "* 2 - on"
   ]
  },
  {
   "cell_type": "markdown",
   "metadata": {},
   "source": [
    "# Solution"
   ]
  },
  {
   "cell_type": "code",
   "execution_count": 1,
   "metadata": {},
   "outputs": [],
   "source": [
    "import numpy as np\n",
    "import matplotlib.pyplot as plt"
   ]
  },
  {
   "cell_type": "code",
   "execution_count": 2,
   "metadata": {},
   "outputs": [],
   "source": [
    "data = np.loadtxt(\"./houses.txt\", delimiter=\",\")\n",
    "\n",
    "x_features = ['size(sqft)','bedrooms','floors','age']\n",
    "x = data[:,0:4]\n",
    "y = data[:,4]\n",
    "\n",
    "m = x.shape[0]\n",
    "k = x.shape[1]"
   ]
  },
  {
   "cell_type": "markdown",
   "metadata": {},
   "source": [
    "### Scale features"
   ]
  },
  {
   "cell_type": "markdown",
   "metadata": {},
   "source": [
    "After z-score normalization, all features will have a mean of 0 and a standard deviation of 1.\n",
    "\n",
    "To implement z-score normalization use this formulat:\n",
    "$$x_{i,j} = \\dfrac{x_{i,j} - \\mu_j}{\\sigma_j}$$ \n",
    "where $j$ selects a feature (or a column) in the $\\mathbf{X}$ matrix. $µ_j$ is the mean of all the values for feature j and $\\sigma_j$ is the standard deviation of feature j:\n",
    "$$\\mu_j = \\frac{1}{m} \\sum^m x_{i,j}$$\n",
    "$$\\sigma_j^2 = \\frac{1}{m} \\sum^m (x_{i,j} - \\mu_j)^2$$"
   ]
  },
  {
   "cell_type": "code",
   "execution_count": 3,
   "metadata": {},
   "outputs": [],
   "source": [
    "def ScaleFeatures(x):\n",
    "\n",
    "    mean = []\n",
    "    stdev = []\n",
    "\n",
    "    x_scaled = []\n",
    "\n",
    "    for feature in range(x.shape[1]):\n",
    "\n",
    "        mean.append(np.mean(x[:,feature]))\n",
    "        stdev.append(np.std(x[:,feature]))\n",
    "\n",
    "    x_scaled = ( x - mean ) / stdev\n",
    "\n",
    "    return x_scaled, mean, stdev"
   ]
  },
  {
   "cell_type": "markdown",
   "metadata": {},
   "source": [
    "### Define Loss and Cost functions"
   ]
  },
  {
   "cell_type": "code",
   "execution_count": 4,
   "metadata": {},
   "outputs": [],
   "source": [
    "def CalculateLoss(w, b, x):\n",
    "    \n",
    "    loss = np.dot(x, w) + b - y\n",
    "    cost = np.sum(loss**2) / 2 / m\n",
    "    \n",
    "    return loss, cost"
   ]
  },
  {
   "cell_type": "markdown",
   "metadata": {},
   "source": [
    "### Calculate gradient vectors"
   ]
  },
  {
   "cell_type": "code",
   "execution_count": 5,
   "metadata": {},
   "outputs": [],
   "source": [
    "def CalculateGradient(w, b, x):\n",
    "    \n",
    "    loss, cost = CalculateLoss(w, b, x)\n",
    "\n",
    "    dJ_dw = np.dot(loss, x) / m\n",
    "    dJ_db = np.sum(loss) / m\n",
    "\n",
    "    return dJ_dw, dJ_db, cost"
   ]
  },
  {
   "cell_type": "markdown",
   "metadata": {},
   "source": [
    "### GD"
   ]
  },
  {
   "cell_type": "code",
   "execution_count": 6,
   "metadata": {},
   "outputs": [],
   "source": [
    "def GD(x, iterations = 1000, alpha = 5.0e-9):\n",
    "\n",
    "    # initial w & b\n",
    "\n",
    "    w = np.zeros_like(x[0])\n",
    "    b = 0\n",
    "\n",
    "    # GD\n",
    "    log = []\n",
    "\n",
    "    i = 0\n",
    "\n",
    "    while i < iterations:\n",
    "\n",
    "        dJ_dw, dJ_db, cost = CalculateGradient(w, b, x)\n",
    "\n",
    "        log.append([i, w, b, cost, dJ_dw, dJ_db])\n",
    "\n",
    "        w = w - alpha * dJ_dw\n",
    "        b = b - alpha * dJ_db\n",
    "\n",
    "        i += 1\n",
    "\n",
    "    log = np.array(log, dtype=\"object\")\n",
    "\n",
    "    return w, b, log"
   ]
  },
  {
   "cell_type": "markdown",
   "metadata": {},
   "source": [
    "# Answer"
   ]
  },
  {
   "cell_type": "markdown",
   "metadata": {},
   "source": [
    "## Without scaling"
   ]
  },
  {
   "cell_type": "markdown",
   "metadata": {},
   "source": [
    "### Model"
   ]
  },
  {
   "cell_type": "code",
   "execution_count": 7,
   "metadata": {},
   "outputs": [
    {
     "name": "stdout",
     "output_type": "stream",
     "text": [
      "Multiple Linear regression (unscaled): y = x * [ 0.26249788 -0.00355709 -0.00686245 -0.39314262] + 0.005123670605156419\n"
     ]
    }
   ],
   "source": [
    "alpha = 9e-7\n",
    "w, b, log = GD(x, alpha = alpha, iterations = 1000)\n",
    "\n",
    "print(f\"Multiple Linear regression (unscaled): y = x * {w.astype(\"float\")} + {b}\")"
   ]
  },
  {
   "cell_type": "markdown",
   "metadata": {},
   "source": [
    "### Precision"
   ]
  },
  {
   "cell_type": "code",
   "execution_count": 8,
   "metadata": {},
   "outputs": [
    {
     "name": "stdout",
     "output_type": "stream",
     "text": [
      "Final sq error is still high without feature scaling: 1382.226333391922\n"
     ]
    }
   ],
   "source": [
    "print(f\"Final sq error is still high without feature scaling: {log[-1,3]}\")"
   ]
  },
  {
   "cell_type": "markdown",
   "metadata": {},
   "source": [
    "### Prediction"
   ]
  },
  {
   "cell_type": "code",
   "execution_count": 9,
   "metadata": {},
   "outputs": [
    {
     "name": "stdout",
     "output_type": "stream",
     "text": [
      "1200 sqft, 3 bedrooms, 1 floor, 40 years old will cost 299.25933515225813\n"
     ]
    }
   ],
   "source": [
    "# 1200 sqft, 3 bedrooms, 1 floor, 40 years old.\n",
    "prediction = np.array([1200, 3, 1, 40])\n",
    "price = np.dot(prediction, w) + b\n",
    "\n",
    "print (f\"1200 sqft, 3 bedrooms, 1 floor, 40 years old will cost {price}\")"
   ]
  },
  {
   "cell_type": "markdown",
   "metadata": {},
   "source": [
    "### Convergence"
   ]
  },
  {
   "cell_type": "code",
   "execution_count": 10,
   "metadata": {},
   "outputs": [
    {
     "data": {
      "text/plain": [
       "(0.0, 100.0)"
      ]
     },
     "execution_count": 10,
     "metadata": {},
     "output_type": "execute_result"
    },
    {
     "data": {
      "image/png": "[encoded data removed]",
      "text/plain": [
       "<Figure size 640x480 with 1 Axes>"
      ]
     },
     "metadata": {},
     "output_type": "display_data"
    }
   ],
   "source": [
    "fig, ax = plt.subplots()\n",
    "ax.scatter(log[:,0], log[:,3])\n",
    "ax.set_xlabel(\"i\")\n",
    "ax.set_ylabel(\"Cost\")\n",
    "ax.set_title(\"Alpha = 9e-7\")\n",
    "ax.set_xlim([0,100])"
   ]
  },
  {
   "cell_type": "markdown",
   "metadata": {},
   "source": [
    "## With scaling"
   ]
  },
  {
   "cell_type": "code",
   "execution_count": 11,
   "metadata": {},
   "outputs": [],
   "source": [
    "x_scaled, mean, stdev = ScaleFeatures(x)"
   ]
  },
  {
   "cell_type": "markdown",
   "metadata": {},
   "source": [
    "### Model"
   ]
  },
  {
   "cell_type": "code",
   "execution_count": 12,
   "metadata": {},
   "outputs": [
    {
     "name": "stdout",
     "output_type": "stream",
     "text": [
      "Multiple Linear regression: y = x * [107.76066727 -20.05624432 -31.05097101 -38.32512409] + 362.2298984116164\n"
     ]
    }
   ],
   "source": [
    "alpha = 0.1\n",
    "w, b, log = GD(x_scaled, alpha = alpha, iterations = 100)\n",
    "\n",
    "print(f\"Multiple Linear regression: y = x * {w.astype(\"float\")} + {b}\")"
   ]
  },
  {
   "cell_type": "markdown",
   "metadata": {},
   "source": [
    "### Prediction"
   ]
  },
  {
   "cell_type": "code",
   "execution_count": 13,
   "metadata": {},
   "outputs": [
    {
     "name": "stdout",
     "output_type": "stream",
     "text": [
      "1200 sqft, 3 bedrooms, 1 floor, 40 years old will cost 319.74671010137246\n"
     ]
    }
   ],
   "source": [
    "# 1200 sqft, 3 bedrooms, 1 floor, 40 years old.\n",
    "prediction = np.array([1200, 3, 1, 40])\n",
    "prediction_scaled = (prediction - mean) / stdev\n",
    "price = np.dot(prediction_scaled, w) + b\n",
    "\n",
    "print (f\"1200 sqft, 3 bedrooms, 1 floor, 40 years old will cost {price}\")"
   ]
  },
  {
   "cell_type": "markdown",
   "metadata": {},
   "source": [
    "### Precision - improved"
   ]
  },
  {
   "cell_type": "code",
   "execution_count": 14,
   "metadata": {},
   "outputs": [
    {
     "name": "stdout",
     "output_type": "stream",
     "text": [
      "Final sq error is still high without feature scaling: 222.01847001903138\n"
     ]
    }
   ],
   "source": [
    "print(f\"Final sq error is still high without feature scaling: {log[-1,3]}\")"
   ]
  },
  {
   "cell_type": "markdown",
   "metadata": {},
   "source": [
    "### Convergence - faster"
   ]
  },
  {
   "cell_type": "code",
   "execution_count": 15,
   "metadata": {},
   "outputs": [
    {
     "data": {
      "text/plain": [
       "Text(0.5, 1.0, 'Alpha = 0.1')"
      ]
     },
     "execution_count": 15,
     "metadata": {},
     "output_type": "execute_result"
    },
    {
     "data": {
      "image/png": "[encoded data removed]",
      "text/plain": [
       "<Figure size 640x480 with 1 Axes>"
      ]
     },
     "metadata": {},
     "output_type": "display_data"
    }
   ],
   "source": [
    "fig, ax = plt.subplots()\n",
    "ax.scatter(log[:,0], log[:,3])\n",
    "ax.set_xlabel(\"i\")\n",
    "ax.set_ylabel(\"Cost\")\n",
    "ax.set_title(f\"Alpha = {alpha}\")"
   ]
  }
 ],
 "metadata": {
  "kernelspec": {
   "display_name": ".venv",
   "language": "python",
   "name": "python3"
  },
  "language_info": {
   "codemirror_mode": {
    "name": "ipython",
    "version": 3
   },
   "file_extension": ".py",
   "mimetype": "text/x-python",
   "name": "python",
   "nbconvert_exporter": "python",
   "pygments_lexer": "ipython3",
   "version": "3.12.0"
  }
 },
 "nbformat": 4,
 "nbformat_minor": 2
}

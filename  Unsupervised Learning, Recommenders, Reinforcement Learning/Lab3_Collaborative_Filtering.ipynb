{
 "cells": [
  {
   "cell_type": "markdown",
   "metadata": {},
   "source": [
    "# Given\n",
    "\n",
    "dataset of ratings $Y$ in (4778, 443). \n",
    "$R=1$ where rating is present\n",
    " \n",
    "# Find\n",
    "\n",
    "Calibrate system using collaborating filtering approach."
   ]
  },
  {
   "cell_type": "markdown",
   "metadata": {},
   "source": [
    "# Solution"
   ]
  },
  {
   "cell_type": "code",
   "execution_count": 198,
   "metadata": {},
   "outputs": [],
   "source": [
    "import numpy as np\n",
    "import tensorflow as tf"
   ]
  },
  {
   "cell_type": "markdown",
   "metadata": {},
   "source": [
    "Load data"
   ]
  },
  {
   "cell_type": "code",
   "execution_count": 199,
   "metadata": {},
   "outputs": [
    {
     "data": {
      "text/plain": [
       "((4778, 443), (4778, 443))"
      ]
     },
     "execution_count": 199,
     "metadata": {},
     "output_type": "execute_result"
    }
   ],
   "source": [
    "y = np.loadtxt(\"./Lab3_data_small_Y.csv\", delimiter=\",\")\n",
    "r = np.loadtxt(\"./Lab3_data_small_R.csv\", delimiter=\",\")\n",
    "\n",
    "y.shape, r.shape"
   ]
  },
  {
   "cell_type": "markdown",
   "metadata": {},
   "source": [
    "Normalize $Y$"
   ]
  },
  {
   "cell_type": "code",
   "execution_count": 200,
   "metadata": {},
   "outputs": [],
   "source": [
    "y_mean = np.mean(y,axis=1)\n",
    "y_norm = y - y_mean.reshape(-1,1)"
   ]
  },
  {
   "cell_type": "markdown",
   "metadata": {},
   "source": [
    "Define cost function $J$"
   ]
  },
  {
   "cell_type": "code",
   "execution_count": 201,
   "metadata": {},
   "outputs": [],
   "source": [
    "def cost_function(w, b, x, y_norm, r, _lambda): # re-written in tf language to be compatible with gradient calculation\n",
    "\n",
    "    sm = tf.linalg.matmul(x,w) + b - y_norm\n",
    "    rated_only = sm * r\n",
    "\n",
    "    J = tf.reduce_sum(rated_only**2) / 2 + (tf.reduce_sum(w**2) + tf.reduce_sum(x**2)) * _lambda / 2\n",
    "\n",
    "    return J"
   ]
  },
  {
   "cell_type": "markdown",
   "metadata": {},
   "source": [
    "Initialize $X$, $W$, and $B$ in TensorFlow"
   ]
  },
  {
   "cell_type": "code",
   "execution_count": 202,
   "metadata": {},
   "outputs": [
    {
     "data": {
      "text/plain": [
       "(TensorShape([4778, 100]), TensorShape([100, 443]), TensorShape([1, 443]))"
      ]
     },
     "execution_count": 202,
     "metadata": {},
     "output_type": "execute_result"
    }
   ],
   "source": [
    "films_qty, users_qty = y.shape\n",
    "features_qty = 100\n",
    "\n",
    "optimizer = tf.keras.optimizers.Adam(learning_rate=0.1)\n",
    "\n",
    "X = tf.Variable(tf.random.uniform((films_qty, features_qty), dtype=tf.float64),name='X')\n",
    "W = tf.Variable(tf.random.uniform((features_qty, users_qty), dtype=tf.float64),name='W')\n",
    "B = tf.Variable(tf.random.uniform((1, users_qty), dtype=tf.float64),name='B')\n",
    "\n",
    "X.shape, W.shape, B.shape"
   ]
  },
  {
   "cell_type": "markdown",
   "metadata": {},
   "source": [
    "Run GD"
   ]
  },
  {
   "cell_type": "code",
   "execution_count": 203,
   "metadata": {},
   "outputs": [
    {
     "name": "stdout",
     "output_type": "stream",
     "text": [
      "19 -> tf.Tensor(251015.52131505072, shape=(), dtype=float64)\n",
      "39 -> tf.Tensor(50944.94356940118, shape=(), dtype=float64)\n",
      "59 -> tf.Tensor(20623.739413997457, shape=(), dtype=float64)\n",
      "79 -> tf.Tensor(15323.413397671298, shape=(), dtype=float64)\n",
      "99 -> tf.Tensor(12655.42373644491, shape=(), dtype=float64)\n",
      "119 -> tf.Tensor(10997.14178079836, shape=(), dtype=float64)\n",
      "139 -> tf.Tensor(9799.395493704491, shape=(), dtype=float64)\n",
      "159 -> tf.Tensor(8893.341498032245, shape=(), dtype=float64)\n",
      "179 -> tf.Tensor(8187.478069256026, shape=(), dtype=float64)\n",
      "199 -> tf.Tensor(7624.894149167421, shape=(), dtype=float64)\n"
     ]
    }
   ],
   "source": [
    "iterations = 200\n",
    "\n",
    "for iter in range(iterations):\n",
    "\n",
    "    with tf.GradientTape() as tape:\n",
    "        cost = cost_function(W,B,X,y_norm,r,_lambda=1)\n",
    "\n",
    "    grads = tape.gradient(cost, [W,B,X])\n",
    "\n",
    "    optimizer.apply_gradients(zip(grads, [W,B,X]))\n",
    "\n",
    "    if iter%20==19:\n",
    "        print(iter, \"->\", cost)"
   ]
  },
  {
   "cell_type": "markdown",
   "metadata": {},
   "source": [
    "Predict"
   ]
  },
  {
   "cell_type": "code",
   "execution_count": 204,
   "metadata": {},
   "outputs": [],
   "source": [
    "def predict(W,B,X):\n",
    "\n",
    "    x,w,b = X.numpy(), W.numpy(), B.numpy()\n",
    "\n",
    "    prediction = np.matmul(x, w) + b + y_mean.reshape(-1,1)\n",
    "\n",
    "    return prediction"
   ]
  },
  {
   "cell_type": "markdown",
   "metadata": {},
   "source": [
    "Accuracy"
   ]
  },
  {
   "cell_type": "code",
   "execution_count": 205,
   "metadata": {},
   "outputs": [
    {
     "data": {
      "text/plain": [
       "-0.0394869574077848"
      ]
     },
     "execution_count": 205,
     "metadata": {},
     "output_type": "execute_result"
    }
   ],
   "source": [
    "prediction_r1 = predict(W,B,X)[r==1].round(2)\n",
    "r1 = y[r==1]\n",
    "\n",
    "np.mean(prediction_r1 - r1)"
   ]
  }
 ],
 "metadata": {
  "kernelspec": {
   "display_name": ".venv",
   "language": "python",
   "name": "python3"
  },
  "language_info": {
   "codemirror_mode": {
    "name": "ipython",
    "version": 3
   },
   "file_extension": ".py",
   "mimetype": "text/x-python",
   "name": "python",
   "nbconvert_exporter": "python",
   "pygments_lexer": "ipython3",
   "version": "3.11.6"
  }
 },
 "nbformat": 4,
 "nbformat_minor": 2
}

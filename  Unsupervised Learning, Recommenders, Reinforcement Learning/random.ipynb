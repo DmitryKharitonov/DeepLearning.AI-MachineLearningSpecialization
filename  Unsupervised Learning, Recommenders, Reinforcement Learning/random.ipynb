{
 "cells": [
  {
   "cell_type": "code",
   "execution_count": 1,
   "metadata": {},
   "outputs": [],
   "source": [
    "import numpy as np"
   ]
  },
  {
   "cell_type": "code",
   "execution_count": 28,
   "metadata": {},
   "outputs": [],
   "source": [
    "targets = np.load(\"./Lab4_data_targets_orig.npz\")['arr_0']\n",
    "\n",
    "std_dev = 0.8\n",
    "rand_arr = np.random.normal(loc=0, scale=std_dev, size=targets.shape)\n",
    "\n",
    "arr = targets.copy()\n",
    "arr += rand_arr\n",
    "arr = np.round(arr * 2) / 2\n",
    "arr = np.clip(arr, a_min=0.5, a_max=5)"
   ]
  },
  {
   "cell_type": "code",
   "execution_count": 29,
   "metadata": {},
   "outputs": [
    {
     "data": {
      "text/plain": [
       "array([2.5, 4. , 4.5, ..., 4.5, 4. , 5. ])"
      ]
     },
     "execution_count": 29,
     "metadata": {},
     "output_type": "execute_result"
    }
   ],
   "source": [
    "arr"
   ]
  },
  {
   "cell_type": "code",
   "execution_count": 30,
   "metadata": {},
   "outputs": [
    {
     "data": {
      "text/plain": [
       "array([4. , 3.5, 4. , ..., 5. , 5. , 5. ])"
      ]
     },
     "execution_count": 30,
     "metadata": {},
     "output_type": "execute_result"
    }
   ],
   "source": [
    "targets"
   ]
  },
  {
   "cell_type": "code",
   "execution_count": 31,
   "metadata": {},
   "outputs": [
    {
     "data": {
      "text/plain": [
       "array([ True,  True,  True, ...,  True,  True, False])"
      ]
     },
     "execution_count": 31,
     "metadata": {},
     "output_type": "execute_result"
    }
   ],
   "source": [
    "new = arr != targets\n",
    "new"
   ]
  },
  {
   "cell_type": "code",
   "execution_count": 32,
   "metadata": {},
   "outputs": [
    {
     "data": {
      "text/plain": [
       "35879"
      ]
     },
     "execution_count": 32,
     "metadata": {},
     "output_type": "execute_result"
    }
   ],
   "source": [
    "np.sum(new)"
   ]
  },
  {
   "cell_type": "code",
   "execution_count": 34,
   "metadata": {},
   "outputs": [],
   "source": [
    "np.savez(\"./Lab4_data_targets.npz\", targets = arr)"
   ]
  },
  {
   "cell_type": "markdown",
   "metadata": {},
   "source": [
    "Movies"
   ]
  },
  {
   "cell_type": "code",
   "execution_count": 27,
   "metadata": {},
   "outputs": [
    {
     "data": {
      "text/plain": [
       "(50884, 17)"
      ]
     },
     "execution_count": 27,
     "metadata": {},
     "output_type": "execute_result"
    }
   ],
   "source": [
    "movies = np.load(\"./Lab4_data_items_orig.npz\")['arr_0']\n",
    "features = np.load(\"./Lab4_data_items_orig.npz\")['arr_1']\n",
    "\n",
    "movies.shape"
   ]
  },
  {
   "cell_type": "code",
   "execution_count": 28,
   "metadata": {},
   "outputs": [
    {
     "name": "stdout",
     "output_type": "stream",
     "text": [
      "[[  6874.     2003.        3.96 ...      0.        0.        1.  ]\n",
      " [  8798.     2004.        3.76 ...      0.        0.        1.  ]\n",
      " [ 46970.     2006.        3.25 ...      0.        0.        0.  ]\n",
      " ...\n",
      " [168250.     2017.        3.63 ...      0.        0.        0.  ]\n",
      " [168250.     2017.        3.63 ...      0.        0.        0.  ]\n",
      " [168252.     2017.        4.28 ...      0.        1.        0.  ]]\n"
     ]
    }
   ],
   "source": [
    "np.set_printoptions(precision=2, suppress=True)\n",
    "print(movies)\n"
   ]
  },
  {
   "cell_type": "code",
   "execution_count": 29,
   "metadata": {},
   "outputs": [],
   "source": [
    "movies_reshuffle = np.random.permutation(movies)\n",
    "movies_reshuffle = movies_reshuffle[:,3:] # remove id, year, and avg rting"
   ]
  },
  {
   "cell_type": "code",
   "execution_count": 30,
   "metadata": {},
   "outputs": [
    {
     "data": {
      "text/plain": [
       "(50884, 14)"
      ]
     },
     "execution_count": 30,
     "metadata": {},
     "output_type": "execute_result"
    }
   ],
   "source": [
    "movies_reshuffle.shape"
   ]
  },
  {
   "cell_type": "code",
   "execution_count": 31,
   "metadata": {},
   "outputs": [],
   "source": [
    "#std_dev = 0.3\n",
    "#rand_arr = np.random.normal(loc=0, scale=std_dev, size=movies_reshuffle.shape[0])\n"
   ]
  },
  {
   "cell_type": "code",
   "execution_count": 32,
   "metadata": {},
   "outputs": [],
   "source": [
    "#rand_arr = rand_arr.round()\n",
    "#movies_reshuffle[:,0] += rand_arr # rand year\n",
    "#movies_reshuffle[:,1] = np.round(movies_reshuffle[:,1], 2) # round rating"
   ]
  },
  {
   "cell_type": "code",
   "execution_count": 33,
   "metadata": {},
   "outputs": [
    {
     "data": {
      "text/plain": [
       "array([[0., 1., 1., ..., 0., 0., 0.],\n",
       "       [0., 0., 0., ..., 0., 0., 0.],\n",
       "       [0., 0., 0., ..., 0., 0., 0.],\n",
       "       ...,\n",
       "       [1., 0., 0., ..., 0., 1., 1.],\n",
       "       [1., 1., 1., ..., 0., 0., 0.],\n",
       "       [1., 1., 0., ..., 0., 0., 0.]])"
      ]
     },
     "execution_count": 33,
     "metadata": {},
     "output_type": "execute_result"
    }
   ],
   "source": [
    "(movies_reshuffle)"
   ]
  },
  {
   "cell_type": "code",
   "execution_count": 34,
   "metadata": {},
   "outputs": [],
   "source": [
    "features = np.array(['Action', 'Adventure', 'Animation', 'Children', 'Comedy', 'Crime', 'Documentary', 'Drama', 'Fantasy', 'Horror', 'Mystery', 'Romance', 'Sci-Fi', 'Thriller'])"
   ]
  },
  {
   "cell_type": "code",
   "execution_count": 35,
   "metadata": {},
   "outputs": [],
   "source": [
    "np.savez(\"./Lab4_data_items.npz\", items = movies_reshuffle, features = features)"
   ]
  },
  {
   "cell_type": "markdown",
   "metadata": {},
   "source": [
    "users"
   ]
  },
  {
   "cell_type": "code",
   "execution_count": 170,
   "metadata": {},
   "outputs": [
    {
     "data": {
      "text/plain": [
       "(50884, 17)"
      ]
     },
     "execution_count": 170,
     "metadata": {},
     "output_type": "execute_result"
    }
   ],
   "source": [
    "users = np.load(\"./Lab4_data_users_orig.npz\")['arr_0']\n",
    "features = np.load(\"./Lab4_data_users_orig.npz\")['arr_1']\n",
    "\n",
    "users.shape"
   ]
  },
  {
   "cell_type": "code",
   "execution_count": 171,
   "metadata": {},
   "outputs": [],
   "source": [
    "users_uniq = np.unique(users,axis=0)\n",
    "users_uniq = users_uniq[:,3:]"
   ]
  },
  {
   "cell_type": "code",
   "execution_count": 176,
   "metadata": {},
   "outputs": [
    {
     "data": {
      "text/plain": [
       "(397, 14)"
      ]
     },
     "execution_count": 176,
     "metadata": {},
     "output_type": "execute_result"
    }
   ],
   "source": [
    "users_uniq.shape"
   ]
  },
  {
   "cell_type": "code",
   "execution_count": 177,
   "metadata": {},
   "outputs": [],
   "source": [
    "std_dev = 0.4\n",
    "users_rting_rnd = np.random.normal(loc=0, scale=std_dev, size = users_uniq.shape)\n",
    "users_uniq[users_uniq>1.5] += users_rting_rnd[users_uniq>1.5]"
   ]
  },
  {
   "cell_type": "code",
   "execution_count": 178,
   "metadata": {},
   "outputs": [],
   "source": [
    "users_reshuffle = np.random.permutation(users_uniq)\n",
    "users_round = np.round(users_reshuffle, 2)"
   ]
  },
  {
   "cell_type": "markdown",
   "metadata": {},
   "source": [
    "boost the qty of rows"
   ]
  },
  {
   "cell_type": "code",
   "execution_count": 181,
   "metadata": {},
   "outputs": [
    {
     "data": {
      "text/plain": [
       "array([[4.15, 4.74, 0.  , ..., 0.  , 5.56, 4.93],\n",
       "       [5.11, 0.  , 5.45, ..., 0.  , 0.  , 0.  ],\n",
       "       [4.66, 3.86, 5.17, ..., 4.24, 4.3 , 4.23],\n",
       "       ...,\n",
       "       [2.26, 3.4 , 2.42, ..., 1.83, 2.79, 1.9 ],\n",
       "       [2.9 , 3.18, 3.89, ..., 2.77, 2.62, 3.42],\n",
       "       [4.7 , 3.23, 1.  , ..., 2.33, 4.78, 4.48]])"
      ]
     },
     "execution_count": 181,
     "metadata": {},
     "output_type": "execute_result"
    }
   ],
   "source": [
    "rows_qty = 50884\n",
    "\n",
    "num_tiles = int(np.ceil(rows_qty / users_round.shape[0]))\n",
    "tiled_arr = np.tile(users_round, (num_tiles, 1))\n",
    "result = tiled_arr[:rows_qty, :]"
   ]
  },
  {
   "cell_type": "code",
   "execution_count": 148,
   "metadata": {},
   "outputs": [],
   "source": [
    "features = np.array(['Action', 'Adventure', 'Animation', 'Children', 'Comedy', 'Crime', 'Documentary', 'Drama', 'Fantasy', 'Horror', 'Mystery', 'Romance', 'Sci-Fi', 'Thriller'])"
   ]
  },
  {
   "cell_type": "code",
   "execution_count": 182,
   "metadata": {},
   "outputs": [],
   "source": [
    "np.savez(\"./Lab4_data_users.npz\", users = result, features = features)"
   ]
  },
  {
   "cell_type": "code",
   "execution_count": null,
   "metadata": {},
   "outputs": [],
   "source": []
  }
 ],
 "metadata": {
  "kernelspec": {
   "display_name": ".venv",
   "language": "python",
   "name": "python3"
  },
  "language_info": {
   "codemirror_mode": {
    "name": "ipython",
    "version": 3
   },
   "file_extension": ".py",
   "mimetype": "text/x-python",
   "name": "python",
   "nbconvert_exporter": "python",
   "pygments_lexer": "ipython3",
   "version": "3.11.6"
  }
 },
 "nbformat": 4,
 "nbformat_minor": 2
}

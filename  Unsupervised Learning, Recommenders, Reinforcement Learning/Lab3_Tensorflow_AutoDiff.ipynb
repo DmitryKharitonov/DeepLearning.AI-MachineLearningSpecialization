{
 "cells": [
  {
   "cell_type": "markdown",
   "metadata": {},
   "source": [
    "# Compute derivative using TensorFlow"
   ]
  },
  {
   "cell_type": "markdown",
   "metadata": {},
   "source": [
    "### Basic loss function"
   ]
  },
  {
   "cell_type": "code",
   "execution_count": 1,
   "metadata": {},
   "outputs": [
    {
     "name": "stderr",
     "output_type": "stream",
     "text": [
      "2023-11-29 16:05:12.242914: I tensorflow/core/platform/cpu_feature_guard.cc:182] This TensorFlow binary is optimized to use available CPU instructions in performance-critical operations.\n",
      "To enable the following instructions: AVX2 FMA, in other operations, rebuild TensorFlow with the appropriate compiler flags.\n"
     ]
    }
   ],
   "source": [
    "import tensorflow as tf"
   ]
  },
  {
   "cell_type": "code",
   "execution_count": 2,
   "metadata": {},
   "outputs": [],
   "source": [
    "w = tf.Variable(3.0) # initial value\n",
    "x = 1.0 #\n",
    "y = 1.0 # target\n",
    "\n",
    "alpha = 0.01"
   ]
  },
  {
   "cell_type": "code",
   "execution_count": 3,
   "metadata": {},
   "outputs": [
    {
     "name": "stdout",
     "output_type": "stream",
     "text": [
      "0 -> 4.0\n",
      "1 -> 3.92\n",
      "2 -> 3.8416\n",
      "3 -> 3.7647681\n",
      "4 -> 3.6894727\n",
      "5 -> 3.615683\n",
      "6 -> 3.5433693\n",
      "7 -> 3.4725018\n",
      "8 -> 3.4030519\n",
      "9 -> 3.334991\n",
      "10 -> 3.268291\n",
      "11 -> 3.2029252\n",
      "12 -> 3.138867\n",
      "13 -> 3.0760894\n",
      "14 -> 3.0145674\n",
      "15 -> 2.954276\n",
      "16 -> 2.8951907\n",
      "17 -> 2.837287\n",
      "18 -> 2.7805414\n",
      "19 -> 2.7249308\n",
      "20 -> 2.670432\n",
      "21 -> 2.6170235\n",
      "22 -> 2.564683\n",
      "23 -> 2.513389\n",
      "24 -> 2.4631214\n",
      "25 -> 2.413859\n",
      "26 -> 2.3655815\n",
      "27 -> 2.3182697\n",
      "28 -> 2.2719045\n",
      "29 -> 2.2264662\n"
     ]
    }
   ],
   "source": [
    "iterations=30\n",
    "\n",
    "for iter in range(iterations):\n",
    "    \n",
    "    with tf.GradientTape() as tape:\n",
    "        costJ = (w*x - y)**2\n",
    "\n",
    "    [dJdw] = tape.gradient(costJ, [w]) # compute derivative\n",
    "\n",
    "    w.assign_add(-alpha * dJdw) # reduce w for iteration\n",
    "    print(iter, \"->\", dJdw.numpy())"
   ]
  },
  {
   "cell_type": "markdown",
   "metadata": {},
   "source": [
    "### Adam optimizer"
   ]
  },
  {
   "cell_type": "code",
   "execution_count": 4,
   "metadata": {},
   "outputs": [],
   "source": [
    "optimizer = tf.keras.optimizers.Adam(learning_rate=1e-1)"
   ]
  },
  {
   "cell_type": "code",
   "execution_count": 5,
   "metadata": {},
   "outputs": [],
   "source": [
    "def costFunctionJ(X, W, b, Y_norm, R, num_users, num_movies, _lambda):\n",
    "\n",
    "    J = 0 # TBD\n",
    "\n",
    "    return J"
   ]
  },
  {
   "cell_type": "code",
   "execution_count": 6,
   "metadata": {},
   "outputs": [
    {
     "ename": "NameError",
     "evalue": "name 'X' is not defined",
     "output_type": "error",
     "traceback": [
      "\u001b[0;31m---------------------------------------------------------------------------\u001b[0m",
      "\u001b[0;31mNameError\u001b[0m                                 Traceback (most recent call last)",
      "\u001b[1;32m/Users/dmitriikharitonov/Workspace/DeepLearning.AI-MachineLearningSpecialization/ Unsupervised Learning, Recommenders, Reinforcement Learning/Lab3_Tensorflow_AutoDiff.ipynb Cell 9\u001b[0m line \u001b[0;36m6\n\u001b[1;32m      <a href='vscode-notebook-cell:/Users/dmitriikharitonov/Workspace/DeepLearning.AI-MachineLearningSpecialization/%20Unsupervised%20Learning%2C%20Recommenders%2C%20Reinforcement%20Learning/Lab3_Tensorflow_AutoDiff.ipynb#X12sZmlsZQ%3D%3D?line=2'>3</a>\u001b[0m \u001b[39mfor\u001b[39;00m \u001b[39miter\u001b[39m \u001b[39min\u001b[39;00m \u001b[39mrange\u001b[39m(iterations):\n\u001b[1;32m      <a href='vscode-notebook-cell:/Users/dmitriikharitonov/Workspace/DeepLearning.AI-MachineLearningSpecialization/%20Unsupervised%20Learning%2C%20Recommenders%2C%20Reinforcement%20Learning/Lab3_Tensorflow_AutoDiff.ipynb#X12sZmlsZQ%3D%3D?line=4'>5</a>\u001b[0m     \u001b[39mwith\u001b[39;00m tf\u001b[39m.\u001b[39mGradientTape() \u001b[39mas\u001b[39;00m tape:\n\u001b[0;32m----> <a href='vscode-notebook-cell:/Users/dmitriikharitonov/Workspace/DeepLearning.AI-MachineLearningSpecialization/%20Unsupervised%20Learning%2C%20Recommenders%2C%20Reinforcement%20Learning/Lab3_Tensorflow_AutoDiff.ipynb#X12sZmlsZQ%3D%3D?line=5'>6</a>\u001b[0m         cost_value \u001b[39m=\u001b[39m costFunctionJ(X, W, b, Y_norm, R, num_users, num_movies, _lambda)\n\u001b[1;32m      <a href='vscode-notebook-cell:/Users/dmitriikharitonov/Workspace/DeepLearning.AI-MachineLearningSpecialization/%20Unsupervised%20Learning%2C%20Recommenders%2C%20Reinforcement%20Learning/Lab3_Tensorflow_AutoDiff.ipynb#X12sZmlsZQ%3D%3D?line=7'>8</a>\u001b[0m     grads \u001b[39m=\u001b[39m tape\u001b[39m.\u001b[39mgradient(cost_value, [X,W,b]) \u001b[39m# calculate gradients\u001b[39;00m\n\u001b[1;32m     <a href='vscode-notebook-cell:/Users/dmitriikharitonov/Workspace/DeepLearning.AI-MachineLearningSpecialization/%20Unsupervised%20Learning%2C%20Recommenders%2C%20Reinforcement%20Learning/Lab3_Tensorflow_AutoDiff.ipynb#X12sZmlsZQ%3D%3D?line=9'>10</a>\u001b[0m     optimizer\u001b[39m.\u001b[39mapply_gradients(\u001b[39mzip\u001b[39m(grads, [X,W,b])) \u001b[39m#update X,W,b until convergence\u001b[39;00m\n",
      "\u001b[0;31mNameError\u001b[0m: name 'X' is not defined"
     ]
    }
   ],
   "source": [
    "iterations = 200\n",
    "\n",
    "for iter in range(iterations):\n",
    "\n",
    "    with tf.GradientTape() as tape:\n",
    "        cost_value = costFunctionJ(X, W, b, Y_norm, R, num_users, num_movies, _lambda)\n",
    "\n",
    "    grads = tape.gradient(cost_value, [X,W,b]) # calculate gradients\n",
    "\n",
    "    optimizer.apply_gradients(zip(grads, [X,W,b])) #update X,W,b until convergence"
   ]
  },
  {
   "cell_type": "code",
   "execution_count": null,
   "metadata": {},
   "outputs": [],
   "source": []
  }
 ],
 "metadata": {
  "kernelspec": {
   "display_name": ".venv",
   "language": "python",
   "name": "python3"
  },
  "language_info": {
   "codemirror_mode": {
    "name": "ipython",
    "version": 3
   },
   "file_extension": ".py",
   "mimetype": "text/x-python",
   "name": "python",
   "nbconvert_exporter": "python",
   "pygments_lexer": "ipython3",
   "version": "3.11.6"
  }
 },
 "nbformat": 4,
 "nbformat_minor": 2
}

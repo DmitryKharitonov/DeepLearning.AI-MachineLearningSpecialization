{
 "cells": [
  {
   "cell_type": "markdown",
   "metadata": {},
   "source": [
    "# Given\n",
    "\n",
    "A table of ratings Users gave to films is the main table.\n",
    "\n",
    "| Films   | User 1 | User 2 | User 3 | User 4 |\n",
    "|---------|--------|--------|--------|--------|\n",
    "| Movie 1 |5      | 5      0      | 0 |\n",
    "| Movie 2 | 5      | <span style=\"color:red\">?</span> | <span style=\"color:red\">?</span> | 0      |\n",
    "| Movie 3 | <span style=\"color:red\">?</span> | 4      | 0      | <span style=\"color:red\">?</span> |\n",
    "| Movie 4 | 0      | 0      | 5      | 4      |\n",
    "| Movie 5 | 0      | 0      | 5      | <span style=\"color:red\">?</span> |"
   ]
  },
  {
   "cell_type": "markdown",
   "metadata": {},
   "source": [
    "# Solution"
   ]
  },
  {
   "cell_type": "markdown",
   "metadata": {},
   "source": [
    "Let's assume we have two more components: film's features $X$ and user's preferences $W$:\n",
    "\n",
    "<table>\n",
    "  <tr>\n",
    "    <th></th>\n",
    "    <th colspan=\"4\">Films</th>\n",
    "    <th colspan=\"2\">Table X - Film's attributes</th>\n",
    "  </tr>\n",
    "  <tr>\n",
    "    <th></th>\n",
    "    <th>User 1</th>\n",
    "    <th>User 2</th>\n",
    "    <th>User 3</th>\n",
    "    <th>User 4</th>\n",
    "    <th>Feature 1 \"Comedy\"</th>\n",
    "    <th>Feature 2 \"Drama\"</th>\n",
    "  </tr>\n",
    "  <tr>\n",
    "    <td>Movie 1</td>\n",
    "    <td style=\"background-color: rgba(211, 211, 211, 0.5)\">5</td>\n",
    "    <td>5</td>\n",
    "    <td>0</td>\n",
    "    <td>0</td>\n",
    "    <td>0.9</td>\n",
    "    <td>0</td>\n",
    "  </tr>\n",
    "  <tr>\n",
    "    <td>Movie 2</td>\n",
    "    <td style=\"background-color: rgba(211, 211, 211, 0.5)\">5</td>\n",
    "    <td>?</td>\n",
    "    <td>?</td>\n",
    "    <td>0</td>\n",
    "    <td>1.0</td>\n",
    "    <td>0.01</td>\n",
    "  </tr>\n",
    "  <tr style=\"background-color: rgba(211, 211, 211, 0.5)\">\n",
    "    <td>Movie 3</td>\n",
    "    <td><span style=\"color:red\">?</span></td>\n",
    "    <td>4</td>\n",
    "    <td>0</td>\n",
    "    <td>?</td>\n",
    "    <td>0.99</td>\n",
    "    <td>0</td>\n",
    "  </tr>\n",
    "  <tr>\n",
    "    <td>Movie 4</td>\n",
    "    <td style=\"background-color: rgba(211, 211, 211, 0.5)\">0</td>\n",
    "    <td>0</td>\n",
    "    <td>5</td>\n",
    " <td>4</td>\n",
    "    <td>0.1</td>\n",
    "    <td>1.0</td>\n",
    "  </tr>\n",
    "  <tr>\n",
    "    <td>Movie 5</td>\n",
    "    <td style=\"background-color: rgba(211, 211, 211, 0.5)\">0</td>\n",
    "    <td>0</td>\n",
    "    <td>5</td>\n",
    "    <td>?</td>\n",
    "    <td>0</td>\n",
    "    <td>0.9</td>\n",
    "  </tr>\n",
    "  <tr>\n",
    "    <th colspan=\"5\">Table W - User's preferences</th>\n",
    "  </tr>\n",
    "  <tr>\n",
    "    <td>Feature 1 \"Comedy\"</td>\n",
    "    <td style=\"background-color: rgba(211, 211, 211, 0.5)\">5</td>\n",
    "    <td>5</td>\n",
    "    <td>0</td>\n",
    "    <td>0</td>\n",
    "  </tr>\n",
    "  <tr>\n",
    "    <td>Feature 2 \"Drama\"</td>\n",
    "    <td style=\"background-color: rgba(211, 211, 211, 0.5)\">0</td>\n",
    "    <td>0</td>\n",
    "    <td>5</td>\n",
    "    <td>5</td>\n",
    "  </tr>\n",
    "</table>\n"
   ]
  },
  {
   "cell_type": "markdown",
   "metadata": {},
   "source": [
    "### Part 1 - assume we have Table X"
   ]
  },
  {
   "cell_type": "markdown",
   "metadata": {},
   "source": [
    "To predict User 1 rating to Movie 3 we should combine film's parameters * user's preferences + bias, i.e.:\n",
    "\n",
    "$$ film_{parameters} \\cdot user_{preferences} + user_{bias} = x_3 \\cdot w_1 + bias_{1}$$\n",
    "\n",
    "$$\n",
    "\\underset{\\text{Film's parameters}}{\n",
    "\\begin{bmatrix} \n",
    "Comedy=0.99 & Drama=0 \n",
    "\\end{bmatrix}}\n",
    "\\cdot\n",
    "\\underset{\\text{User's preferences}}{\n",
    "\\begin{bmatrix} \n",
    "Comedy = 5 \\\\\n",
    "Drama = 0 \n",
    "\\end{bmatrix}}\n",
    "+\n",
    "\\underset{\\text{User's preferences, assume = 0}}\n",
    "{bias}\n",
    "= 4.95 \n",
    "$$"
   ]
  },
  {
   "cell_type": "markdown",
   "metadata": {},
   "source": [
    "Therefore, loss function is\n",
    "\n",
    "$$Loss(i = {Film},j = {User})= x_i \\cdot w_j + b_j - y(i,j)$$\n",
    "\n",
    "Cost function is\n",
    "\n",
    "$$\\underset{\\text{Cost function for User=j}}{J(w_j, b_j)} = \\frac{1}{2m_j} \\cdot \\sum_{rated only} (x_i \\cdot w_j + b_j - y(i,j))^2 + \\frac{\\lambda}{2m_j} \\sum_{k}^{features} w_{k,j}^2$$\n",
    "\n",
    "<i>For some reason, lecturer removed constant $m$ but left other constants. Go figure.</i>\n",
    "\n",
    "$$\\underset{\\text{Cost function for User=j}}{J(w_j, b_j)} = \\frac{1}{2} \\cdot \\sum_{rated only} (x_i \\cdot w_j + b_j - y(i,j))^2 + \\frac{\\lambda}{2} \\sum_{k}^{features} w_{k,j}^2$$\n",
    "\n",
    "$$\\underset{\\text{All Users}}{J(w, b)} = \\frac{1}{2} \\cdot \\sum_{j}^{users} \\sum_{rated only} {(x_i \\cdot w_j + b_j - y(i,j))^2} + \\frac{\\lambda}{2} \\sum_{j}^{users} \\sum_{k}^{features}{ w_{k,j}^2}$$"
   ]
  },
  {
   "cell_type": "markdown",
   "metadata": {},
   "source": [
    "### Part 2 - assume we have Table W"
   ]
  },
  {
   "cell_type": "markdown",
   "metadata": {},
   "source": [
    "$$\\underset{\\text{All Features}}{J(x)} = \\frac{1}{2} \\cdot \\sum_{j}^{features} \\sum_{rated only} {(x_i \\cdot w_j + b_j - y(i,j))^2} + \\frac{\\lambda}{2} \\sum_{j}^{features} \\sum_{k}^{users}{ x_{k,j}^2}$$"
   ]
  },
  {
   "cell_type": "markdown",
   "metadata": {},
   "source": [
    "### Full formula"
   ]
  },
  {
   "cell_type": "markdown",
   "metadata": {},
   "source": [
    "$${J(w,b,x)} = \\frac{1}{2} \\cdot \\sum_{j}^{features} \\sum_{rated only} {(x_i \\cdot w_j + b_j - y(i,j))^2} + \\frac{\\lambda}{2} \\sum_{j}^{users} \\sum_{k}^{features}{ w_{k,j}^2} + \\frac{\\lambda}{2} \\sum_{j}^{features} \\sum_{k}^{users}{ x_{k,j}^2}$$"
   ]
  },
  {
   "cell_type": "markdown",
   "metadata": {},
   "source": [
    "??? check regularization"
   ]
  },
  {
   "cell_type": "markdown",
   "metadata": {},
   "source": []
  }
 ],
 "metadata": {
  "kernelspec": {
   "display_name": ".venv",
   "language": "python",
   "name": "python3"
  },
  "language_info": {
   "name": "python",
   "version": "3.11.6"
  }
 },
 "nbformat": 4,
 "nbformat_minor": 2
}

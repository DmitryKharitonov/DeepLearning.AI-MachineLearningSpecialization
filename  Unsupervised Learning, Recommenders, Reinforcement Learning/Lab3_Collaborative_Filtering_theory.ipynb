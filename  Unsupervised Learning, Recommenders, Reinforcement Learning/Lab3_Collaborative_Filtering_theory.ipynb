{
 "cells": [
  {
   "cell_type": "markdown",
   "metadata": {},
   "source": [
    "# Given\n",
    "\n",
    "A table of ratings Users gave to films:\n",
    "\n",
    "| Films   | User 1 | User 2 | User 3 | User 4 |\n",
    "|---------|--------|--------|--------|--------|\n",
    "| Movie 1 |5      | 5      |0      | 0 |\n",
    "| Movie 2 | 5      | <span style=\"color:red\">?</span> | <span style=\"color:red\">?</span> | 0      |\n",
    "| Movie 3 | <span style=\"color:red\">?</span> | 4      | 0      | <span style=\"color:red\">?</span> |\n",
    "| Movie 4 | 0      | 0      | 5      | 4      |\n",
    "| Movie 5 | 0      | 0      | 5      | <span style=\"color:red\">?</span> |\n",
    "\n",
    "# Find\n",
    "\n",
    "Collaborative learning algorithm (loss function) and way to solve it."
   ]
  },
  {
   "cell_type": "markdown",
   "metadata": {},
   "source": [
    "# Solution"
   ]
  },
  {
   "cell_type": "markdown",
   "metadata": {},
   "source": [
    "Let's assume we have two more components: \n",
    "* film's features $X$, and \n",
    "* user's preferences $W$\n",
    "* film's features count = user's preferences count\n",
    "\n",
    "<table>\n",
    "  <tr>\n",
    "    <th></th>\n",
    "    <th colspan=\"4\">Films</th>\n",
    "    <th colspan=\"2\">Table X - Film's attributes</th>\n",
    "  </tr>\n",
    "  <tr>\n",
    "    <th></th>\n",
    "    <th>User 1</th>\n",
    "    <th>User 2</th>\n",
    "    <th>User 3</th>\n",
    "    <th>User 4</th>\n",
    "    <th>Feature 1 \"Comedy\"</th>\n",
    "    <th>Feature 2 \"Drama\"</th>\n",
    "  </tr>\n",
    "  <tr>\n",
    "    <td>Movie 1</td>\n",
    "    <td style=\"background-color: rgba(211, 211, 211, 0.5)\">5</td>\n",
    "    <td>5</td>\n",
    "    <td>0</td>\n",
    "    <td>0</td>\n",
    "    <td>0.9</td>\n",
    "    <td>0</td>\n",
    "  </tr>\n",
    "  <tr>\n",
    "    <td>Movie 2</td>\n",
    "    <td style=\"background-color: rgba(211, 211, 211, 0.5)\">5</td>\n",
    "    <td>?</td>\n",
    "    <td>?</td>\n",
    "    <td>0</td>\n",
    "    <td>1.0</td>\n",
    "    <td>0.01</td>\n",
    "  </tr>\n",
    "  <tr style=\"background-color: rgba(211, 211, 211, 0.5)\">\n",
    "    <td>Movie 3</td>\n",
    "    <td><span style=\"color:red\">?</span></td>\n",
    "    <td>4</td>\n",
    "    <td>0</td>\n",
    "    <td>?</td>\n",
    "    <td>0.99</td>\n",
    "    <td>0</td>\n",
    "  </tr>\n",
    "  <tr>\n",
    "    <td>Movie 4</td>\n",
    "    <td style=\"background-color: rgba(211, 211, 211, 0.5)\">0</td>\n",
    "    <td>0</td>\n",
    "    <td>5</td>\n",
    " <td>4</td>\n",
    "    <td>0.1</td>\n",
    "    <td>1.0</td>\n",
    "  </tr>\n",
    "  <tr>\n",
    "    <td>Movie 5</td>\n",
    "    <td style=\"background-color: rgba(211, 211, 211, 0.5)\">0</td>\n",
    "    <td>0</td>\n",
    "    <td>5</td>\n",
    "    <td>?</td>\n",
    "    <td>0</td>\n",
    "    <td>0.9</td>\n",
    "  </tr>\n",
    "  <tr>\n",
    "    <th colspan=\"5\">Table W - User's preferences</th>\n",
    "  </tr>\n",
    "  <tr>\n",
    "    <td>Feature 1 \"Comedy\"</td>\n",
    "    <td style=\"background-color: rgba(211, 211, 211, 0.5)\">5</td>\n",
    "    <td>5</td>\n",
    "    <td>0</td>\n",
    "    <td>0</td>\n",
    "  </tr>\n",
    "  <tr>\n",
    "    <td>Feature 2 \"Drama\"</td>\n",
    "    <td style=\"background-color: rgba(211, 211, 211, 0.5)\">0</td>\n",
    "    <td>0</td>\n",
    "    <td>5</td>\n",
    "    <td>5</td>\n",
    "  </tr>\n",
    "</table>\n"
   ]
  },
  {
   "cell_type": "markdown",
   "metadata": {},
   "source": [
    "### Part 1 - assume we have Table $X$\n",
    "(but we don't have table $W$)"
   ]
  },
  {
   "cell_type": "markdown",
   "metadata": {},
   "source": [
    "To predict User 1 rating to Movie 3 we should combine film's parameters * user's preferences + bias, i.e.:\n",
    "\n",
    "$$ film_{parameters} \\cdot user_{preferences} + user_{bias} = x_3 \\cdot w_1 + bias_{1}$$\n",
    "\n",
    "$$\n",
    "\\underset{\\text{Film's parameters}}{\n",
    "\\begin{bmatrix} \n",
    "Comedy=0.99 & Drama=0 \n",
    "\\end{bmatrix}}\n",
    "\\cdot\n",
    "\\underset{\\text{User's preferences}}{\n",
    "\\begin{bmatrix} \n",
    "Comedy = 5 \\\\\n",
    "Drama = 0 \n",
    "\\end{bmatrix}}\n",
    "+\n",
    "\\underset{\\text{User's preferences, assume = 0}}\n",
    "{bias}\n",
    "= 4.95 \n",
    "$$"
   ]
  },
  {
   "cell_type": "markdown",
   "metadata": {},
   "source": [
    "Therefore, loss function is\n",
    "\n",
    "$$Loss(i = {Film},j = {User})= x_i \\cdot w_j + b_j - y_{i,j}$$\n",
    "\n",
    "Cost function fur user $j$:\n",
    "\n",
    "$$\\underset{\\text{Cost function for User=j}}{J(w_j, b_j)} = \\frac{1}{2m_j} \\cdot \\sum_{rated-only} (x_i \\cdot w_j + b_j - y_{i,j})^2 + \\frac{\\lambda}{2m_j} \\sum_{k}^{features} {w_j}_k^2$$\n",
    "\n",
    "<i>For some reason, lecturer removed constant $m$ but left other constants. Go figure.</i>\n",
    "\n",
    "$$\\underset{\\text{Cost function for User=j}}{J(w_j, b_j)} = \\frac{1}{2} \\cdot \\sum_{rated-only} (x_i \\cdot w_j + b_j - y_{i,j})^2 + \\frac{\\lambda}{2} \\sum_{k}^{features} {w_j}_k^2$$\n",
    "\n",
    "Cots function for all users:\n",
    "\n",
    "$$\\underset{\\text{All Users}}{J(w, b)} = \\frac{1}{2} \\cdot \\sum_{j}^{users} \\sum_{rated-only} {(x_i \\cdot w_j + b_j - y_{i,j})^2} + \\frac{\\lambda}{2} \\sum_{j}^{users} \\sum_{k}^{features}{w_{j,k}^2}$$"
   ]
  },
  {
   "cell_type": "markdown",
   "metadata": {},
   "source": [
    "### Part 2 - assume we have Table $W$\n",
    "(but we don't have table $X$)"
   ]
  },
  {
   "cell_type": "markdown",
   "metadata": {},
   "source": [
    "Guess the features $X$ based on the colalborative ratings $W * X = Data$\n",
    "\n",
    "With one user this will not be possible, but when we have enough data we can guess $X$. Then the logic is the same for the Cost function $J(x)$:"
   ]
  },
  {
   "cell_type": "markdown",
   "metadata": {},
   "source": [
    "$$\\underset{\\text{One feature}}{J(x_i)} = \\frac{1}{2} \\cdot \\sum_{rated-only} {(w_j \\cdot  x_i + b_j - y_{i,j})^2} + \\frac{\\lambda}{2} \\sum_{i}^{features}{ {x_i}_{k}^2}$$"
   ]
  },
  {
   "cell_type": "markdown",
   "metadata": {},
   "source": [
    "Cost function for all features:"
   ]
  },
  {
   "cell_type": "markdown",
   "metadata": {},
   "source": [
    "$$\\underset{\\text{All Features}}{J(x)} = \\frac{1}{2} \\cdot \\sum_{i}^{features} \\sum_{rated only} {(w_j \\cdot x_i + b_j - y_{i,j})^2} + \\frac{\\lambda}{2} \\sum_{i}^{features} \\sum_{k}^{users}{ x_{i,k}^2}$$"
   ]
  },
  {
   "cell_type": "markdown",
   "metadata": {},
   "source": [
    "### Part 3 - Full formula\n",
    "\n",
    "Put both part 1 and part 2 together:"
   ]
  },
  {
   "cell_type": "markdown",
   "metadata": {},
   "source": [
    "$${J(w,b,x)} = \\frac{1}{2} \\cdot \\sum_{i,j}^{features, users} \\sum_{rated only} {(x_i \\cdot w_j + b_j - y_{i,j})^2} + \\frac{\\lambda}{2} \\sum_{j}^{users} \\sum_{k}^{features}{ w_{k,j}^2} + \\frac{\\lambda}{2} \\sum_{j}^{features} \\sum_{k}^{users}{ x_{k,j}^2}$$"
   ]
  },
  {
   "cell_type": "markdown",
   "metadata": {},
   "source": [
    "### Part 4 - Gradient Descent\n",
    "\n",
    "To minimize the cost function $J(w,b,x)$ we apply Gradient Descent:"
   ]
  },
  {
   "cell_type": "markdown",
   "metadata": {},
   "source": [
    "$$\n",
    "\\left\\{\n",
    "\\begin{array}{l}\n",
    "w_{i,j} = w_{i,j} - \\alpha \\frac{\\partial}{\\partial w_{i,j}} J(w,b,x) \\\\\n",
    "b_j = b_j - \\alpha \\frac{\\partial}{\\partial b_j} J(w,b,x) \\\\\n",
    "x_{k,i} = x_{k,i} - \\alpha \\frac{\\partial}{\\partial x_{k,i}} J(w,b,x)\n",
    "\\end{array}\n",
    "\\right.\n",
    "$$\n",
    "\n",
    "where\n",
    "\n",
    "- $w_{i,j}$ is the weight of a feature $i$ and user $j$\n",
    "- $b_j$ is the bias of user $j$\n",
    "- $x_{k,i}$ is the weight of a feature $k$ and feature $i$\n",
    "\n"
   ]
  },
  {
   "cell_type": "markdown",
   "metadata": {},
   "source": [
    "### Part 5 - Binary classification (sigmoid)"
   ]
  },
  {
   "cell_type": "markdown",
   "metadata": {},
   "source": [
    "In case our data looks like that:\n",
    "\n",
    "| Films   | User 1 | User 2 | User 3 | User 4 |\n",
    "|---------|--------|--------|--------|--------|\n",
    "| Movie 1 |1      | 1      |0      | 0 |\n",
    "| Movie 2 | 1      | <span style=\"color:red\">?</span> | <span style=\"color:red\">?</span> | 0      |\n",
    "| Movie 3 | <span style=\"color:red\">?</span> | 1      | 0      | <span style=\"color:red\">?</span> |\n",
    "| Movie 4 | 0      | 0      | 1      | 1      |\n",
    "| Movie 5 | 0      | 0      | 1      | <span style=\"color:red\">?</span> |\n",
    "\n",
    "where \n",
    "* 1 - liked \n",
    "* 0 - disliked\n",
    "* ? - not evaluated"
   ]
  },
  {
   "cell_type": "markdown",
   "metadata": {},
   "source": [
    "Cost function $J(w,b,x)$ becomes:\n",
    "\n",
    "$$J(w,b,x) = \\sum_{i,j}^{features, users} \\sum_{rated only} Loss (gf_{w,b,x}(x),y_{i,j})$$\n",
    ", where\n",
    "$$g(z) = \\frac{1}{1+e^{-z}} => gf_{w,b,x}(x) = \\frac{1}{1+e^{-w_j \\cdot x_i - b_j}}$$\n",
    "$$Loss(gf(x),y_{i,j}) = -[y_{i,j} \\cdot log(gf_{w,b,x}(x)) + (1 - y_{i,j}) \\cdot log(1-gf_{w,b,x}(x))]$$\n",
    "\n"
   ]
  },
  {
   "cell_type": "markdown",
   "metadata": {},
   "source": [
    "### Part 6 - a new user\n",
    "\n",
    "New users don't have any ratings - all values in column are equal to \"?\". Due to regularization, therefore $w_{user-j} = 0$, and $b_{user-j} = 0$.\n",
    "\n",
    "This is a problem in minimizing cost function $J(w,b,x)$\n",
    "\n",
    "$$\n",
    "Data = \n",
    "\\begin{bmatrix}\n",
    "5 & 5 & 0 & 0 & ? \\\\\n",
    "5 & ? & ? & 0 & ? \\\\\n",
    "? & 4 & 0 & ? & ? \\\\\n",
    "0 & 0 & 5 & 4 & ? \\\\\n",
    "0 & 0 & 5 & 0 & ?\n",
    "\\end{bmatrix}\n",
    "$$\n",
    "\n",
    "<b>Solution:</b>\n",
    "\n",
    "Normalize all ratings by substracting $\\mu$ - a mean user's rating for a film.\n",
    "\n",
    "$$\n",
    "\\mu = \n",
    "\n",
    "\\begin{bmatrix}\n",
    "2.5 \\\\\n",
    "2.5 \\\\\n",
    "2 \\\\\n",
    "2.25 \\\\\n",
    "1.25\n",
    "\\end{bmatrix}\n",
    "$$\n",
    "\n",
    "A resulted data will become normalized:\n",
    "\n",
    "$$\n",
    "Data - \\mu =\n",
    "\\begin{bmatrix}\n",
    "2.5 & 2.5 & -2.5 & -2.5 & ? \\\\\n",
    "2.5 & ? & ? & -2.5 & ? \\\\\n",
    "? & 2 & -2 & ? & ? \\\\\n",
    "-2.25 & -2.25 & 2.75 & 1.75 & ? \\\\\n",
    "-1.25 & -1.25 & 3.75 & -1.25 & ?\n",
    "\\end{bmatrix}\n",
    "$$\n",
    "\n",
    "\n",
    "Then, for a new user $j$ we will predict $w_j \\cdot x_1 + b_j + \\mu_{1} = 2.5$"
   ]
  }
 ],
 "metadata": {
  "kernelspec": {
   "display_name": ".venv",
   "language": "python",
   "name": "python3"
  },
  "language_info": {
   "name": "python",
   "version": "3.11.6"
  }
 },
 "nbformat": 4,
 "nbformat_minor": 2
}
